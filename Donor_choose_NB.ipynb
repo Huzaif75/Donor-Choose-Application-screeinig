{
  "cells": [
    {
      "cell_type": "markdown",
      "metadata": {
        "id": "Dnubs-Nnb3cw"
      },
      "source": [
        "# Assignment 6: Apply NB"
      ]
    },
    {
      "cell_type": "markdown",
      "metadata": {
        "id": "RW0zYHb5m_wI"
      },
      "source": [
        "<ol>\n",
        "    <li>Minimum data points need to be considered for people having 4GB RAM is <strong>50k</strong> and for 8GB RAM is <strong>100k</strong></li>\n",
        "    <li>When you are using ramdomsearchcv or gridsearchcv you need not split the data into X_train,X_cv,X_test. As the above methods use kfold. The model will learn better if train data is more so splitting to X_train,X_test will suffice.</li>\n",
        "    <li>If you are writing for loops to tune your model then you need split the data into X_train,X_cv,X_test.</li>\n",
        "    <li>While splitting the data explore stratify parameter. </li>\n",
        "    <li><strong>Apply Multinomial NB on these feature sets</strong></li>\n",
        "        <ul>\n",
        "            <li>Features that need to be considered</li> \n",
        "                <dl>\n",
        "                  <dt>essay</dt>\n",
        "                    <dd>while encoding essay, try to experiment with the max_features and n_grams parameter of vectorizers and see if it increases AUC score.</dd>\n",
        "                  <dt>categorical features</dt>\n",
        "                  <dd> - teacher_prefix</dd>\n",
        "                  <dd> - project_grade_category</dd>\n",
        "                  <dd> - school_state</dd>\n",
        "                  <dd> - clean_categories</dd>\n",
        "                  <dd> - clean_subcategories</dd>\n",
        "                  <dt>numerical features</dt>\n",
        "                  <dd> - price</dd>\n",
        "                  <dd> - teacher_number_of_previously_posted_projects</dd>\n",
        "                  <dd>while encoding the numerical features check <a href='https://imgur.com/ldZA1zg'>this</a> and <a href='https://ac-classroom-production.s3.amazonaws.com/public/COMMENT/Annotation_2020-05-21_225912_0lyZzN8.jpg'>this</a></dd>\n",
        "                </dl>    \n",
        "            <li><font color='red'>Set 1</font>: categorical, numerical features + preprocessed_eassay (BOW)</li>\n",
        "            <li><font color='red'>Set 2</font>: categorical, numerical features + preprocessed_eassay (TFIDF)</li>\n",
        "        </ul>\n",
        "    <li><strong>The hyper paramter tuning(find best alpha:smoothing parameter)</strong>\n",
        "        <ul>\n",
        "    <li>Consider alpha values in range: 10^-5 to 10^2 like [0.00001,0.0005, 0.0001,0.005,0.001,0.05,0.01,0.1,0.5,1,5,10,50,100]</li>\n",
        "    <li>Explore class_prior = [0.5, 0.5] parameter which can be present in MultinomialNB function(go through <a href='https://scikit-learn.org/stable/modules/generated/sklearn.naive_bayes.MultinomialNB.html'>this</a> ) then check how results might change.\n",
        "    <li>Find the best hyper parameter which will give the maximum <a href='https://www.appliedaicourse.com/course/applied-ai-course-online/lessons/receiver-operating-characteristic-curve-roc-curve-and-auc-1/'>AUC</a> value</li>\n",
        "    <li>For hyper parameter tuning using k-fold cross validation(use GridsearchCV or RandomsearchCV)/simple cross validation data (write for loop to iterate over hyper parameter values)</li>\n",
        "    <li>You need to plot the performance of model both on train data and cross validation data for each hyper parameter, like shown in the figure\n",
        "    <img src='https://i.imgur.com/hUv6aEy.jpg' width=300px><dd>-while plotting take log(alpha) on your X-axis so that it will be more readable</dd></li>\n",
        "    <li>Once after you found the best hyper parameter, you need to train your model with it, and find the AUC on test data and plot the ROC curve on both train and test.\n",
        "    <img src='https://imgur.com/q2P65L5.jpg' width=300px></li>\n",
        "    <li>Along with plotting ROC curve, you need to print the <a href='https://www.appliedaicourse.com/course/applied-ai-course-online/lessons/confusion-matrix-tpr-fpr-fnr-tnr-1/'>confusion matrix</a> with predicted and original labels of test data points\n",
        "        <img src='https://i.imgur.com/IdN5Ctv.png' width=300px><dd>-plot the confusion matrix in heatmaps, while plotting the confusion matrix go through the <a href='https://stackoverflow.com/questions/61748441/how-to-fix-the-values-displayed-in-a-confusion-matrix-in-exponential-form-to-nor'>link </a>\n",
        "</dd></li>\n",
        "        </ul>\n",
        "<li>find the top 20 features from either from feature <font color='red'>Set 1</font> or feature <font color='red'>Set 2</font> using values of `feature_log_prob_ ` parameter of `MultinomialNB` \n",
        "(https://scikit-learn.org/stable/modules/generated/sklearn.naive_bayes.MultinomialNB.html) and print <strong>BOTH</strong> positive as well as negative corresponding feature names. <dd> - go through the <a href='https://imgur.com/mWvE7gj'>link </a> </dd>\n",
        "    </li>\n",
        "    <li>You need to summarize the results at the end of the notebook, summarize it in the table format\n",
        "        <img src='http://i.imgur.com/YVpIGGE.jpg' width=400px>\n",
        "    </li>\n",
        "</ol>"
      ]
    },
    {
      "cell_type": "markdown",
      "metadata": {
        "id": "inzYCIaib3c3"
      },
      "source": [
        "<h1>2. Naive Bayes </h1>"
      ]
    },
    {
      "cell_type": "markdown",
      "metadata": {
        "id": "FYqCIxzFb3c5"
      },
      "source": [
        "## 1.1 Loading Data"
      ]
    },
    {
      "cell_type": "code",
      "execution_count": 1,
      "metadata": {
        "id": "dA1jknyqb3c_",
        "colab": {
          "base_uri": "https://localhost:8080/"
        },
        "outputId": "ad5c0647-aa29-49b7-9d23-69b32549cf95"
      },
      "outputs": [
        {
          "output_type": "stream",
          "name": "stdout",
          "text": [
            "The shape of the data is :  (50000, 9)\n"
          ]
        }
      ],
      "source": [
        "#make sure you are loading atleast 50k datapoints\n",
        "#you can work with features of preprocessed_data.csv for the assignment.\n",
        "# If you want to add more features, you can add. (This is purely optional, not mandatory)\n",
        "\n",
        "import pandas as pd\n",
        "data = pd.read_csv('preprocessed_data.csv',nrows=50000)\n",
        "print('The shape of the data is : ',data.shape)"
      ]
    },
    {
      "cell_type": "code",
      "source": [
        "data.head()"
      ],
      "metadata": {
        "colab": {
          "base_uri": "https://localhost:8080/",
          "height": 704
        },
        "id": "eGzlVY7PywW_",
        "outputId": "938e8058-d222-4f48-eb3f-f070d92e6586"
      },
      "execution_count": 2,
      "outputs": [
        {
          "output_type": "execute_result",
          "data": {
            "text/html": [
              "\n",
              "  <div id=\"df-a87257fd-3cb0-43ba-8938-aa925935c945\">\n",
              "    <div class=\"colab-df-container\">\n",
              "      <div>\n",
              "<style scoped>\n",
              "    .dataframe tbody tr th:only-of-type {\n",
              "        vertical-align: middle;\n",
              "    }\n",
              "\n",
              "    .dataframe tbody tr th {\n",
              "        vertical-align: top;\n",
              "    }\n",
              "\n",
              "    .dataframe thead th {\n",
              "        text-align: right;\n",
              "    }\n",
              "</style>\n",
              "<table border=\"1\" class=\"dataframe\">\n",
              "  <thead>\n",
              "    <tr style=\"text-align: right;\">\n",
              "      <th></th>\n",
              "      <th>school_state</th>\n",
              "      <th>teacher_prefix</th>\n",
              "      <th>project_grade_category</th>\n",
              "      <th>teacher_number_of_previously_posted_projects</th>\n",
              "      <th>project_is_approved</th>\n",
              "      <th>clean_categories</th>\n",
              "      <th>clean_subcategories</th>\n",
              "      <th>essay</th>\n",
              "      <th>price</th>\n",
              "    </tr>\n",
              "  </thead>\n",
              "  <tbody>\n",
              "    <tr>\n",
              "      <th>0</th>\n",
              "      <td>ca</td>\n",
              "      <td>mrs</td>\n",
              "      <td>grades_prek_2</td>\n",
              "      <td>53</td>\n",
              "      <td>1</td>\n",
              "      <td>math_science</td>\n",
              "      <td>appliedsciences health_lifescience</td>\n",
              "      <td>i fortunate enough use fairy tale stem kits cl...</td>\n",
              "      <td>725.05</td>\n",
              "    </tr>\n",
              "    <tr>\n",
              "      <th>1</th>\n",
              "      <td>ut</td>\n",
              "      <td>ms</td>\n",
              "      <td>grades_3_5</td>\n",
              "      <td>4</td>\n",
              "      <td>1</td>\n",
              "      <td>specialneeds</td>\n",
              "      <td>specialneeds</td>\n",
              "      <td>imagine 8 9 years old you third grade classroo...</td>\n",
              "      <td>213.03</td>\n",
              "    </tr>\n",
              "    <tr>\n",
              "      <th>2</th>\n",
              "      <td>ca</td>\n",
              "      <td>mrs</td>\n",
              "      <td>grades_prek_2</td>\n",
              "      <td>10</td>\n",
              "      <td>1</td>\n",
              "      <td>literacy_language</td>\n",
              "      <td>literacy</td>\n",
              "      <td>having class 24 students comes diverse learner...</td>\n",
              "      <td>329.00</td>\n",
              "    </tr>\n",
              "    <tr>\n",
              "      <th>3</th>\n",
              "      <td>ga</td>\n",
              "      <td>mrs</td>\n",
              "      <td>grades_prek_2</td>\n",
              "      <td>2</td>\n",
              "      <td>1</td>\n",
              "      <td>appliedlearning</td>\n",
              "      <td>earlydevelopment</td>\n",
              "      <td>i recently read article giving students choice...</td>\n",
              "      <td>481.04</td>\n",
              "    </tr>\n",
              "    <tr>\n",
              "      <th>4</th>\n",
              "      <td>wa</td>\n",
              "      <td>mrs</td>\n",
              "      <td>grades_3_5</td>\n",
              "      <td>2</td>\n",
              "      <td>1</td>\n",
              "      <td>literacy_language</td>\n",
              "      <td>literacy</td>\n",
              "      <td>my students crave challenge eat obstacles brea...</td>\n",
              "      <td>17.74</td>\n",
              "    </tr>\n",
              "  </tbody>\n",
              "</table>\n",
              "</div>\n",
              "      <button class=\"colab-df-convert\" onclick=\"convertToInteractive('df-a87257fd-3cb0-43ba-8938-aa925935c945')\"\n",
              "              title=\"Convert this dataframe to an interactive table.\"\n",
              "              style=\"display:none;\">\n",
              "        \n",
              "  <svg xmlns=\"http://www.w3.org/2000/svg\" height=\"24px\"viewBox=\"0 0 24 24\"\n",
              "       width=\"24px\">\n",
              "    <path d=\"M0 0h24v24H0V0z\" fill=\"none\"/>\n",
              "    <path d=\"M18.56 5.44l.94 2.06.94-2.06 2.06-.94-2.06-.94-.94-2.06-.94 2.06-2.06.94zm-11 1L8.5 8.5l.94-2.06 2.06-.94-2.06-.94L8.5 2.5l-.94 2.06-2.06.94zm10 10l.94 2.06.94-2.06 2.06-.94-2.06-.94-.94-2.06-.94 2.06-2.06.94z\"/><path d=\"M17.41 7.96l-1.37-1.37c-.4-.4-.92-.59-1.43-.59-.52 0-1.04.2-1.43.59L10.3 9.45l-7.72 7.72c-.78.78-.78 2.05 0 2.83L4 21.41c.39.39.9.59 1.41.59.51 0 1.02-.2 1.41-.59l7.78-7.78 2.81-2.81c.8-.78.8-2.07 0-2.86zM5.41 20L4 18.59l7.72-7.72 1.47 1.35L5.41 20z\"/>\n",
              "  </svg>\n",
              "      </button>\n",
              "      \n",
              "  <style>\n",
              "    .colab-df-container {\n",
              "      display:flex;\n",
              "      flex-wrap:wrap;\n",
              "      gap: 12px;\n",
              "    }\n",
              "\n",
              "    .colab-df-convert {\n",
              "      background-color: #E8F0FE;\n",
              "      border: none;\n",
              "      border-radius: 50%;\n",
              "      cursor: pointer;\n",
              "      display: none;\n",
              "      fill: #1967D2;\n",
              "      height: 32px;\n",
              "      padding: 0 0 0 0;\n",
              "      width: 32px;\n",
              "    }\n",
              "\n",
              "    .colab-df-convert:hover {\n",
              "      background-color: #E2EBFA;\n",
              "      box-shadow: 0px 1px 2px rgba(60, 64, 67, 0.3), 0px 1px 3px 1px rgba(60, 64, 67, 0.15);\n",
              "      fill: #174EA6;\n",
              "    }\n",
              "\n",
              "    [theme=dark] .colab-df-convert {\n",
              "      background-color: #3B4455;\n",
              "      fill: #D2E3FC;\n",
              "    }\n",
              "\n",
              "    [theme=dark] .colab-df-convert:hover {\n",
              "      background-color: #434B5C;\n",
              "      box-shadow: 0px 1px 3px 1px rgba(0, 0, 0, 0.15);\n",
              "      filter: drop-shadow(0px 1px 2px rgba(0, 0, 0, 0.3));\n",
              "      fill: #FFFFFF;\n",
              "    }\n",
              "  </style>\n",
              "\n",
              "      <script>\n",
              "        const buttonEl =\n",
              "          document.querySelector('#df-a87257fd-3cb0-43ba-8938-aa925935c945 button.colab-df-convert');\n",
              "        buttonEl.style.display =\n",
              "          google.colab.kernel.accessAllowed ? 'block' : 'none';\n",
              "\n",
              "        async function convertToInteractive(key) {\n",
              "          const element = document.querySelector('#df-a87257fd-3cb0-43ba-8938-aa925935c945');\n",
              "          const dataTable =\n",
              "            await google.colab.kernel.invokeFunction('convertToInteractive',\n",
              "                                                     [key], {});\n",
              "          if (!dataTable) return;\n",
              "\n",
              "          const docLinkHtml = 'Like what you see? Visit the ' +\n",
              "            '<a target=\"_blank\" href=https://colab.research.google.com/notebooks/data_table.ipynb>data table notebook</a>'\n",
              "            + ' to learn more about interactive tables.';\n",
              "          element.innerHTML = '';\n",
              "          dataTable['output_type'] = 'display_data';\n",
              "          await google.colab.output.renderOutput(dataTable, element);\n",
              "          const docLink = document.createElement('div');\n",
              "          docLink.innerHTML = docLinkHtml;\n",
              "          element.appendChild(docLink);\n",
              "        }\n",
              "      </script>\n",
              "    </div>\n",
              "  </div>\n",
              "  "
            ],
            "text/plain": [
              "  school_state  ...   price\n",
              "0           ca  ...  725.05\n",
              "1           ut  ...  213.03\n",
              "2           ca  ...  329.00\n",
              "3           ga  ...  481.04\n",
              "4           wa  ...   17.74\n",
              "\n",
              "[5 rows x 9 columns]"
            ]
          },
          "metadata": {},
          "execution_count": 2
        }
      ]
    },
    {
      "cell_type": "code",
      "execution_count": 3,
      "metadata": {
        "id": "_rxZ4yMF0uIq"
      },
      "outputs": [],
      "source": [
        "# write your code in following steps for task 1\n",
        "# 1. Split your data.\n",
        "# 2. Perform Bag of Words Vectorization of text data.\n",
        "# 3. Perform tfidf vectorization of text data.\n",
        "# 4. perform one-hot encoding of categorical features.\n",
        "# 5. perform normalization of numerical features\n",
        "# 6. For set 1 stack up all the features using hstack()\n",
        "# 7. For set 2 stack up all the features using hstack()\n",
        "# 8. Perform hyperparameter tuning and represent the training and cross-validation AUC scores for different 'alpha' values, using a 2D line plot.\n",
        "# 9. Find the best hyperparameter 'alpha' and fit the model. Plot ROC-AUC curve(by obtaining the probabilities using 'predict proba' method)\n",
        "# 10. Plot confusion matrix based on the best threshold value\n",
        "# 11. Either for the model in set 1 or in set 2, print the top 20 features(you have to print the names, not the indexes) associated with the positive and negative classes each.\n",
        "# 12. Summarize your observations and compare both the models(ie., from set 1 and set 2) in terms of optimal hyperparameter value, train AUC and test AUC scores. \n",
        "# 13. You can use Prettytable or any other tabular format for comparison.\n",
        "\n",
        "\n",
        "# please write all the code with proper documentation, and proper titles for each subsection\n",
        "# go through documentations and blogs before you start coding\n",
        "# first figure out what to do, and then think about how to do.\n",
        "# reading and understanding error messages will be very much helpfull in debugging your code\n",
        "# when you plot any graph make sure you use \n",
        "    # a. Title, that describes your plot, this will be very helpful to the reader\n",
        "    # b. Legends if needed\n",
        "    # c. X-axis label\n",
        "    # d. Y-axis label\n",
        "    "
      ]
    },
    {
      "cell_type": "code",
      "execution_count": 4,
      "metadata": {
        "id": "i-PyprDNb3dI"
      },
      "outputs": [],
      "source": [
        "# Split the dataset \n",
        "# 1) If you want to apply simple cross-validation, split the dataset into 3 parts (ie., train, CV and test sets)\n",
        "# 2) If you want to apply K-fold CV (or) GridSearch Cross Validation (or) Randomized Search Cross Validation, just split the dataset into 2 parts (ie., train and test sets)\n",
        "\n"
      ]
    },
    {
      "cell_type": "code",
      "source": [
        "y=data['project_is_approved'].values\n",
        "X=data.drop(['project_is_approved'],axis=1)\n",
        "X.head(1)"
      ],
      "metadata": {
        "colab": {
          "base_uri": "https://localhost:8080/",
          "height": 249
        },
        "id": "r9aaObQuligs",
        "outputId": "ef4619d9-071b-40d9-cefc-d3905ee8978c"
      },
      "execution_count": 5,
      "outputs": [
        {
          "output_type": "execute_result",
          "data": {
            "text/html": [
              "\n",
              "  <div id=\"df-c0392175-6174-4505-865e-f28f8ee11528\">\n",
              "    <div class=\"colab-df-container\">\n",
              "      <div>\n",
              "<style scoped>\n",
              "    .dataframe tbody tr th:only-of-type {\n",
              "        vertical-align: middle;\n",
              "    }\n",
              "\n",
              "    .dataframe tbody tr th {\n",
              "        vertical-align: top;\n",
              "    }\n",
              "\n",
              "    .dataframe thead th {\n",
              "        text-align: right;\n",
              "    }\n",
              "</style>\n",
              "<table border=\"1\" class=\"dataframe\">\n",
              "  <thead>\n",
              "    <tr style=\"text-align: right;\">\n",
              "      <th></th>\n",
              "      <th>school_state</th>\n",
              "      <th>teacher_prefix</th>\n",
              "      <th>project_grade_category</th>\n",
              "      <th>teacher_number_of_previously_posted_projects</th>\n",
              "      <th>clean_categories</th>\n",
              "      <th>clean_subcategories</th>\n",
              "      <th>essay</th>\n",
              "      <th>price</th>\n",
              "    </tr>\n",
              "  </thead>\n",
              "  <tbody>\n",
              "    <tr>\n",
              "      <th>0</th>\n",
              "      <td>ca</td>\n",
              "      <td>mrs</td>\n",
              "      <td>grades_prek_2</td>\n",
              "      <td>53</td>\n",
              "      <td>math_science</td>\n",
              "      <td>appliedsciences health_lifescience</td>\n",
              "      <td>i fortunate enough use fairy tale stem kits cl...</td>\n",
              "      <td>725.05</td>\n",
              "    </tr>\n",
              "  </tbody>\n",
              "</table>\n",
              "</div>\n",
              "      <button class=\"colab-df-convert\" onclick=\"convertToInteractive('df-c0392175-6174-4505-865e-f28f8ee11528')\"\n",
              "              title=\"Convert this dataframe to an interactive table.\"\n",
              "              style=\"display:none;\">\n",
              "        \n",
              "  <svg xmlns=\"http://www.w3.org/2000/svg\" height=\"24px\"viewBox=\"0 0 24 24\"\n",
              "       width=\"24px\">\n",
              "    <path d=\"M0 0h24v24H0V0z\" fill=\"none\"/>\n",
              "    <path d=\"M18.56 5.44l.94 2.06.94-2.06 2.06-.94-2.06-.94-.94-2.06-.94 2.06-2.06.94zm-11 1L8.5 8.5l.94-2.06 2.06-.94-2.06-.94L8.5 2.5l-.94 2.06-2.06.94zm10 10l.94 2.06.94-2.06 2.06-.94-2.06-.94-.94-2.06-.94 2.06-2.06.94z\"/><path d=\"M17.41 7.96l-1.37-1.37c-.4-.4-.92-.59-1.43-.59-.52 0-1.04.2-1.43.59L10.3 9.45l-7.72 7.72c-.78.78-.78 2.05 0 2.83L4 21.41c.39.39.9.59 1.41.59.51 0 1.02-.2 1.41-.59l7.78-7.78 2.81-2.81c.8-.78.8-2.07 0-2.86zM5.41 20L4 18.59l7.72-7.72 1.47 1.35L5.41 20z\"/>\n",
              "  </svg>\n",
              "      </button>\n",
              "      \n",
              "  <style>\n",
              "    .colab-df-container {\n",
              "      display:flex;\n",
              "      flex-wrap:wrap;\n",
              "      gap: 12px;\n",
              "    }\n",
              "\n",
              "    .colab-df-convert {\n",
              "      background-color: #E8F0FE;\n",
              "      border: none;\n",
              "      border-radius: 50%;\n",
              "      cursor: pointer;\n",
              "      display: none;\n",
              "      fill: #1967D2;\n",
              "      height: 32px;\n",
              "      padding: 0 0 0 0;\n",
              "      width: 32px;\n",
              "    }\n",
              "\n",
              "    .colab-df-convert:hover {\n",
              "      background-color: #E2EBFA;\n",
              "      box-shadow: 0px 1px 2px rgba(60, 64, 67, 0.3), 0px 1px 3px 1px rgba(60, 64, 67, 0.15);\n",
              "      fill: #174EA6;\n",
              "    }\n",
              "\n",
              "    [theme=dark] .colab-df-convert {\n",
              "      background-color: #3B4455;\n",
              "      fill: #D2E3FC;\n",
              "    }\n",
              "\n",
              "    [theme=dark] .colab-df-convert:hover {\n",
              "      background-color: #434B5C;\n",
              "      box-shadow: 0px 1px 3px 1px rgba(0, 0, 0, 0.15);\n",
              "      filter: drop-shadow(0px 1px 2px rgba(0, 0, 0, 0.3));\n",
              "      fill: #FFFFFF;\n",
              "    }\n",
              "  </style>\n",
              "\n",
              "      <script>\n",
              "        const buttonEl =\n",
              "          document.querySelector('#df-c0392175-6174-4505-865e-f28f8ee11528 button.colab-df-convert');\n",
              "        buttonEl.style.display =\n",
              "          google.colab.kernel.accessAllowed ? 'block' : 'none';\n",
              "\n",
              "        async function convertToInteractive(key) {\n",
              "          const element = document.querySelector('#df-c0392175-6174-4505-865e-f28f8ee11528');\n",
              "          const dataTable =\n",
              "            await google.colab.kernel.invokeFunction('convertToInteractive',\n",
              "                                                     [key], {});\n",
              "          if (!dataTable) return;\n",
              "\n",
              "          const docLinkHtml = 'Like what you see? Visit the ' +\n",
              "            '<a target=\"_blank\" href=https://colab.research.google.com/notebooks/data_table.ipynb>data table notebook</a>'\n",
              "            + ' to learn more about interactive tables.';\n",
              "          element.innerHTML = '';\n",
              "          dataTable['output_type'] = 'display_data';\n",
              "          await google.colab.output.renderOutput(dataTable, element);\n",
              "          const docLink = document.createElement('div');\n",
              "          docLink.innerHTML = docLinkHtml;\n",
              "          element.appendChild(docLink);\n",
              "        }\n",
              "      </script>\n",
              "    </div>\n",
              "  </div>\n",
              "  "
            ],
            "text/plain": [
              "  school_state  ...   price\n",
              "0           ca  ...  725.05\n",
              "\n",
              "[1 rows x 8 columns]"
            ]
          },
          "metadata": {},
          "execution_count": 5
        }
      ]
    },
    {
      "cell_type": "markdown",
      "metadata": {
        "id": "WtVV13Fyb3dH"
      },
      "source": [
        "<h2>1.2 Splitting data into Train and cross validation(or test): Stratified Sampling</h2>"
      ]
    },
    {
      "cell_type": "code",
      "source": [
        "from sklearn.model_selection import train_test_split\n",
        "X_train,X_test,y_train,y_test=train_test_split(X, y, test_size=0.33, stratify=y)"
      ],
      "metadata": {
        "id": "HHZjKGb-jJSw"
      },
      "execution_count": 6,
      "outputs": []
    },
    {
      "cell_type": "code",
      "source": [
        "print(X_train.shape,y_train.shape)\n",
        "print(X_test.shape,y_test.shape)"
      ],
      "metadata": {
        "colab": {
          "base_uri": "https://localhost:8080/"
        },
        "id": "qFnhxF8hz4eF",
        "outputId": "a908df59-0903-419f-aaa6-4868817a056e"
      },
      "execution_count": 7,
      "outputs": [
        {
          "output_type": "stream",
          "name": "stdout",
          "text": [
            "(33500, 8) (33500,)\n",
            "(16500, 8) (16500,)\n"
          ]
        }
      ]
    },
    {
      "cell_type": "markdown",
      "metadata": {
        "id": "EnZwVNULb3dO"
      },
      "source": [
        "<h2>1.3 Make Data Model Ready: encoding essay, and project_title</h2>"
      ]
    },
    {
      "cell_type": "code",
      "source": [
        "Preprocessed_Essay=data['essay'].values "
      ],
      "metadata": {
        "id": "p2yQlRvZlJ-c"
      },
      "execution_count": 8,
      "outputs": []
    },
    {
      "cell_type": "code",
      "execution_count": 9,
      "metadata": {
        "id": "8KFuq1sK0uIs"
      },
      "outputs": [],
      "source": [
        "# Apply Bag of Words (BOW) vectorization on 'Preprocessed_Essay' \n",
        "# Apply Bag of Words (BOW) vectorization on 'Preprocessed_Title' (Optional)"
      ]
    },
    {
      "cell_type": "code",
      "source": [
        "from sklearn.feature_extraction.text import CountVectorizer\n",
        "vectorizer_essay_bow= CountVectorizer(min_df=10,ngram_range=(1,4),max_features=5000)\n",
        "vectorizer_essay_bow.fit(X_train['essay'].values)\n",
        "\n",
        "X_train_essay_bow = vectorizer_essay_bow.transform(X_train['essay'].values)\n",
        "X_test_essay_bow = vectorizer_essay_bow.transform(X_test['essay'].values)\n",
        "\n",
        "print('.........After vectorization.........')\n",
        "print(X_train_essay_bow.shape,y_train.shape)\n",
        "print(X_test_essay_bow.shape,y_test.shape)\n",
        "print('.'*100)\n"
      ],
      "metadata": {
        "colab": {
          "base_uri": "https://localhost:8080/"
        },
        "id": "D8YoOBYjlM8_",
        "outputId": "b1833b4b-d152-4494-94bd-bf20f7385b7e"
      },
      "execution_count": 10,
      "outputs": [
        {
          "output_type": "stream",
          "name": "stdout",
          "text": [
            ".........After vectorization.........\n",
            "(33500, 5000) (33500,)\n",
            "(16500, 5000) (16500,)\n",
            "....................................................................................................\n"
          ]
        }
      ]
    },
    {
      "cell_type": "code",
      "execution_count": 11,
      "metadata": {
        "id": "HyD6q4Uz0uIs",
        "colab": {
          "base_uri": "https://localhost:8080/"
        },
        "outputId": "862136bf-c24c-4eff-bfaa-f4cd40f99258"
      },
      "outputs": [
        {
          "output_type": "stream",
          "name": "stdout",
          "text": [
            ".........After vectorization.........\n",
            "(33500, 10305) (33500,)\n",
            "(16500, 10305) (16500,)\n",
            "....................................................................................................\n"
          ]
        }
      ],
      "source": [
        "# Apply TF-IDF vectorization on 'Preprocessed_Essay' \n",
        "# Apply TF-IDF vectorization on 'Preprocessed_Title' (Optional)\n",
        "\n",
        "from sklearn.feature_extraction.text import TfidfVectorizer\n",
        "vectorizer_essay_tfidf= TfidfVectorizer(min_df=10)\n",
        "\n",
        "vectorizer_essay_tfidf.fit(X_train['essay'].values)\n",
        "\n",
        "X_train_essay_tfidf=vectorizer_essay_tfidf.transform(X_train['essay'].values)\n",
        "X_test_essay_tfidf=vectorizer_essay_tfidf.transform(X_test['essay'].values)\n",
        "\n",
        "print('.........After vectorization.........')\n",
        "print(X_train_essay_tfidf.shape,y_train.shape)\n",
        "print(X_test_essay_tfidf.shape,y_test.shape)\n",
        "print('.'*100)\n",
        "\n"
      ]
    },
    {
      "cell_type": "markdown",
      "metadata": {
        "id": "bGy86kgHb3dX"
      },
      "source": [
        "<h2>1.4 Make Data Model Ready: encoding numerical, categorical features</h2>"
      ]
    },
    {
      "cell_type": "code",
      "execution_count": 12,
      "metadata": {
        "id": "EfXkofX1b3da"
      },
      "outputs": [],
      "source": [
        "# Apply One-Hot Encoding on the categorical features either using OneHotEncoder() (or) CountVectorizer(binary=True)\n",
        "# Apply Normalization on the numerical features using Normalizer()."
      ]
    },
    {
      "cell_type": "markdown",
      "source": [
        "<h3>1.4.1 encoding categorical features: Teacher Prefix</h3>"
      ],
      "metadata": {
        "id": "D7fXxtuC8RZN"
      }
    },
    {
      "cell_type": "code",
      "source": [
        "vectorizer_prefix=CountVectorizer()\n",
        "vectorizer_prefix.fit(X_train['teacher_prefix'].values)\n",
        "\n",
        "X_train_teacher=vectorizer_prefix.transform(X_train['teacher_prefix'].values)\n",
        "X_test_teacher=vectorizer_prefix.transform(X_test['teacher_prefix'].values)\n",
        "\n",
        "print('.........After vectorization.........')\n",
        "print(X_train_teacher.shape,y_train.shape)\n",
        "print(X_test_teacher.shape,y_test.shape)\n",
        "print(vectorizer_prefix.get_feature_names())\n",
        "print('*'*100)"
      ],
      "metadata": {
        "colab": {
          "base_uri": "https://localhost:8080/"
        },
        "id": "dVx2XXA_8QrX",
        "outputId": "a4d16be6-5168-436f-d29e-a383a7c52a85"
      },
      "execution_count": 13,
      "outputs": [
        {
          "output_type": "stream",
          "name": "stdout",
          "text": [
            ".........After vectorization.........\n",
            "(33500, 5) (33500,)\n",
            "(16500, 5) (16500,)\n",
            "['dr', 'mr', 'mrs', 'ms', 'teacher']\n",
            "****************************************************************************************************\n"
          ]
        },
        {
          "output_type": "stream",
          "name": "stderr",
          "text": [
            "/usr/local/lib/python3.7/dist-packages/sklearn/utils/deprecation.py:87: FutureWarning: Function get_feature_names is deprecated; get_feature_names is deprecated in 1.0 and will be removed in 1.2. Please use get_feature_names_out instead.\n",
            "  warnings.warn(msg, category=FutureWarning)\n"
          ]
        }
      ]
    },
    {
      "cell_type": "markdown",
      "source": [
        "<h3>1.4.2 encoding categorical features: Project Grade Category <h3>"
      ],
      "metadata": {
        "id": "znhDMXC1GI7k"
      }
    },
    {
      "cell_type": "code",
      "source": [
        "vectorizer_grade= CountVectorizer()\n",
        "vectorizer_grade.fit(X_train['project_grade_category'].values)\n",
        "\n",
        "X_train_grade=vectorizer_grade.transform(X_train['project_grade_category'].values)\n",
        "X_test_grade=vectorizer_grade.transform(X_test['project_grade_category'].values)\n",
        "\n",
        "print('.........After vectorization.........')\n",
        "print(X_train_grade.shape,y_train.shape)\n",
        "print(X_test_grade.shape,y_test.shape)\n",
        "print(vectorizer_grade.get_feature_names())\n",
        "print('*'*100)"
      ],
      "metadata": {
        "colab": {
          "base_uri": "https://localhost:8080/"
        },
        "id": "SlqrONhX79cb",
        "outputId": "c347748a-d57e-414c-fd08-66e869f7cde4"
      },
      "execution_count": 14,
      "outputs": [
        {
          "output_type": "stream",
          "name": "stdout",
          "text": [
            ".........After vectorization.........\n",
            "(33500, 4) (33500,)\n",
            "(16500, 4) (16500,)\n",
            "['grades_3_5', 'grades_6_8', 'grades_9_12', 'grades_prek_2']\n",
            "****************************************************************************************************\n"
          ]
        },
        {
          "output_type": "stream",
          "name": "stderr",
          "text": [
            "/usr/local/lib/python3.7/dist-packages/sklearn/utils/deprecation.py:87: FutureWarning: Function get_feature_names is deprecated; get_feature_names is deprecated in 1.0 and will be removed in 1.2. Please use get_feature_names_out instead.\n",
            "  warnings.warn(msg, category=FutureWarning)\n"
          ]
        }
      ]
    },
    {
      "cell_type": "markdown",
      "source": [
        "<h3>1.4.3 encoding categorical features: School State <h3> "
      ],
      "metadata": {
        "id": "_YqwL6GlGkOY"
      }
    },
    {
      "cell_type": "code",
      "source": [
        "vectorizer_state=CountVectorizer()\n",
        "vectorizer_state.fit(X_train['school_state'].values)\n",
        "\n",
        "X_train_state=vectorizer_state.transform(X_train['school_state'].values)\n",
        "X_test_state=vectorizer_state.transform(X_test['school_state'].values)\n",
        "\n",
        "print('.........After vectorization.........')\n",
        "print(X_train_state.shape,y_train.shape)\n",
        "print(X_test_state.shape,y_test.shape)\n",
        "print(vectorizer_state.get_feature_names())\n",
        "print('*'*100)"
      ],
      "metadata": {
        "colab": {
          "base_uri": "https://localhost:8080/"
        },
        "id": "CqRADdhEE2jt",
        "outputId": "89e6ddd2-c416-4771-9b57-781dcd8d43fa"
      },
      "execution_count": 15,
      "outputs": [
        {
          "output_type": "stream",
          "name": "stdout",
          "text": [
            ".........After vectorization.........\n",
            "(33500, 51) (33500,)\n",
            "(16500, 51) (16500,)\n",
            "['ak', 'al', 'ar', 'az', 'ca', 'co', 'ct', 'dc', 'de', 'fl', 'ga', 'hi', 'ia', 'id', 'il', 'in', 'ks', 'ky', 'la', 'ma', 'md', 'me', 'mi', 'mn', 'mo', 'ms', 'mt', 'nc', 'nd', 'ne', 'nh', 'nj', 'nm', 'nv', 'ny', 'oh', 'ok', 'or', 'pa', 'ri', 'sc', 'sd', 'tn', 'tx', 'ut', 'va', 'vt', 'wa', 'wi', 'wv', 'wy']\n",
            "****************************************************************************************************\n"
          ]
        },
        {
          "output_type": "stream",
          "name": "stderr",
          "text": [
            "/usr/local/lib/python3.7/dist-packages/sklearn/utils/deprecation.py:87: FutureWarning: Function get_feature_names is deprecated; get_feature_names is deprecated in 1.0 and will be removed in 1.2. Please use get_feature_names_out instead.\n",
            "  warnings.warn(msg, category=FutureWarning)\n"
          ]
        }
      ]
    },
    {
      "cell_type": "markdown",
      "source": [
        "<h3> 1.4.4 encoding categorical features: Clean Categories <h3>"
      ],
      "metadata": {
        "id": "3yQfzqIgGq28"
      }
    },
    {
      "cell_type": "code",
      "source": [
        "vectorizer_categories= CountVectorizer()\n",
        "vectorizer_categories.fit(X_train['clean_categories'].values)\n",
        "\n",
        "X_train_categories=vectorizer_categories.transform(X_train['clean_categories'].values)\n",
        "X_test_categories=vectorizer_categories.transform(X_test['clean_categories'].values)\n",
        "\n",
        "print('.........After vectorization.........')\n",
        "print(X_train_categories.shape,y_train.shape)\n",
        "print(X_test_categories.shape,y_test.shape)\n",
        "print(vectorizer_categories.get_feature_names())\n",
        "print('*'*100)"
      ],
      "metadata": {
        "colab": {
          "base_uri": "https://localhost:8080/"
        },
        "id": "5PDZeu8QFSWp",
        "outputId": "1e8f1f6f-7661-4b87-e297-0ab0ff9852a8"
      },
      "execution_count": 16,
      "outputs": [
        {
          "output_type": "stream",
          "name": "stdout",
          "text": [
            ".........After vectorization.........\n",
            "(33500, 9) (33500,)\n",
            "(16500, 9) (16500,)\n",
            "['appliedlearning', 'care_hunger', 'health_sports', 'history_civics', 'literacy_language', 'math_science', 'music_arts', 'specialneeds', 'warmth']\n",
            "****************************************************************************************************\n"
          ]
        },
        {
          "output_type": "stream",
          "name": "stderr",
          "text": [
            "/usr/local/lib/python3.7/dist-packages/sklearn/utils/deprecation.py:87: FutureWarning: Function get_feature_names is deprecated; get_feature_names is deprecated in 1.0 and will be removed in 1.2. Please use get_feature_names_out instead.\n",
            "  warnings.warn(msg, category=FutureWarning)\n"
          ]
        }
      ]
    },
    {
      "cell_type": "markdown",
      "source": [
        "<h3>1.4.5 encoding categorical features: Clean Subcategories <h3>"
      ],
      "metadata": {
        "id": "4Xg-H3r5GzqB"
      }
    },
    {
      "cell_type": "code",
      "source": [
        "vectorizer_sub=CountVectorizer()\n",
        "vectorizer_sub.fit(X_train['clean_subcategories'].values)\n",
        "\n",
        "X_train_subcategories=vectorizer_sub.transform(X_train['clean_subcategories'].values)\n",
        "X_test_subcategories=vectorizer_sub.transform(X_test['clean_subcategories'].values)\n",
        "\n",
        "print('.........After vectorization.........')\n",
        "print(X_train_subcategories.shape,y_train.shape)\n",
        "print(X_test_subcategories.shape,y_test.shape)\n",
        "print(vectorizer_sub.get_feature_names())\n",
        "print('*'*100)"
      ],
      "metadata": {
        "colab": {
          "base_uri": "https://localhost:8080/"
        },
        "id": "oCBk90VZFThl",
        "outputId": "ad120bc7-101d-4d16-c3a4-b78bb516a063"
      },
      "execution_count": 17,
      "outputs": [
        {
          "output_type": "stream",
          "name": "stdout",
          "text": [
            ".........After vectorization.........\n",
            "(33500, 30) (33500,)\n",
            "(16500, 30) (16500,)\n",
            "['appliedsciences', 'care_hunger', 'charactereducation', 'civics_government', 'college_careerprep', 'communityservice', 'earlydevelopment', 'economics', 'environmentalscience', 'esl', 'extracurricular', 'financialliteracy', 'foreignlanguages', 'gym_fitness', 'health_lifescience', 'health_wellness', 'history_geography', 'literacy', 'literature_writing', 'mathematics', 'music', 'nutritioneducation', 'other', 'parentinvolvement', 'performingarts', 'socialsciences', 'specialneeds', 'teamsports', 'visualarts', 'warmth']\n",
            "****************************************************************************************************\n"
          ]
        },
        {
          "output_type": "stream",
          "name": "stderr",
          "text": [
            "/usr/local/lib/python3.7/dist-packages/sklearn/utils/deprecation.py:87: FutureWarning: Function get_feature_names is deprecated; get_feature_names is deprecated in 1.0 and will be removed in 1.2. Please use get_feature_names_out instead.\n",
            "  warnings.warn(msg, category=FutureWarning)\n"
          ]
        }
      ]
    },
    {
      "cell_type": "markdown",
      "source": [
        "<h2> 1.4 encoding numerical features <h2>"
      ],
      "metadata": {
        "id": "FIJKRYwnG_NZ"
      }
    },
    {
      "cell_type": "markdown",
      "source": [
        "<h3> 1.4.1 encoding numerical features : Price <h3>"
      ],
      "metadata": {
        "id": "ctQ53kIbHeDn"
      }
    },
    {
      "cell_type": "code",
      "source": [
        "from sklearn.preprocessing import Normalizer\n",
        "normalizer = Normalizer()\n",
        "\n",
        "normalizer.fit(X_train['price'].values.reshape((-1,1)))\n",
        "\n",
        "X_train_price_norm = normalizer.transform(X_train['price'].values.reshape(-1,1))\n",
        "X_test_price_norm = normalizer.transform(X_test['price'].values.reshape(-1,1))\n",
        "print('.........After vectorization.........')\n",
        "print(X_train_price_norm.shape,y_train.shape)\n",
        "print(X_test_price_norm.shape,y_test.shape)\n",
        "print('*'*100)\n"
      ],
      "metadata": {
        "colab": {
          "base_uri": "https://localhost:8080/"
        },
        "id": "-txcowmHHdrV",
        "outputId": "d090075d-3c83-4bfc-e191-36e6bde993e2"
      },
      "execution_count": 18,
      "outputs": [
        {
          "output_type": "stream",
          "name": "stdout",
          "text": [
            ".........After vectorization.........\n",
            "(33500, 1) (33500,)\n",
            "(16500, 1) (16500,)\n",
            "****************************************************************************************************\n"
          ]
        }
      ]
    },
    {
      "cell_type": "markdown",
      "source": [
        "<h3> 1.4.2 encoding numerical features : Teacher number of previously posted projects <h3>"
      ],
      "metadata": {
        "id": "C9BjwXdK6Kk4"
      }
    },
    {
      "cell_type": "code",
      "source": [
        "normalizer.fit(X_train['teacher_number_of_previously_posted_projects'].values.reshape(-1,1))\n",
        "\n",
        "X_train_posted_projects_norm=normalizer.transform(X_train['teacher_number_of_previously_posted_projects'].values.reshape(-1,1))\n",
        "X_test_posted_projects_norm= normalizer.transform(X_test['teacher_number_of_previously_posted_projects'].values.reshape(-1,1))\n",
        "\n",
        "print('.........After vectorization.........')\n",
        "print(X_train_posted_projects_norm.shape,y_train.shape)\n",
        "print(X_test_posted_projects_norm.shape,y_test.shape)\n",
        "print('*'*100)"
      ],
      "metadata": {
        "colab": {
          "base_uri": "https://localhost:8080/"
        },
        "id": "NZiK1NklRnbA",
        "outputId": "113e2cdc-9743-4356-feec-876f4d23912f"
      },
      "execution_count": 19,
      "outputs": [
        {
          "output_type": "stream",
          "name": "stdout",
          "text": [
            ".........After vectorization.........\n",
            "(33500, 1) (33500,)\n",
            "(16500, 1) (16500,)\n",
            "****************************************************************************************************\n"
          ]
        }
      ]
    },
    {
      "cell_type": "markdown",
      "metadata": {
        "id": "yYHPYadYb3dh"
      },
      "source": [
        "<h2>1.5 Appling NB on different kind of featurization as mentioned in the instructions</h2>\n",
        "\n",
        "<br>Apply NB on different kind of featurization as mentioned in the instructions\n",
        "<br> For Every model that you work on make sure you do the step 2 and step 3 of instrucations"
      ]
    },
    {
      "cell_type": "markdown",
      "metadata": {
        "id": "DNwqilFxb3di"
      },
      "source": [
        "#### Set 1"
      ]
    },
    {
      "cell_type": "markdown",
      "source": [
        "<h3> Merging all the features for set1: BOW <h3>"
      ],
      "metadata": {
        "id": "W4an3TSK6dkg"
      }
    },
    {
      "cell_type": "code",
      "execution_count": 20,
      "metadata": {
        "id": "r-6zJ3cH0uIt",
        "colab": {
          "base_uri": "https://localhost:8080/"
        },
        "outputId": "10b12925-f59a-436a-bde9-da11f5fa2909"
      },
      "outputs": [
        {
          "output_type": "stream",
          "name": "stdout",
          "text": [
            "Final Data Matrix\n",
            "(33500, 5101) (33500,)\n",
            "(16500, 5101) (16500,)\n",
            "****************************************************************************************************\n"
          ]
        }
      ],
      "source": [
        "# Perform Hyperparameter Tuning.\n",
        "# Plot the training and the CV AUC scores, for different values of 'alpha', using a 2D line plot\n",
        "\n",
        "from scipy.sparse import hstack\n",
        "X_tr=hstack((X_train_essay_bow,X_train_teacher,X_train_grade,X_train_state,X_train_categories,X_train_subcategories,X_train_price_norm,X_train_posted_projects_norm)).tocsr()\n",
        "X_te=hstack((X_test_essay_bow,X_test_teacher,X_test_grade,X_test_state,X_test_categories,X_test_subcategories,X_test_price_norm,X_test_posted_projects_norm)).tocsr()\n",
        "\n",
        "print('Final Data Matrix')\n",
        "print(X_tr.shape,y_train.shape)\n",
        "print(X_te.shape,y_test.shape)\n",
        "print('*'*100)"
      ]
    },
    {
      "cell_type": "code",
      "source": [
        "pip install sklearn"
      ],
      "metadata": {
        "colab": {
          "base_uri": "https://localhost:8080/"
        },
        "id": "hcg4bZlQP9B4",
        "outputId": "7b225fc9-e6a0-40bf-a954-d377f363f8c5"
      },
      "execution_count": 21,
      "outputs": [
        {
          "output_type": "stream",
          "name": "stdout",
          "text": [
            "Requirement already satisfied: sklearn in /usr/local/lib/python3.7/dist-packages (0.0)\n",
            "Requirement already satisfied: scikit-learn in /usr/local/lib/python3.7/dist-packages (from sklearn) (1.0.1)\n",
            "Requirement already satisfied: joblib>=0.11 in /usr/local/lib/python3.7/dist-packages (from scikit-learn->sklearn) (1.1.0)\n",
            "Requirement already satisfied: threadpoolctl>=2.0.0 in /usr/local/lib/python3.7/dist-packages (from scikit-learn->sklearn) (3.0.0)\n",
            "Requirement already satisfied: numpy>=1.14.6 in /usr/local/lib/python3.7/dist-packages (from scikit-learn->sklearn) (1.19.5)\n",
            "Requirement already satisfied: scipy>=1.1.0 in /usr/local/lib/python3.7/dist-packages (from scikit-learn->sklearn) (1.4.1)\n"
          ]
        }
      ]
    },
    {
      "cell_type": "code",
      "source": [
        "# Applying the multinomial Naive Bayes on Set 1\n",
        "from sklearn.model_selection import GridSearchCV\n",
        "from sklearn.model_selection  import RandomizedSearchCV\n",
        "from sklearn.naive_bayes import MultinomialNB\n",
        "from sklearn.metrics import  roc_auc_score\n",
        "import matplotlib.pyplot as plt\n",
        "\n",
        "multiNB_bow= MultinomialNB(class_prior=[0.5,0.5])\n",
        "parameters={'alpha':[0.00001, 0.00005, 0.0001, 0.0005, 0.001, 0.005, 0.01, 0.05, 0.1, 0.5, 1, 5, 10, 50,100,200,300]}\n",
        "clf= GridSearchCV(multiNB_bow, parameters, cv=10, scoring='roc_auc',return_train_score=True)\n",
        "clf.fit(X_tr,y_train)\n",
        "# best alpha value for set 1\n",
        "print(clf.best_estimator_)"
      ],
      "metadata": {
        "colab": {
          "base_uri": "https://localhost:8080/"
        },
        "id": "1eAcr2GdItAP",
        "outputId": "03c8e90b-7edf-488e-9df7-350a6c942a0f"
      },
      "execution_count": 22,
      "outputs": [
        {
          "output_type": "stream",
          "name": "stdout",
          "text": [
            "MultinomialNB(alpha=0.05, class_prior=[0.5, 0.5])\n"
          ]
        }
      ]
    },
    {
      "cell_type": "code",
      "source": [
        "results = pd.DataFrame.from_dict(clf.cv_results_)\n",
        "results=results.sort_values(['param_alpha'])\n",
        "\n",
        "train_auc= results['mean_train_score']\n",
        "train_auc_std= results['std_train_score']\n",
        "cv_auc = results['mean_test_score'] \n",
        "cv_auc_std= results['std_test_score']\n",
        "\n",
        "\n"
      ],
      "metadata": {
        "id": "ISvNGFFFYKUV"
      },
      "execution_count": 23,
      "outputs": []
    },
    {
      "cell_type": "code",
      "source": [
        "# convertng the alpha values to log alpha values for better visulization\n",
        "import math\n",
        "alpha=[0.00001, 0.00005, 0.0001, 0.0005, 0.001, 0.005, 0.01, 0.05, 0.1, 0.5, 1, 5, 10, 50,100,200,300]\n",
        "log_alpha=[]\n",
        "for i in alpha:\n",
        "  a=math.log(i)\n",
        "  log_alpha.append(a)\n",
        "print(log_alpha)"
      ],
      "metadata": {
        "colab": {
          "base_uri": "https://localhost:8080/"
        },
        "id": "xIqPKIeXCNLJ",
        "outputId": "12af1c24-3430-4ca4-8791-6badc684a6aa"
      },
      "execution_count": 24,
      "outputs": [
        {
          "output_type": "stream",
          "name": "stdout",
          "text": [
            "[-11.512925464970229, -9.903487552536127, -9.210340371976182, -7.600902459542082, -6.907755278982137, -5.298317366548036, -4.605170185988091, -2.995732273553991, -2.3025850929940455, -0.6931471805599453, 0.0, 1.6094379124341003, 2.302585092994046, 3.912023005428146, 4.605170185988092, 5.298317366548036, 5.703782474656201]\n"
          ]
        }
      ]
    },
    {
      "cell_type": "markdown",
      "source": [
        "<h2> Hyperparameter Vs AUC Score plot : Set1 <h2>"
      ],
      "metadata": {
        "id": "KXf2TqVx-f3z"
      }
    },
    {
      "cell_type": "code",
      "execution_count": 25,
      "metadata": {
        "id": "VVAmgEfZ0uIu",
        "colab": {
          "base_uri": "https://localhost:8080/",
          "height": 621
        },
        "outputId": "f5772548-2e13-41f9-bc18-b76f040d777e"
      },
      "outputs": [
        {
          "output_type": "display_data",
          "data": {
            "image/png": "[encoded data removed]",
            "text/plain": [
              "<Figure size 936x720 with 1 Axes>"
            ]
          },
          "metadata": {
            "needs_background": "light"
          }
        }
      ],
      "source": [
        "# Obtain the optimal value for 'alpha' and using the obtained optimal 'alpha' value, fit a multinomial naive bayes model, on the train data,\n",
        "# Note: If you have split the datase into 3 parts (ie., train, cv and test sets) in the beginning, then the training datafor this final model would be (train set + cv set)\n",
        "# Make class label and probability predictions on the train and test data.\n",
        "\n",
        "plt.figure(figsize=(13,10))\n",
        "plt.plot(log_alpha,train_auc,label='Train_AUC')\n",
        "plt.plot(log_alpha,cv_auc,label='CV_AUC')\n",
        "\n",
        "plt.scatter(log_alpha,train_auc,label='Train AUC Points')\n",
        "plt.scatter(log_alpha,cv_auc,label='CV AUC Points')\n",
        "\n",
        "\n",
        "plt.title('Alpha Hyperparemeter vs AUC plot')\n",
        "plt.legend()\n",
        "plt.xlabel('Alpha : Hyperparameter')\n",
        "plt.ylabel('AUC')\n",
        "plt.grid()\n",
        "plt.show()"
      ]
    },
    {
      "cell_type": "markdown",
      "source": [
        "<h2> Observation <h2>\n",
        "<h4> From the above Hyperparameter Vs AUC plot we can observe a decrease in the AUC Score as Alpha Hypermeter Increses. We choose 0.001 as the alpha value.<h4>"
      ],
      "metadata": {
        "id": "MsWyg8ep7k8k"
      }
    },
    {
      "cell_type": "code",
      "source": [
        "results.head()"
      ],
      "metadata": {
        "colab": {
          "base_uri": "https://localhost:8080/",
          "height": 357
        },
        "id": "nB9WvBtDCzey",
        "outputId": "07366e60-981f-4328-f834-11cba047a7f4"
      },
      "execution_count": 26,
      "outputs": [
        {
          "output_type": "execute_result",
          "data": {
            "text/html": [
              "\n",
              "  <div id=\"df-b8113122-7338-4823-ab8d-7c3d63290ec3\">\n",
              "    <div class=\"colab-df-container\">\n",
              "      <div>\n",
              "<style scoped>\n",
              "    .dataframe tbody tr th:only-of-type {\n",
              "        vertical-align: middle;\n",
              "    }\n",
              "\n",
              "    .dataframe tbody tr th {\n",
              "        vertical-align: top;\n",
              "    }\n",
              "\n",
              "    .dataframe thead th {\n",
              "        text-align: right;\n",
              "    }\n",
              "</style>\n",
              "<table border=\"1\" class=\"dataframe\">\n",
              "  <thead>\n",
              "    <tr style=\"text-align: right;\">\n",
              "      <th></th>\n",
              "      <th>mean_fit_time</th>\n",
              "      <th>std_fit_time</th>\n",
              "      <th>mean_score_time</th>\n",
              "      <th>std_score_time</th>\n",
              "      <th>param_alpha</th>\n",
              "      <th>params</th>\n",
              "      <th>split0_test_score</th>\n",
              "      <th>split1_test_score</th>\n",
              "      <th>split2_test_score</th>\n",
              "      <th>split3_test_score</th>\n",
              "      <th>split4_test_score</th>\n",
              "      <th>split5_test_score</th>\n",
              "      <th>split6_test_score</th>\n",
              "      <th>split7_test_score</th>\n",
              "      <th>split8_test_score</th>\n",
              "      <th>split9_test_score</th>\n",
              "      <th>mean_test_score</th>\n",
              "      <th>std_test_score</th>\n",
              "      <th>rank_test_score</th>\n",
              "      <th>split0_train_score</th>\n",
              "      <th>split1_train_score</th>\n",
              "      <th>split2_train_score</th>\n",
              "      <th>split3_train_score</th>\n",
              "      <th>split4_train_score</th>\n",
              "      <th>split5_train_score</th>\n",
              "      <th>split6_train_score</th>\n",
              "      <th>split7_train_score</th>\n",
              "      <th>split8_train_score</th>\n",
              "      <th>split9_train_score</th>\n",
              "      <th>mean_train_score</th>\n",
              "      <th>std_train_score</th>\n",
              "    </tr>\n",
              "  </thead>\n",
              "  <tbody>\n",
              "    <tr>\n",
              "      <th>0</th>\n",
              "      <td>0.053571</td>\n",
              "      <td>0.002741</td>\n",
              "      <td>0.007002</td>\n",
              "      <td>0.002223</td>\n",
              "      <td>1e-05</td>\n",
              "      <td>{'alpha': 1e-05}</td>\n",
              "      <td>0.700006</td>\n",
              "      <td>0.671080</td>\n",
              "      <td>0.712106</td>\n",
              "      <td>0.687929</td>\n",
              "      <td>0.702660</td>\n",
              "      <td>0.710816</td>\n",
              "      <td>0.710487</td>\n",
              "      <td>0.662969</td>\n",
              "      <td>0.689186</td>\n",
              "      <td>0.674668</td>\n",
              "      <td>0.692191</td>\n",
              "      <td>0.016979</td>\n",
              "      <td>9</td>\n",
              "      <td>0.740270</td>\n",
              "      <td>0.740932</td>\n",
              "      <td>0.740146</td>\n",
              "      <td>0.742892</td>\n",
              "      <td>0.741653</td>\n",
              "      <td>0.741701</td>\n",
              "      <td>0.742331</td>\n",
              "      <td>0.742831</td>\n",
              "      <td>0.741511</td>\n",
              "      <td>0.740426</td>\n",
              "      <td>0.741469</td>\n",
              "      <td>0.000963</td>\n",
              "    </tr>\n",
              "    <tr>\n",
              "      <th>1</th>\n",
              "      <td>0.053755</td>\n",
              "      <td>0.002876</td>\n",
              "      <td>0.006195</td>\n",
              "      <td>0.000428</td>\n",
              "      <td>5e-05</td>\n",
              "      <td>{'alpha': 5e-05}</td>\n",
              "      <td>0.700005</td>\n",
              "      <td>0.671080</td>\n",
              "      <td>0.712106</td>\n",
              "      <td>0.687929</td>\n",
              "      <td>0.702772</td>\n",
              "      <td>0.710816</td>\n",
              "      <td>0.710486</td>\n",
              "      <td>0.663093</td>\n",
              "      <td>0.689186</td>\n",
              "      <td>0.674668</td>\n",
              "      <td>0.692214</td>\n",
              "      <td>0.016964</td>\n",
              "      <td>8</td>\n",
              "      <td>0.740269</td>\n",
              "      <td>0.740932</td>\n",
              "      <td>0.740146</td>\n",
              "      <td>0.742892</td>\n",
              "      <td>0.741643</td>\n",
              "      <td>0.741701</td>\n",
              "      <td>0.742331</td>\n",
              "      <td>0.742830</td>\n",
              "      <td>0.741511</td>\n",
              "      <td>0.740426</td>\n",
              "      <td>0.741468</td>\n",
              "      <td>0.000963</td>\n",
              "    </tr>\n",
              "    <tr>\n",
              "      <th>2</th>\n",
              "      <td>0.053372</td>\n",
              "      <td>0.002259</td>\n",
              "      <td>0.006084</td>\n",
              "      <td>0.000200</td>\n",
              "      <td>0.0001</td>\n",
              "      <td>{'alpha': 0.0001}</td>\n",
              "      <td>0.700006</td>\n",
              "      <td>0.671080</td>\n",
              "      <td>0.712106</td>\n",
              "      <td>0.687930</td>\n",
              "      <td>0.702813</td>\n",
              "      <td>0.710816</td>\n",
              "      <td>0.710486</td>\n",
              "      <td>0.663159</td>\n",
              "      <td>0.689186</td>\n",
              "      <td>0.674668</td>\n",
              "      <td>0.692225</td>\n",
              "      <td>0.016955</td>\n",
              "      <td>7</td>\n",
              "      <td>0.740269</td>\n",
              "      <td>0.740932</td>\n",
              "      <td>0.740146</td>\n",
              "      <td>0.742892</td>\n",
              "      <td>0.741637</td>\n",
              "      <td>0.741701</td>\n",
              "      <td>0.742331</td>\n",
              "      <td>0.742829</td>\n",
              "      <td>0.741510</td>\n",
              "      <td>0.740426</td>\n",
              "      <td>0.741467</td>\n",
              "      <td>0.000963</td>\n",
              "    </tr>\n",
              "    <tr>\n",
              "      <th>3</th>\n",
              "      <td>0.053603</td>\n",
              "      <td>0.002580</td>\n",
              "      <td>0.006282</td>\n",
              "      <td>0.000879</td>\n",
              "      <td>0.0005</td>\n",
              "      <td>{'alpha': 0.0005}</td>\n",
              "      <td>0.700007</td>\n",
              "      <td>0.671083</td>\n",
              "      <td>0.712107</td>\n",
              "      <td>0.687929</td>\n",
              "      <td>0.702941</td>\n",
              "      <td>0.710815</td>\n",
              "      <td>0.710485</td>\n",
              "      <td>0.663302</td>\n",
              "      <td>0.689185</td>\n",
              "      <td>0.674667</td>\n",
              "      <td>0.692252</td>\n",
              "      <td>0.016939</td>\n",
              "      <td>6</td>\n",
              "      <td>0.740269</td>\n",
              "      <td>0.740931</td>\n",
              "      <td>0.740146</td>\n",
              "      <td>0.742891</td>\n",
              "      <td>0.741618</td>\n",
              "      <td>0.741700</td>\n",
              "      <td>0.742330</td>\n",
              "      <td>0.742826</td>\n",
              "      <td>0.741510</td>\n",
              "      <td>0.740425</td>\n",
              "      <td>0.741465</td>\n",
              "      <td>0.000962</td>\n",
              "    </tr>\n",
              "    <tr>\n",
              "      <th>4</th>\n",
              "      <td>0.052733</td>\n",
              "      <td>0.001850</td>\n",
              "      <td>0.005981</td>\n",
              "      <td>0.000210</td>\n",
              "      <td>0.001</td>\n",
              "      <td>{'alpha': 0.001}</td>\n",
              "      <td>0.700006</td>\n",
              "      <td>0.671082</td>\n",
              "      <td>0.712106</td>\n",
              "      <td>0.687930</td>\n",
              "      <td>0.703000</td>\n",
              "      <td>0.710814</td>\n",
              "      <td>0.710486</td>\n",
              "      <td>0.663359</td>\n",
              "      <td>0.689186</td>\n",
              "      <td>0.674666</td>\n",
              "      <td>0.692264</td>\n",
              "      <td>0.016933</td>\n",
              "      <td>5</td>\n",
              "      <td>0.740269</td>\n",
              "      <td>0.740930</td>\n",
              "      <td>0.740145</td>\n",
              "      <td>0.742890</td>\n",
              "      <td>0.741608</td>\n",
              "      <td>0.741699</td>\n",
              "      <td>0.742329</td>\n",
              "      <td>0.742824</td>\n",
              "      <td>0.741509</td>\n",
              "      <td>0.740425</td>\n",
              "      <td>0.741463</td>\n",
              "      <td>0.000961</td>\n",
              "    </tr>\n",
              "  </tbody>\n",
              "</table>\n",
              "</div>\n",
              "      <button class=\"colab-df-convert\" onclick=\"convertToInteractive('df-b8113122-7338-4823-ab8d-7c3d63290ec3')\"\n",
              "              title=\"Convert this dataframe to an interactive table.\"\n",
              "              style=\"display:none;\">\n",
              "        \n",
              "  <svg xmlns=\"http://www.w3.org/2000/svg\" height=\"24px\"viewBox=\"0 0 24 24\"\n",
              "       width=\"24px\">\n",
              "    <path d=\"M0 0h24v24H0V0z\" fill=\"none\"/>\n",
              "    <path d=\"M18.56 5.44l.94 2.06.94-2.06 2.06-.94-2.06-.94-.94-2.06-.94 2.06-2.06.94zm-11 1L8.5 8.5l.94-2.06 2.06-.94-2.06-.94L8.5 2.5l-.94 2.06-2.06.94zm10 10l.94 2.06.94-2.06 2.06-.94-2.06-.94-.94-2.06-.94 2.06-2.06.94z\"/><path d=\"M17.41 7.96l-1.37-1.37c-.4-.4-.92-.59-1.43-.59-.52 0-1.04.2-1.43.59L10.3 9.45l-7.72 7.72c-.78.78-.78 2.05 0 2.83L4 21.41c.39.39.9.59 1.41.59.51 0 1.02-.2 1.41-.59l7.78-7.78 2.81-2.81c.8-.78.8-2.07 0-2.86zM5.41 20L4 18.59l7.72-7.72 1.47 1.35L5.41 20z\"/>\n",
              "  </svg>\n",
              "      </button>\n",
              "      \n",
              "  <style>\n",
              "    .colab-df-container {\n",
              "      display:flex;\n",
              "      flex-wrap:wrap;\n",
              "      gap: 12px;\n",
              "    }\n",
              "\n",
              "    .colab-df-convert {\n",
              "      background-color: #E8F0FE;\n",
              "      border: none;\n",
              "      border-radius: 50%;\n",
              "      cursor: pointer;\n",
              "      display: none;\n",
              "      fill: #1967D2;\n",
              "      height: 32px;\n",
              "      padding: 0 0 0 0;\n",
              "      width: 32px;\n",
              "    }\n",
              "\n",
              "    .colab-df-convert:hover {\n",
              "      background-color: #E2EBFA;\n",
              "      box-shadow: 0px 1px 2px rgba(60, 64, 67, 0.3), 0px 1px 3px 1px rgba(60, 64, 67, 0.15);\n",
              "      fill: #174EA6;\n",
              "    }\n",
              "\n",
              "    [theme=dark] .colab-df-convert {\n",
              "      background-color: #3B4455;\n",
              "      fill: #D2E3FC;\n",
              "    }\n",
              "\n",
              "    [theme=dark] .colab-df-convert:hover {\n",
              "      background-color: #434B5C;\n",
              "      box-shadow: 0px 1px 3px 1px rgba(0, 0, 0, 0.15);\n",
              "      filter: drop-shadow(0px 1px 2px rgba(0, 0, 0, 0.3));\n",
              "      fill: #FFFFFF;\n",
              "    }\n",
              "  </style>\n",
              "\n",
              "      <script>\n",
              "        const buttonEl =\n",
              "          document.querySelector('#df-b8113122-7338-4823-ab8d-7c3d63290ec3 button.colab-df-convert');\n",
              "        buttonEl.style.display =\n",
              "          google.colab.kernel.accessAllowed ? 'block' : 'none';\n",
              "\n",
              "        async function convertToInteractive(key) {\n",
              "          const element = document.querySelector('#df-b8113122-7338-4823-ab8d-7c3d63290ec3');\n",
              "          const dataTable =\n",
              "            await google.colab.kernel.invokeFunction('convertToInteractive',\n",
              "                                                     [key], {});\n",
              "          if (!dataTable) return;\n",
              "\n",
              "          const docLinkHtml = 'Like what you see? Visit the ' +\n",
              "            '<a target=\"_blank\" href=https://colab.research.google.com/notebooks/data_table.ipynb>data table notebook</a>'\n",
              "            + ' to learn more about interactive tables.';\n",
              "          element.innerHTML = '';\n",
              "          dataTable['output_type'] = 'display_data';\n",
              "          await google.colab.output.renderOutput(dataTable, element);\n",
              "          const docLink = document.createElement('div');\n",
              "          docLink.innerHTML = docLinkHtml;\n",
              "          element.appendChild(docLink);\n",
              "        }\n",
              "      </script>\n",
              "    </div>\n",
              "  </div>\n",
              "  "
            ],
            "text/plain": [
              "   mean_fit_time  std_fit_time  ...  mean_train_score  std_train_score\n",
              "0       0.053571      0.002741  ...          0.741469         0.000963\n",
              "1       0.053755      0.002876  ...          0.741468         0.000963\n",
              "2       0.053372      0.002259  ...          0.741467         0.000963\n",
              "3       0.053603      0.002580  ...          0.741465         0.000962\n",
              "4       0.052733      0.001850  ...          0.741463         0.000961\n",
              "\n",
              "[5 rows x 31 columns]"
            ]
          },
          "metadata": {},
          "execution_count": 26
        }
      ]
    },
    {
      "cell_type": "markdown",
      "source": [
        "## Observation ##\n",
        "##### considering the best alpha to be 0.001 #####\n"
      ],
      "metadata": {
        "id": "E2nbD1f1aPZL"
      }
    },
    {
      "cell_type": "code",
      "source": [
        "best_alpha1=0.001"
      ],
      "metadata": {
        "id": "cQ9x2uNvcC-8"
      },
      "execution_count": 27,
      "outputs": []
    },
    {
      "cell_type": "code",
      "source": [
        "def batch_predict(clf, data):\n",
        "    # roc_auc_score(y_true, y_score) the 2nd parameter should be probability estimates of the positive class\n",
        "    # not the predicted outputs\n",
        "\n",
        "    y_data_pred = []\n",
        "    tr_loop = data.shape[0] - data.shape[0]%1000\n",
        "    # consider you X_tr shape is 49041, then your tr_loop will be 49041 - 49041%1000 = 49000\n",
        "    # in this for loop we will iterate unti the last 1000 multiplier\n",
        "    for i in range(0, tr_loop, 1000):\n",
        "        y_data_pred.extend(clf.predict_proba(data[i:i+1000])[:,1])\n",
        "    # we will be predicting for the last data points\n",
        "    if data.shape[0]%1000 !=0:\n",
        "        y_data_pred.extend(clf.predict_proba(data[tr_loop:])[:,1])\n",
        "    \n",
        "    return y_data_pred"
      ],
      "metadata": {
        "id": "rK8oLlSHqmBP"
      },
      "execution_count": 28,
      "outputs": []
    },
    {
      "cell_type": "markdown",
      "source": [
        "<h2> ROC-AUC Curve : Set 1 <h2>"
      ],
      "metadata": {
        "id": "kyz0ft9g-m-p"
      }
    },
    {
      "cell_type": "code",
      "execution_count": 30,
      "metadata": {
        "id": "ReiJGzRC0uIu",
        "colab": {
          "base_uri": "https://localhost:8080/",
          "height": 295
        },
        "outputId": "bf64bdb5-1cb9-4079-c9b7-0261f1a12c67"
      },
      "outputs": [
        {
          "output_type": "display_data",
          "data": {
            "image/png": "[encoded data removed]",
            "text/plain": [
              "<Figure size 432x288 with 1 Axes>"
            ]
          },
          "metadata": {
            "needs_background": "light"
          }
        }
      ],
      "source": [
        "# Plot the ROC-AUC curves using the probability predictions made on train and test data.\n",
        "\n",
        "from sklearn.metrics import roc_curve,auc\n",
        "\n",
        "alpha=MultinomialNB(alpha=best_alpha1,class_prior=[0.5,0.5])\n",
        "alpha.fit(X_tr,y_train)\n",
        "\n",
        "y_train_pred = batch_predict(alpha, X_tr)    \n",
        "y_test_pred = batch_predict(alpha, X_te)\n",
        "\n",
        "train_fpr, train_tpr, tr_thresholds = roc_curve(y_train, y_train_pred)\n",
        "test_fpr, test_tpr, te_thresholds = roc_curve(y_test, y_test_pred)\n",
        "\n",
        "train_auc1=auc(train_fpr,train_tpr)\n",
        "test_auc1=auc(test_fpr,test_tpr)\n",
        "\n",
        "plt.plot(train_fpr, train_tpr, label=\"train AUC =\"+str(train_auc1))\n",
        "plt.plot(test_fpr, test_tpr, label=\"test AUC =\"+str(test_auc1))\n",
        "plt.legend()\n",
        "plt.xlabel(\"alpha: hyperparameter\")\n",
        "plt.ylabel(\"AUC\")\n",
        "plt.title(\"ERROR PLOTS\")\n",
        "plt.grid()\n",
        "plt.show()"
      ]
    },
    {
      "cell_type": "code",
      "execution_count": 31,
      "metadata": {
        "id": "-H9-oOx20uIu"
      },
      "outputs": [],
      "source": [
        "# Pick the best threshold among the probability estimates, such that it has to yield maximum value for TPR*(1-FPR)\n",
        "# Plot the confusion matrices(each for train and test data) afer encoding the predicted class labels, on the basis of the best threshod probability estimate.\n"
      ]
    },
    {
      "cell_type": "code",
      "source": [
        "import numpy as np\n",
        "def find_best_threshold(threshould, fpr, tpr):\n",
        "    t = threshould[np.argmax(tpr*(1-fpr))]\n",
        "    # (tpr*(1-fpr)) will be maximum if your fpr is very low and tpr is very high\n",
        "    print(\"the maximum value of tpr*(1-fpr)\", max(tpr*(1-fpr)), \"for threshold\", np.round(t,3))\n",
        "    return t\n",
        "\n",
        "def predict_with_best_t(proba, threshould):\n",
        "    predictions = []\n",
        "    for i in proba:\n",
        "        if i>=threshould:\n",
        "            predictions.append(1)\n",
        "        else:\n",
        "            predictions.append(0)\n",
        "    return predictions"
      ],
      "metadata": {
        "id": "6DpADdIE0XS-"
      },
      "execution_count": 32,
      "outputs": []
    },
    {
      "cell_type": "code",
      "source": [
        "# Confusion Matrix\n",
        "print(\"=\"*100)\n",
        "from sklearn.metrics import confusion_matrix\n",
        "best_t = find_best_threshold(tr_thresholds, train_fpr, train_tpr)\n",
        "print(\"Train confusion matrix\")\n",
        "train_predictions=predict_with_best_t(y_train_pred,best_t)\n",
        "train_matrix=confusion_matrix(y_train, train_predictions)\n",
        "print(train_matrix)\n",
        "print(\"Test confusion matrix\")\n",
        "test_predictions=predict_with_best_t(y_test_pred, best_t)\n",
        "test_matrix=confusion_matrix(y_test, test_predictions)\n",
        "print(test_matrix)"
      ],
      "metadata": {
        "colab": {
          "base_uri": "https://localhost:8080/"
        },
        "id": "vmKnWLhM0iew",
        "outputId": "b8f1d452-0000-439b-ea64-bcfa4da3085a"
      },
      "execution_count": 33,
      "outputs": [
        {
          "output_type": "stream",
          "name": "stdout",
          "text": [
            "====================================================================================================\n",
            "the maximum value of tpr*(1-fpr) 0.46216988355470917 for threshold 0.568\n",
            "Train confusion matrix\n",
            "[[ 3726  1639]\n",
            " [ 9412 18723]]\n",
            "Test confusion matrix\n",
            "[[1656  986]\n",
            " [4881 8977]]\n"
          ]
        }
      ]
    },
    {
      "cell_type": "markdown",
      "source": [
        "<h3> Heatmap of Confusion Matrix : set 1 <h3>"
      ],
      "metadata": {
        "id": "P8JZfiVQ_HbT"
      }
    },
    {
      "cell_type": "code",
      "source": [
        "# Heatmap of the Confusion Matrix\n",
        "# Train Confusion Matrix\n",
        "import seaborn as sns\n",
        "import matplotlib.pyplot as plt\n",
        "\n",
        "ax=plt.subplot()\n",
        "sns.heatmap(train_matrix,annot=True)\n",
        "ax.set_xlabel('Predicted labels')\n",
        "ax.set_ylabel('Actual labels') \n",
        "ax.set_title('Train Confusion Matrix')\n",
        "ax.xaxis.set_ticklabels(['NO','YES'])\n",
        "ax.yaxis.set_ticklabels(['NO','YES'])"
      ],
      "metadata": {
        "colab": {
          "base_uri": "https://localhost:8080/",
          "height": 312
        },
        "id": "Q2tTsOZVxwSq",
        "outputId": "ca1366f9-bc4b-49ca-af65-a57ab95535c8"
      },
      "execution_count": 34,
      "outputs": [
        {
          "output_type": "execute_result",
          "data": {
            "text/plain": [
              "[Text(0, 0.5, 'NO'), Text(0, 1.5, 'YES')]"
            ]
          },
          "metadata": {},
          "execution_count": 34
        },
        {
          "output_type": "display_data",
          "data": {
            "image/png": "[encoded data removed]",
            "text/plain": [
              "<Figure size 432x288 with 2 Axes>"
            ]
          },
          "metadata": {
            "needs_background": "light"
          }
        }
      ]
    },
    {
      "cell_type": "code",
      "source": [
        "# Test Confusion Matrix\n",
        "ax=plt.subplot()\n",
        "sns.heatmap(test_matrix,annot=True)\n",
        "ax.set_xlabel('Predicted labels')\n",
        "ax.set_ylabel('Actual labels') \n",
        "ax.set_title('Test Confusion Matrix')\n",
        "ax.xaxis.set_ticklabels(['NO','YES'])\n",
        "ax.yaxis.set_ticklabels(['NO','YES'])"
      ],
      "metadata": {
        "colab": {
          "base_uri": "https://localhost:8080/",
          "height": 312
        },
        "id": "Xlj1sZnX8vES",
        "outputId": "0e8dcdda-3486-4121-c006-6bdc10779b32"
      },
      "execution_count": 35,
      "outputs": [
        {
          "output_type": "execute_result",
          "data": {
            "text/plain": [
              "[Text(0, 0.5, 'NO'), Text(0, 1.5, 'YES')]"
            ]
          },
          "metadata": {},
          "execution_count": 35
        },
        {
          "output_type": "display_data",
          "data": {
            "image/png": "[encoded data removed]",
            "text/plain": [
              "<Figure size 432x288 with 2 Axes>"
            ]
          },
          "metadata": {
            "needs_background": "light"
          }
        }
      ]
    },
    {
      "cell_type": "markdown",
      "metadata": {
        "id": "JvlFNb910uIu"
      },
      "source": [
        "#### Set 2"
      ]
    },
    {
      "cell_type": "markdown",
      "source": [
        "<h3> Merging all the features for set2: Tf-IDF <h3>"
      ],
      "metadata": {
        "id": "-FX5lLb19moz"
      }
    },
    {
      "cell_type": "code",
      "execution_count": 36,
      "metadata": {
        "id": "NmpfoIVm0uIv",
        "colab": {
          "base_uri": "https://localhost:8080/"
        },
        "outputId": "b92642c1-631d-4970-dd98-19a47271ee6c"
      },
      "outputs": [
        {
          "output_type": "stream",
          "name": "stdout",
          "text": [
            "Final Data Matrix\n",
            "(33500, 10406) (33500,)\n",
            "(16500, 10406) (16500,)\n",
            "****************************************************************************************************\n"
          ]
        }
      ],
      "source": [
        "# Perform Hyperparameter Tuning.\n",
        "# Plot the training and the CV AUC scores, for different values of 'alpha', using a 2D line plot\n",
        "X_tr=hstack((X_train_essay_tfidf,X_train_teacher,X_train_grade,X_train_state,X_train_categories,X_train_subcategories,X_train_price_norm,X_train_posted_projects_norm)).tocsr()\n",
        "X_te=hstack((X_test_essay_tfidf,X_test_teacher,X_test_grade,X_test_state,X_test_categories,X_test_subcategories,X_test_price_norm,X_test_posted_projects_norm)).tocsr()\n",
        "\n",
        "print('Final Data Matrix')\n",
        "print(X_tr.shape,y_train.shape)\n",
        "print(X_te.shape,y_test.shape)\n",
        "print('*'*100)\n"
      ]
    },
    {
      "cell_type": "code",
      "source": [
        "# Applying Multinomial Naive Bayes on set 2\n",
        "multiNB_bow= MultinomialNB(class_prior=[0.5,0.5])\n",
        "parameters={'alpha':[0.00001, 0.00005, 0.0001, 0.0005, 0.001, 0.005, 0.01, 0.05, 0.1, 0.5, 1, 5, 10, 50,100,200,300]}\n",
        "clf= GridSearchCV(multiNB_bow, parameters, cv=10, scoring='roc_auc',return_train_score=True)\n",
        "clf.fit(X_tr,y_train)\n",
        "print(clf.best_estimator_)"
      ],
      "metadata": {
        "colab": {
          "base_uri": "https://localhost:8080/"
        },
        "id": "DI5a6ZgB9QiB",
        "outputId": "639081ab-636e-4fa0-aa06-1c33b4516be8"
      },
      "execution_count": 37,
      "outputs": [
        {
          "output_type": "stream",
          "name": "stdout",
          "text": [
            "MultinomialNB(alpha=0.05, class_prior=[0.5, 0.5])\n"
          ]
        }
      ]
    },
    {
      "cell_type": "code",
      "source": [
        "results = pd.DataFrame.from_dict(clf.cv_results_)\n",
        "results=results.sort_values(['param_alpha'])\n",
        "\n",
        "train_auc= results['mean_train_score']\n",
        "train_auc_std= results['std_train_score']\n",
        "cv_auc = results['mean_test_score'] \n",
        "cv_auc_std= results['std_test_score']"
      ],
      "metadata": {
        "id": "U-MNKrz49nfQ"
      },
      "execution_count": 38,
      "outputs": []
    },
    {
      "cell_type": "code",
      "source": [
        "# Converting the alpha values to log aplha values \n",
        "import math\n",
        "alpha=[0.00001, 0.00005, 0.0001, 0.0005, 0.001, 0.005, 0.01, 0.05, 0.1, 0.5, 1, 5, 10, 50,100,200,300]\n",
        "log_alpha=[]\n",
        "for i in alpha:\n",
        "  a=math.log(i)\n",
        "  log_alpha.append(a)\n",
        "print(log_alpha)"
      ],
      "metadata": {
        "colab": {
          "base_uri": "https://localhost:8080/"
        },
        "id": "Yt-iU1y792T-",
        "outputId": "5e262386-4187-49bd-a354-54c543b43891"
      },
      "execution_count": 39,
      "outputs": [
        {
          "output_type": "stream",
          "name": "stdout",
          "text": [
            "[-11.512925464970229, -9.903487552536127, -9.210340371976182, -7.600902459542082, -6.907755278982137, -5.298317366548036, -4.605170185988091, -2.995732273553991, -2.3025850929940455, -0.6931471805599453, 0.0, 1.6094379124341003, 2.302585092994046, 3.912023005428146, 4.605170185988092, 5.298317366548036, 5.703782474656201]\n"
          ]
        }
      ]
    },
    {
      "cell_type": "markdown",
      "source": [
        "<h2> Hyperparameter Vs AUC Score plot : Set2 <h2>"
      ],
      "metadata": {
        "id": "p30dQUjD-KTS"
      }
    },
    {
      "cell_type": "code",
      "execution_count": 40,
      "metadata": {
        "id": "zvsoSmTg0uIv",
        "colab": {
          "base_uri": "https://localhost:8080/",
          "height": 621
        },
        "outputId": "56c4880c-9fd1-4069-e137-4359ce73ce0f"
      },
      "outputs": [
        {
          "output_type": "display_data",
          "data": {
            "image/png": "[encoded data removed]",
            "text/plain": [
              "<Figure size 936x720 with 1 Axes>"
            ]
          },
          "metadata": {
            "needs_background": "light"
          }
        }
      ],
      "source": [
        "# Obtain the optimal value for 'alpha' and using the obtained optimal 'alpha' value, fit a multinomial naive bayes model, on the train data,\n",
        "# Note: If you have split the datase into 3 parts (ie., train, cv and test sets) in the beginning, then the training datafor this final model would be (train set + cv set)\n",
        "# Make class label and probability predictions on the train and test data.\n",
        "\n",
        "plt.figure(figsize=(13,10))\n",
        "plt.plot(log_alpha,train_auc,label='Train_AUC')\n",
        "plt.plot(log_alpha,cv_auc,label='CV_AUC')\n",
        "\n",
        "plt.scatter(log_alpha,train_auc,label='Train AUC Points')\n",
        "plt.scatter(log_alpha,cv_auc,label='CV AUC Points')\n",
        "\n",
        "\n",
        "plt.title('Alpha Hyperparemeter vs AUC plot')\n",
        "plt.legend()\n",
        "plt.xlabel('Alpha : Hyperparameter')\n",
        "plt.ylabel('AUC')\n",
        "plt.grid()\n",
        "plt.show()"
      ]
    },
    {
      "cell_type": "code",
      "execution_count": 43,
      "metadata": {
        "id": "w_0Zn4c30uIv"
      },
      "outputs": [],
      "source": [
        "# Plot the ROC-AUC curves using the probability predictions made on train and test data.\n",
        "best_alpha2=0.05"
      ]
    },
    {
      "cell_type": "markdown",
      "source": [
        "<h2> ROC-AUC Curve : Set 2<h2>"
      ],
      "metadata": {
        "id": "L-e8D9eo-0bv"
      }
    },
    {
      "cell_type": "code",
      "source": [
        "alpha=MultinomialNB(alpha=best_alpha2,class_prior=[0.5,0.5])\n",
        "alpha.fit(X_tr,y_train)\n",
        "\n",
        "y_train_pred = batch_predict(alpha, X_tr)    \n",
        "y_test_pred = batch_predict(alpha, X_te)\n",
        "\n",
        "train_fpr, train_tpr, tr_thresholds = roc_curve(y_train, y_train_pred)\n",
        "test_fpr, test_tpr, te_thresholds = roc_curve(y_test, y_test_pred)\n",
        "\n",
        "train_auc2=auc(train_fpr,train_tpr)\n",
        "test_auc2=auc(test_fpr,test_tpr)\n",
        "\n",
        "plt.plot(train_fpr, train_tpr, label=\"train AUC =\"+str(train_auc2))\n",
        "plt.plot(test_fpr, test_tpr, label=\"test AUC =\"+str(test_auc2))\n",
        "plt.legend()\n",
        "plt.xlabel(\"alpha: hyperparameter\")\n",
        "plt.ylabel(\"AUC\")\n",
        "plt.title(\"ERROR PLOTS\")\n",
        "plt.grid()\n",
        "plt.show()"
      ],
      "metadata": {
        "colab": {
          "base_uri": "https://localhost:8080/",
          "height": 295
        },
        "id": "YvD26nbs-HUN",
        "outputId": "356627cf-e8a5-4d29-d138-de973fdc11ee"
      },
      "execution_count": 44,
      "outputs": [
        {
          "output_type": "display_data",
          "data": {
            "image/png": "[encoded data removed]",
            "text/plain": [
              "<Figure size 432x288 with 1 Axes>"
            ]
          },
          "metadata": {
            "needs_background": "light"
          }
        }
      ]
    },
    {
      "cell_type": "code",
      "execution_count": 45,
      "metadata": {
        "id": "yANEVG4c0uIv",
        "colab": {
          "base_uri": "https://localhost:8080/"
        },
        "outputId": "1e0642c5-f582-4ec7-f033-4ff873109c74"
      },
      "outputs": [
        {
          "output_type": "stream",
          "name": "stdout",
          "text": [
            "the maximum value of tpr*(1-fpr) 0.5336398283406244 for threshold 0.504\n",
            "Train confusion matrix\n",
            "[[ 3989  1376]\n",
            " [ 7942 20193]]\n",
            "Test confusion matrix\n",
            "[[1478 1164]\n",
            " [4395 9463]]\n"
          ]
        }
      ],
      "source": [
        "# Pick the best threshold among the probability estimates, such that it has to yield maximum value for TPR*(1-FPR)\n",
        "# Plot the confusion matrices(each for train and test data) afer encoding the predicted class labels, on the basis of the best threshod probability estimate.\n",
        "\n",
        "best_t = find_best_threshold(tr_thresholds, train_fpr, train_tpr)\n",
        "print(\"Train confusion matrix\")\n",
        "train_predictions=predict_with_best_t(y_train_pred,best_t)\n",
        "train_matrix=confusion_matrix(y_train, train_predictions)\n",
        "print(train_matrix)\n",
        "print(\"Test confusion matrix\")\n",
        "test_predictions=predict_with_best_t(y_test_pred, best_t)\n",
        "test_matrix=confusion_matrix(y_test, test_predictions)\n",
        "print(test_matrix)"
      ]
    },
    {
      "cell_type": "markdown",
      "source": [
        "<h3> Heatmap of Confusion Matrix : set 2 <h3>"
      ],
      "metadata": {
        "id": "46cqZKID_Vyw"
      }
    },
    {
      "cell_type": "code",
      "source": [
        "ax=plt.subplot()\n",
        "sns.heatmap(train_matrix,annot=True)\n",
        "ax.set_xlabel('Predicted labels')\n",
        "ax.set_ylabel('Actual labels') \n",
        "ax.set_title('Train Confusion Matrix')\n",
        "ax.xaxis.set_ticklabels(['NO','YES'])\n",
        "ax.yaxis.set_ticklabels(['NO','YES'])"
      ],
      "metadata": {
        "colab": {
          "base_uri": "https://localhost:8080/",
          "height": 312
        },
        "id": "KPzsYe7c-g8_",
        "outputId": "bc994b43-78a3-43f0-86c9-9b7755c16551"
      },
      "execution_count": 46,
      "outputs": [
        {
          "output_type": "execute_result",
          "data": {
            "text/plain": [
              "[Text(0, 0.5, 'NO'), Text(0, 1.5, 'YES')]"
            ]
          },
          "metadata": {},
          "execution_count": 46
        },
        {
          "output_type": "display_data",
          "data": {
            "image/png": "[encoded data removed]",
            "text/plain": [
              "<Figure size 432x288 with 2 Axes>"
            ]
          },
          "metadata": {
            "needs_background": "light"
          }
        }
      ]
    },
    {
      "cell_type": "code",
      "source": [
        "ax=plt.subplot()\n",
        "sns.heatmap(test_matrix,annot=True)\n",
        "ax.set_xlabel('Predicted labels')\n",
        "ax.set_ylabel('Actual labels') \n",
        "ax.set_title('Test Confusion Matrix')\n",
        "ax.xaxis.set_ticklabels(['NO','YES'])\n",
        "ax.yaxis.set_ticklabels(['NO','YES'])"
      ],
      "metadata": {
        "colab": {
          "base_uri": "https://localhost:8080/",
          "height": 312
        },
        "id": "SXPfbJWl_JHl",
        "outputId": "d67bef1d-5535-48d9-f292-c553f3671a78"
      },
      "execution_count": 47,
      "outputs": [
        {
          "output_type": "execute_result",
          "data": {
            "text/plain": [
              "[Text(0, 0.5, 'NO'), Text(0, 1.5, 'YES')]"
            ]
          },
          "metadata": {},
          "execution_count": 47
        },
        {
          "output_type": "display_data",
          "data": {
            "image/png": "[encoded data removed]",
            "text/plain": [
              "<Figure size 432x288 with 2 Axes>"
            ]
          },
          "metadata": {
            "needs_background": "light"
          }
        }
      ]
    },
    {
      "cell_type": "markdown",
      "source": [
        "<h2> Top 20 features for positve and negative class : Set 1 <h2>"
      ],
      "metadata": {
        "id": "CwxyajGI_dmU"
      }
    },
    {
      "cell_type": "code",
      "source": [
        "# Either from set 1 (or) set 2, print the names of the top 20 features associated with the positive and negative classes each. (You have to print the names of the features, but not the indexes)\n"
      ],
      "metadata": {
        "id": "TLIJj1brciWV"
      },
      "execution_count": 48,
      "outputs": []
    },
    {
      "cell_type": "code",
      "source": [
        "X_tr=hstack((X_train_essay_bow,X_train_teacher,X_train_grade,X_train_state,X_train_categories,X_train_subcategories,X_train_price_norm,X_train_posted_projects_norm)).tocsr()\n",
        "X_te=hstack((X_test_essay_bow,X_test_teacher,X_test_grade,X_test_state,X_test_categories,X_test_subcategories,X_test_price_norm,X_test_posted_projects_norm)).tocsr()\n"
      ],
      "metadata": {
        "id": "zxZN-c_ylNhs"
      },
      "execution_count": 49,
      "outputs": []
    },
    {
      "cell_type": "code",
      "source": [
        "all_feature_names_bow=[]"
      ],
      "metadata": {
        "id": "Amv-TdslaEF3"
      },
      "execution_count": 50,
      "outputs": []
    },
    {
      "cell_type": "code",
      "source": [
        "for i in vectorizer_categories.get_feature_names():\n",
        "    all_feature_names_bow.append(i)   \n",
        "\n",
        "for i in vectorizer_sub.get_feature_names():\n",
        "    all_feature_names_bow.append(i)    \n",
        "\n",
        "for i in vectorizer_state.get_feature_names():\n",
        "    all_feature_names_bow.append(i)    \n",
        "\n",
        "for i in vectorizer_prefix.get_feature_names():\n",
        "    all_feature_names_bow.append(i)   \n",
        "\n",
        "for i in vectorizer_grade.get_feature_names():\n",
        "    all_feature_names_bow.append(i)   \n",
        "\n",
        "for i in vectorizer_essay_bow.get_feature_names():\n",
        "    all_feature_names_bow.append(i)   \n"
      ],
      "metadata": {
        "colab": {
          "base_uri": "https://localhost:8080/"
        },
        "id": "DZUKV4aYaL-C",
        "outputId": "d4f14f20-b4d3-44b8-e790-c7617034411f"
      },
      "execution_count": 51,
      "outputs": [
        {
          "output_type": "stream",
          "name": "stderr",
          "text": [
            "/usr/local/lib/python3.7/dist-packages/sklearn/utils/deprecation.py:87: FutureWarning: Function get_feature_names is deprecated; get_feature_names is deprecated in 1.0 and will be removed in 1.2. Please use get_feature_names_out instead.\n",
            "  warnings.warn(msg, category=FutureWarning)\n"
          ]
        }
      ]
    },
    {
      "cell_type": "code",
      "source": [
        "all_feature_names_bow.append(\"price\")\n",
        "\n",
        "all_feature_names_bow.append(\"prev_proj\")"
      ],
      "metadata": {
        "id": "hb1aX7H6bJxT"
      },
      "execution_count": 52,
      "outputs": []
    },
    {
      "cell_type": "code",
      "source": [
        "total_feature_names=len(all_feature_names_bow)\n",
        "print(total_feature_names)"
      ],
      "metadata": {
        "colab": {
          "base_uri": "https://localhost:8080/"
        },
        "id": "83l_O8sqbk5-",
        "outputId": "da235341-df6c-4788-acca-4d87a43a81b3"
      },
      "execution_count": 53,
      "outputs": [
        {
          "output_type": "stream",
          "name": "stdout",
          "text": [
            "5101\n"
          ]
        }
      ]
    },
    {
      "cell_type": "code",
      "source": [
        "MN_bow=MultinomialNB(alpha=0.001,class_prior=[0.5,0.5])\n",
        "MN_bow.fit(X_tr,y_train)"
      ],
      "metadata": {
        "colab": {
          "base_uri": "https://localhost:8080/"
        },
        "id": "EAKT5tTmdipF",
        "outputId": "344b2e5f-a91f-4aad-ac4a-82f2aaecd0a9"
      },
      "execution_count": 54,
      "outputs": [
        {
          "output_type": "execute_result",
          "data": {
            "text/plain": [
              "MultinomialNB(alpha=0.001, class_prior=[0.5, 0.5])"
            ]
          },
          "metadata": {},
          "execution_count": 54
        }
      ]
    },
    {
      "cell_type": "code",
      "source": [
        "bow_feature_pos={}\n",
        "for i in range(total_feature_names):\n",
        "  bow_feature_pos[i]=MN_bow.feature_log_prob_[1,i]\n",
        "\n",
        "final_bow_feature_pos=pd.DataFrame({'estimates':list(bow_feature_pos.values()),'feature_names':list(all_feature_names_bow)})\n",
        "\n",
        "final_bow_feature_pos=final_bow_feature_pos.sort_values(by=['estimates'],ascending=False)\n",
        "\n",
        "print('TOP 20 FEATURES BELONGING TO POSTIVE CLASS')\n",
        "final_bow_feature_pos.head(20)"
      ],
      "metadata": {
        "colab": {
          "base_uri": "https://localhost:8080/",
          "height": 694
        },
        "id": "D72afWfgjaTE",
        "outputId": "a6910432-a879-4397-96f5-e6b06c471b5d"
      },
      "execution_count": 55,
      "outputs": [
        {
          "output_type": "stream",
          "name": "stdout",
          "text": [
            "TOP 20 FEATURES BELONGING TO POSTIVE CLASS\n"
          ]
        },
        {
          "output_type": "execute_result",
          "data": {
            "text/html": [
              "\n",
              "  <div id=\"df-bf58d058-5b25-44e1-ad2a-61fe1663c444\">\n",
              "    <div class=\"colab-df-container\">\n",
              "      <div>\n",
              "<style scoped>\n",
              "    .dataframe tbody tr th:only-of-type {\n",
              "        vertical-align: middle;\n",
              "    }\n",
              "\n",
              "    .dataframe tbody tr th {\n",
              "        vertical-align: top;\n",
              "    }\n",
              "\n",
              "    .dataframe thead th {\n",
              "        text-align: right;\n",
              "    }\n",
              "</style>\n",
              "<table border=\"1\" class=\"dataframe\">\n",
              "  <thead>\n",
              "    <tr style=\"text-align: right;\">\n",
              "      <th></th>\n",
              "      <th>estimates</th>\n",
              "      <th>feature_names</th>\n",
              "    </tr>\n",
              "  </thead>\n",
              "  <tbody>\n",
              "    <tr>\n",
              "      <th>4001</th>\n",
              "      <td>-3.223101</td>\n",
              "      <td>spend time</td>\n",
              "    </tr>\n",
              "    <tr>\n",
              "      <th>3592</th>\n",
              "      <td>-4.367988</td>\n",
              "      <td>relaxed</td>\n",
              "    </tr>\n",
              "    <tr>\n",
              "      <th>2781</th>\n",
              "      <td>-4.687909</td>\n",
              "      <td>memorable</td>\n",
              "    </tr>\n",
              "    <tr>\n",
              "      <th>2306</th>\n",
              "      <td>-4.719707</td>\n",
              "      <td>knit</td>\n",
              "    </tr>\n",
              "    <tr>\n",
              "      <th>677</th>\n",
              "      <td>-4.720095</td>\n",
              "      <td>cases</td>\n",
              "    </tr>\n",
              "    <tr>\n",
              "      <th>4408</th>\n",
              "      <td>-4.967017</td>\n",
              "      <td>supported</td>\n",
              "    </tr>\n",
              "    <tr>\n",
              "      <th>2930</th>\n",
              "      <td>-5.016694</td>\n",
              "      <td>my students range</td>\n",
              "    </tr>\n",
              "    <tr>\n",
              "      <th>4467</th>\n",
              "      <td>-5.029502</td>\n",
              "      <td>teamwork</td>\n",
              "    </tr>\n",
              "    <tr>\n",
              "      <th>2249</th>\n",
              "      <td>-5.051589</td>\n",
              "      <td>it would</td>\n",
              "    </tr>\n",
              "    <tr>\n",
              "      <th>2801</th>\n",
              "      <td>-5.075988</td>\n",
              "      <td>mine</td>\n",
              "    </tr>\n",
              "    <tr>\n",
              "      <th>1860</th>\n",
              "      <td>-5.102671</td>\n",
              "      <td>graders</td>\n",
              "    </tr>\n",
              "    <tr>\n",
              "      <th>5099</th>\n",
              "      <td>-5.220552</td>\n",
              "      <td>price</td>\n",
              "    </tr>\n",
              "    <tr>\n",
              "      <th>2582</th>\n",
              "      <td>-5.258476</td>\n",
              "      <td>love learning</td>\n",
              "    </tr>\n",
              "    <tr>\n",
              "      <th>2843</th>\n",
              "      <td>-5.310142</td>\n",
              "      <td>motivates</td>\n",
              "    </tr>\n",
              "    <tr>\n",
              "      <th>3413</th>\n",
              "      <td>-5.365322</td>\n",
              "      <td>project help</td>\n",
              "    </tr>\n",
              "    <tr>\n",
              "      <th>4882</th>\n",
              "      <td>-5.368284</td>\n",
              "      <td>ways</td>\n",
              "    </tr>\n",
              "    <tr>\n",
              "      <th>4786</th>\n",
              "      <td>-5.372661</td>\n",
              "      <td>using ipads</td>\n",
              "    </tr>\n",
              "    <tr>\n",
              "      <th>2856</th>\n",
              "      <td>-5.407869</td>\n",
              "      <td>move love</td>\n",
              "    </tr>\n",
              "    <tr>\n",
              "      <th>4668</th>\n",
              "      <td>-5.456394</td>\n",
              "      <td>time the</td>\n",
              "    </tr>\n",
              "    <tr>\n",
              "      <th>993</th>\n",
              "      <td>-5.521268</td>\n",
              "      <td>continues</td>\n",
              "    </tr>\n",
              "  </tbody>\n",
              "</table>\n",
              "</div>\n",
              "      <button class=\"colab-df-convert\" onclick=\"convertToInteractive('df-bf58d058-5b25-44e1-ad2a-61fe1663c444')\"\n",
              "              title=\"Convert this dataframe to an interactive table.\"\n",
              "              style=\"display:none;\">\n",
              "        \n",
              "  <svg xmlns=\"http://www.w3.org/2000/svg\" height=\"24px\"viewBox=\"0 0 24 24\"\n",
              "       width=\"24px\">\n",
              "    <path d=\"M0 0h24v24H0V0z\" fill=\"none\"/>\n",
              "    <path d=\"M18.56 5.44l.94 2.06.94-2.06 2.06-.94-2.06-.94-.94-2.06-.94 2.06-2.06.94zm-11 1L8.5 8.5l.94-2.06 2.06-.94-2.06-.94L8.5 2.5l-.94 2.06-2.06.94zm10 10l.94 2.06.94-2.06 2.06-.94-2.06-.94-.94-2.06-.94 2.06-2.06.94z\"/><path d=\"M17.41 7.96l-1.37-1.37c-.4-.4-.92-.59-1.43-.59-.52 0-1.04.2-1.43.59L10.3 9.45l-7.72 7.72c-.78.78-.78 2.05 0 2.83L4 21.41c.39.39.9.59 1.41.59.51 0 1.02-.2 1.41-.59l7.78-7.78 2.81-2.81c.8-.78.8-2.07 0-2.86zM5.41 20L4 18.59l7.72-7.72 1.47 1.35L5.41 20z\"/>\n",
              "  </svg>\n",
              "      </button>\n",
              "      \n",
              "  <style>\n",
              "    .colab-df-container {\n",
              "      display:flex;\n",
              "      flex-wrap:wrap;\n",
              "      gap: 12px;\n",
              "    }\n",
              "\n",
              "    .colab-df-convert {\n",
              "      background-color: #E8F0FE;\n",
              "      border: none;\n",
              "      border-radius: 50%;\n",
              "      cursor: pointer;\n",
              "      display: none;\n",
              "      fill: #1967D2;\n",
              "      height: 32px;\n",
              "      padding: 0 0 0 0;\n",
              "      width: 32px;\n",
              "    }\n",
              "\n",
              "    .colab-df-convert:hover {\n",
              "      background-color: #E2EBFA;\n",
              "      box-shadow: 0px 1px 2px rgba(60, 64, 67, 0.3), 0px 1px 3px 1px rgba(60, 64, 67, 0.15);\n",
              "      fill: #174EA6;\n",
              "    }\n",
              "\n",
              "    [theme=dark] .colab-df-convert {\n",
              "      background-color: #3B4455;\n",
              "      fill: #D2E3FC;\n",
              "    }\n",
              "\n",
              "    [theme=dark] .colab-df-convert:hover {\n",
              "      background-color: #434B5C;\n",
              "      box-shadow: 0px 1px 3px 1px rgba(0, 0, 0, 0.15);\n",
              "      filter: drop-shadow(0px 1px 2px rgba(0, 0, 0, 0.3));\n",
              "      fill: #FFFFFF;\n",
              "    }\n",
              "  </style>\n",
              "\n",
              "      <script>\n",
              "        const buttonEl =\n",
              "          document.querySelector('#df-bf58d058-5b25-44e1-ad2a-61fe1663c444 button.colab-df-convert');\n",
              "        buttonEl.style.display =\n",
              "          google.colab.kernel.accessAllowed ? 'block' : 'none';\n",
              "\n",
              "        async function convertToInteractive(key) {\n",
              "          const element = document.querySelector('#df-bf58d058-5b25-44e1-ad2a-61fe1663c444');\n",
              "          const dataTable =\n",
              "            await google.colab.kernel.invokeFunction('convertToInteractive',\n",
              "                                                     [key], {});\n",
              "          if (!dataTable) return;\n",
              "\n",
              "          const docLinkHtml = 'Like what you see? Visit the ' +\n",
              "            '<a target=\"_blank\" href=https://colab.research.google.com/notebooks/data_table.ipynb>data table notebook</a>'\n",
              "            + ' to learn more about interactive tables.';\n",
              "          element.innerHTML = '';\n",
              "          dataTable['output_type'] = 'display_data';\n",
              "          await google.colab.output.renderOutput(dataTable, element);\n",
              "          const docLink = document.createElement('div');\n",
              "          docLink.innerHTML = docLinkHtml;\n",
              "          element.appendChild(docLink);\n",
              "        }\n",
              "      </script>\n",
              "    </div>\n",
              "  </div>\n",
              "  "
            ],
            "text/plain": [
              "      estimates      feature_names\n",
              "4001  -3.223101         spend time\n",
              "3592  -4.367988            relaxed\n",
              "2781  -4.687909          memorable\n",
              "2306  -4.719707               knit\n",
              "677   -4.720095              cases\n",
              "4408  -4.967017          supported\n",
              "2930  -5.016694  my students range\n",
              "4467  -5.029502           teamwork\n",
              "2249  -5.051589           it would\n",
              "2801  -5.075988               mine\n",
              "1860  -5.102671            graders\n",
              "5099  -5.220552              price\n",
              "2582  -5.258476      love learning\n",
              "2843  -5.310142          motivates\n",
              "3413  -5.365322       project help\n",
              "4882  -5.368284               ways\n",
              "4786  -5.372661        using ipads\n",
              "2856  -5.407869          move love\n",
              "4668  -5.456394           time the\n",
              "993   -5.521268          continues"
            ]
          },
          "metadata": {},
          "execution_count": 55
        }
      ]
    },
    {
      "cell_type": "code",
      "source": [
        "bow_feature_neg={}\n",
        "for i in range(total_feature_names):\n",
        "  bow_feature_neg[i]=MN_bow.feature_log_prob_[0,i]\n",
        "\n",
        "final_bow_feature_neg=pd.DataFrame({'estimates': list(bow_feature_neg.values()),'feature_names':list(all_feature_names_bow)})\n",
        "\n",
        "final_bow_feature_neg=final_bow_feature_neg.sort_values(by=['estimates'],ascending= False)"
      ],
      "metadata": {
        "id": "1vJcRkXteMle"
      },
      "execution_count": 56,
      "outputs": []
    },
    {
      "cell_type": "code",
      "source": [
        "print('TOP 20 FEATURES BELONGING TO NEGATIVE FEATURES')\n",
        "final_bow_feature_neg.head(20)"
      ],
      "metadata": {
        "colab": {
          "base_uri": "https://localhost:8080/",
          "height": 694
        },
        "id": "0XNaxXL4i-8J",
        "outputId": "7cd0b1eb-80e3-43c5-e500-2797e54f054d"
      },
      "execution_count": 57,
      "outputs": [
        {
          "output_type": "stream",
          "name": "stdout",
          "text": [
            "TOP 20 FEATURES BELONGING TO NEGATIVE FEATURES\n"
          ]
        },
        {
          "output_type": "execute_result",
          "data": {
            "text/html": [
              "\n",
              "  <div id=\"df-64f9c136-b0c1-4992-a0a5-6da151755e06\">\n",
              "    <div class=\"colab-df-container\">\n",
              "      <div>\n",
              "<style scoped>\n",
              "    .dataframe tbody tr th:only-of-type {\n",
              "        vertical-align: middle;\n",
              "    }\n",
              "\n",
              "    .dataframe tbody tr th {\n",
              "        vertical-align: top;\n",
              "    }\n",
              "\n",
              "    .dataframe thead th {\n",
              "        text-align: right;\n",
              "    }\n",
              "</style>\n",
              "<table border=\"1\" class=\"dataframe\">\n",
              "  <thead>\n",
              "    <tr style=\"text-align: right;\">\n",
              "      <th></th>\n",
              "      <th>estimates</th>\n",
              "      <th>feature_names</th>\n",
              "    </tr>\n",
              "  </thead>\n",
              "  <tbody>\n",
              "    <tr>\n",
              "      <th>4001</th>\n",
              "      <td>-3.225873</td>\n",
              "      <td>spend time</td>\n",
              "    </tr>\n",
              "    <tr>\n",
              "      <th>3592</th>\n",
              "      <td>-4.323139</td>\n",
              "      <td>relaxed</td>\n",
              "    </tr>\n",
              "    <tr>\n",
              "      <th>2306</th>\n",
              "      <td>-4.628786</td>\n",
              "      <td>knit</td>\n",
              "    </tr>\n",
              "    <tr>\n",
              "      <th>2781</th>\n",
              "      <td>-4.697232</td>\n",
              "      <td>memorable</td>\n",
              "    </tr>\n",
              "    <tr>\n",
              "      <th>677</th>\n",
              "      <td>-4.743439</td>\n",
              "      <td>cases</td>\n",
              "    </tr>\n",
              "    <tr>\n",
              "      <th>2930</th>\n",
              "      <td>-4.943182</td>\n",
              "      <td>my students range</td>\n",
              "    </tr>\n",
              "    <tr>\n",
              "      <th>2249</th>\n",
              "      <td>-4.981557</td>\n",
              "      <td>it would</td>\n",
              "    </tr>\n",
              "    <tr>\n",
              "      <th>1860</th>\n",
              "      <td>-5.035347</td>\n",
              "      <td>graders</td>\n",
              "    </tr>\n",
              "    <tr>\n",
              "      <th>4467</th>\n",
              "      <td>-5.055617</td>\n",
              "      <td>teamwork</td>\n",
              "    </tr>\n",
              "    <tr>\n",
              "      <th>2801</th>\n",
              "      <td>-5.077678</td>\n",
              "      <td>mine</td>\n",
              "    </tr>\n",
              "    <tr>\n",
              "      <th>4408</th>\n",
              "      <td>-5.078536</td>\n",
              "      <td>supported</td>\n",
              "    </tr>\n",
              "    <tr>\n",
              "      <th>5099</th>\n",
              "      <td>-5.160455</td>\n",
              "      <td>price</td>\n",
              "    </tr>\n",
              "    <tr>\n",
              "      <th>2843</th>\n",
              "      <td>-5.236932</td>\n",
              "      <td>motivates</td>\n",
              "    </tr>\n",
              "    <tr>\n",
              "      <th>2582</th>\n",
              "      <td>-5.239955</td>\n",
              "      <td>love learning</td>\n",
              "    </tr>\n",
              "    <tr>\n",
              "      <th>4786</th>\n",
              "      <td>-5.377559</td>\n",
              "      <td>using ipads</td>\n",
              "    </tr>\n",
              "    <tr>\n",
              "      <th>2856</th>\n",
              "      <td>-5.383599</td>\n",
              "      <td>move love</td>\n",
              "    </tr>\n",
              "    <tr>\n",
              "      <th>4882</th>\n",
              "      <td>-5.389675</td>\n",
              "      <td>ways</td>\n",
              "    </tr>\n",
              "    <tr>\n",
              "      <th>771</th>\n",
              "      <td>-5.532289</td>\n",
              "      <td>class we</td>\n",
              "    </tr>\n",
              "    <tr>\n",
              "      <th>4952</th>\n",
              "      <td>-5.552773</td>\n",
              "      <td>wide</td>\n",
              "    </tr>\n",
              "    <tr>\n",
              "      <th>87</th>\n",
              "      <td>-5.579337</td>\n",
              "      <td>wi</td>\n",
              "    </tr>\n",
              "  </tbody>\n",
              "</table>\n",
              "</div>\n",
              "      <button class=\"colab-df-convert\" onclick=\"convertToInteractive('df-64f9c136-b0c1-4992-a0a5-6da151755e06')\"\n",
              "              title=\"Convert this dataframe to an interactive table.\"\n",
              "              style=\"display:none;\">\n",
              "        \n",
              "  <svg xmlns=\"http://www.w3.org/2000/svg\" height=\"24px\"viewBox=\"0 0 24 24\"\n",
              "       width=\"24px\">\n",
              "    <path d=\"M0 0h24v24H0V0z\" fill=\"none\"/>\n",
              "    <path d=\"M18.56 5.44l.94 2.06.94-2.06 2.06-.94-2.06-.94-.94-2.06-.94 2.06-2.06.94zm-11 1L8.5 8.5l.94-2.06 2.06-.94-2.06-.94L8.5 2.5l-.94 2.06-2.06.94zm10 10l.94 2.06.94-2.06 2.06-.94-2.06-.94-.94-2.06-.94 2.06-2.06.94z\"/><path d=\"M17.41 7.96l-1.37-1.37c-.4-.4-.92-.59-1.43-.59-.52 0-1.04.2-1.43.59L10.3 9.45l-7.72 7.72c-.78.78-.78 2.05 0 2.83L4 21.41c.39.39.9.59 1.41.59.51 0 1.02-.2 1.41-.59l7.78-7.78 2.81-2.81c.8-.78.8-2.07 0-2.86zM5.41 20L4 18.59l7.72-7.72 1.47 1.35L5.41 20z\"/>\n",
              "  </svg>\n",
              "      </button>\n",
              "      \n",
              "  <style>\n",
              "    .colab-df-container {\n",
              "      display:flex;\n",
              "      flex-wrap:wrap;\n",
              "      gap: 12px;\n",
              "    }\n",
              "\n",
              "    .colab-df-convert {\n",
              "      background-color: #E8F0FE;\n",
              "      border: none;\n",
              "      border-radius: 50%;\n",
              "      cursor: pointer;\n",
              "      display: none;\n",
              "      fill: #1967D2;\n",
              "      height: 32px;\n",
              "      padding: 0 0 0 0;\n",
              "      width: 32px;\n",
              "    }\n",
              "\n",
              "    .colab-df-convert:hover {\n",
              "      background-color: #E2EBFA;\n",
              "      box-shadow: 0px 1px 2px rgba(60, 64, 67, 0.3), 0px 1px 3px 1px rgba(60, 64, 67, 0.15);\n",
              "      fill: #174EA6;\n",
              "    }\n",
              "\n",
              "    [theme=dark] .colab-df-convert {\n",
              "      background-color: #3B4455;\n",
              "      fill: #D2E3FC;\n",
              "    }\n",
              "\n",
              "    [theme=dark] .colab-df-convert:hover {\n",
              "      background-color: #434B5C;\n",
              "      box-shadow: 0px 1px 3px 1px rgba(0, 0, 0, 0.15);\n",
              "      filter: drop-shadow(0px 1px 2px rgba(0, 0, 0, 0.3));\n",
              "      fill: #FFFFFF;\n",
              "    }\n",
              "  </style>\n",
              "\n",
              "      <script>\n",
              "        const buttonEl =\n",
              "          document.querySelector('#df-64f9c136-b0c1-4992-a0a5-6da151755e06 button.colab-df-convert');\n",
              "        buttonEl.style.display =\n",
              "          google.colab.kernel.accessAllowed ? 'block' : 'none';\n",
              "\n",
              "        async function convertToInteractive(key) {\n",
              "          const element = document.querySelector('#df-64f9c136-b0c1-4992-a0a5-6da151755e06');\n",
              "          const dataTable =\n",
              "            await google.colab.kernel.invokeFunction('convertToInteractive',\n",
              "                                                     [key], {});\n",
              "          if (!dataTable) return;\n",
              "\n",
              "          const docLinkHtml = 'Like what you see? Visit the ' +\n",
              "            '<a target=\"_blank\" href=https://colab.research.google.com/notebooks/data_table.ipynb>data table notebook</a>'\n",
              "            + ' to learn more about interactive tables.';\n",
              "          element.innerHTML = '';\n",
              "          dataTable['output_type'] = 'display_data';\n",
              "          await google.colab.output.renderOutput(dataTable, element);\n",
              "          const docLink = document.createElement('div');\n",
              "          docLink.innerHTML = docLinkHtml;\n",
              "          element.appendChild(docLink);\n",
              "        }\n",
              "      </script>\n",
              "    </div>\n",
              "  </div>\n",
              "  "
            ],
            "text/plain": [
              "      estimates      feature_names\n",
              "4001  -3.225873         spend time\n",
              "3592  -4.323139            relaxed\n",
              "2306  -4.628786               knit\n",
              "2781  -4.697232          memorable\n",
              "677   -4.743439              cases\n",
              "2930  -4.943182  my students range\n",
              "2249  -4.981557           it would\n",
              "1860  -5.035347            graders\n",
              "4467  -5.055617           teamwork\n",
              "2801  -5.077678               mine\n",
              "4408  -5.078536          supported\n",
              "5099  -5.160455              price\n",
              "2843  -5.236932          motivates\n",
              "2582  -5.239955      love learning\n",
              "4786  -5.377559        using ipads\n",
              "2856  -5.383599          move love\n",
              "4882  -5.389675               ways\n",
              "771   -5.532289           class we\n",
              "4952  -5.552773               wide\n",
              "87    -5.579337                 wi"
            ]
          },
          "metadata": {},
          "execution_count": 57
        }
      ]
    },
    {
      "cell_type": "markdown",
      "metadata": {
        "id": "lS9hIHdib3dp"
      },
      "source": [
        "<h1>3. Summary</h1>\n",
        "\n",
        "<br> as mentioned in the step 5 of instructions"
      ]
    },
    {
      "cell_type": "code",
      "execution_count": 59,
      "metadata": {
        "id": "Cxrw-eZe0uIw"
      },
      "outputs": [],
      "source": [
        "#Summarize your assignment work here in a few points, and also compare the final models (from set 1 and set 2), in terms of optimal hyperparameter value 'alpha', training AUC and test AUC scores.\n",
        "# You can either use a pretty table or any other tabular structure.\n",
        "# Reference Link for Pretty table:  https://pypi.org/project/prettytable/"
      ]
    },
    {
      "cell_type": "code",
      "source": [
        "from prettytable import PrettyTable\n",
        "\n",
        "x=PrettyTable()\n",
        "\n",
        "x.field_names=['index','Vectorizer','Model','Hyperparameter','AUC_Train','AUC_Test']\n",
        "x.add_row(['1','BOW','MultinomialNB',best_alpha1,train_auc1,test_auc1])\n",
        "x.add_row(['2','TFIDF','MultinomialNB',best_alpha2,train_auc2,test_auc2])\n",
        "print(x)"
      ],
      "metadata": {
        "colab": {
          "base_uri": "https://localhost:8080/"
        },
        "id": "q7KThYYBZb4P",
        "outputId": "100ebbab-e61e-434e-86c6-10faee65c3d1"
      },
      "execution_count": 64,
      "outputs": [
        {
          "output_type": "stream",
          "name": "stdout",
          "text": [
            "+-------+------------+---------------+----------------+--------------------+--------------------+\n",
            "| index | Vectorizer |     Model     | Hyperparameter |     AUC_Train      |      AUC_Test      |\n",
            "+-------+------------+---------------+----------------+--------------------+--------------------+\n",
            "|   1   |    BOW     | MultinomialNB |     0.001      | 0.7372779954721701 | 0.6856989444903968 |\n",
            "|   2   |   TFIDF    | MultinomialNB |      0.05      | 0.8052939139294948 | 0.671871799278264  |\n",
            "+-------+------------+---------------+----------------+--------------------+--------------------+\n"
          ]
        }
      ]
    }
  ],
  "metadata": {
    "colab": {
      "collapsed_sections": [],
      "name": "NB_Assignment_instructions.ipynb",
      "provenance": []
    },
    "kernelspec": {
      "display_name": "Python 3",
      "language": "python",
      "name": "python3"
    },
    "language_info": {
      "codemirror_mode": {
        "name": "ipython",
        "version": 3
      },
      "file_extension": ".py",
      "mimetype": "text/x-python",
      "name": "python",
      "nbconvert_exporter": "python",
      "pygments_lexer": "ipython3",
      "version": "3.6.3"
    }
  },
  "nbformat": 4,
  "nbformat_minor": 0
}