{
  "cells": [
    {
      "cell_type": "markdown",
      "metadata": {
        "id": "8wqapAXjsc24"
      },
      "source": [
        "# Assignment 9: GBDT"
      ]
    },
    {
      "cell_type": "markdown",
      "metadata": {
        "id": "8u5NhbnEsc2-"
      },
      "source": [
        "#### Response Coding: Example"
      ]
    },
    {
      "cell_type": "markdown",
      "metadata": {
        "id": "HIFWmwHKsc3A"
      },
      "source": [
        "<img src='http://i.imgur.com/TufZptV.jpg' width=700px>\n",
        "\n",
        "> The response tabel is built only on train dataset.\n",
        "> For a category which is not there in train data and present in test data, we will encode them with default values\n",
        "Ex: in our test data if have State: D then we encode it as [0.5, 0.05]"
      ]
    },
    {
      "cell_type": "code",
      "execution_count": null,
      "metadata": {
        "id": "JE5bdQTHOWfD"
      },
      "outputs": [],
      "source": [
        ""
      ]
    },
    {
      "cell_type": "code",
      "execution_count": null,
      "metadata": {
        "id": "sez16gDMOWfE"
      },
      "outputs": [],
      "source": [
        ""
      ]
    },
    {
      "cell_type": "markdown",
      "metadata": {
        "id": "3KwfGufDsc3D"
      },
      "source": [
        "<ol>\n",
        "    <li><strong>Apply GBDT on these feature sets</strong>\n",
        "        <ul>\n",
        "            <li><font color='red'>Set 1</font>: categorical(instead of one hot encoding, try <a href='https://www.appliedaicourse.com/course/applied-ai-course-online/lessons/handling-categorical-and-numerical-features/'>response coding</a>: use probability values), numerical features + project_title(TFIDF)+  preprocessed_eassay (TFIDF)+sentiment Score of eassay(check the bellow example, include all 4 values as 4 features)</li>\n",
        "            <li><font color='red'>Set 2</font>: categorical(instead of one hot encoding, try <a href='https://www.appliedaicourse.com/course/applied-ai-course-online/lessons/handling-categorical-and-numerical-features/'>response coding</a>: use probability values), numerical features + project_title(TFIDF W2V)+  preprocessed_eassay (TFIDF W2V)</li>        \n",
        "    </li>\n",
        "    <li> Here in response encoding you need to apply the <strong>laplase smoothing</strong> value for test set. Laplase smoothing means, If test point is present in test but not in train then you need to apply default 0.5 as probability value for that data point (Refer the Response Encoding Image from above cell) </li>\n",
        "    <li>Please use atleast <strong> 35k </strong> data points </li></ul>\n",
        "    <li><strong>The hyper paramter tuning (Consider any two hyper parameters)</strong>\n",
        "        <ul>\n",
        "    <li>Find the best hyper parameter which will give the maximum <a href='https://www.appliedaicourse.com/course/applied-ai-course-online/lessons/receiver-operating-characteristic-curve-roc-curve-and-auc-1/'>AUC</a> value</li>\n",
        "    <li>find the best hyper paramter using k-fold cross validation/simple cross validation data</li>\n",
        "    <li>use gridsearch cv or randomsearch cv or you can write your own for loops to do this task</li>\n",
        "        </ul>\n",
        "    </li>\n",
        "    <li>\n",
        "    <strong>Representation of results</strong>\n",
        "        <ul>\n",
        "    <li>You need to plot the performance of model both on train data and cross validation data for each hyper parameter, like shown in the figure\n",
        "    <img src='https://i.imgur.com/Gp2DQmh.jpg' width=500px> with X-axis as <strong>n_estimators</strong>, Y-axis as <strong>max_depth</strong>, and Z-axis as <strong>AUC Score</strong> , we have given the notebook which explains how to plot this 3d plot, you can find it in the same drive <i>3d_scatter_plot.ipynb</i></li>\n",
        "            <p style=\"text-align:center;font-size:30px;color:red;\"><strong>or</strong></p> <br>\n",
        "    <li>You need to plot the performance of model both on train data and cross validation data for each hyper parameter, like shown in the figure\n",
        "    <img src='https://i.imgur.com/fgN9aUP.jpg' width=300px> <a href='https://seaborn.pydata.org/generated/seaborn.heatmap.html'>seaborn heat maps</a> with rows as <strong>n_estimators</strong>, columns as <strong>max_depth</strong>, and values inside the cell representing <strong>AUC Score</strong> </li>\n",
        "    <li>You choose either of the plotting techniques out of 3d plot or heat map</li>\n",
        "    <li>Once after you found the best hyper parameter, you need to train your model with it, and find the AUC on test data and plot the ROC curve on both train and test.\n",
        "        Make sure that you are using predict_proba method to calculate AUC curves, because AUC is calcualted on class probabilities and not on class labels.\n",
        "    <img src='https://i.imgur.com/wMQDTFe.jpg' width=300px></li>\n",
        "    <li>Along with plotting ROC curve, you need to print the <a href='https://www.appliedaicourse.com/course/applied-ai-course-online/lessons/confusion-matrix-tpr-fpr-fnr-tnr-1/'>confusion matrix</a> with predicted and original labels of test data points\n",
        "    <img src='https://i.imgur.com/IdN5Ctv.png' width=300px></li>\n",
        "            </ul>\n",
        "    <br>\n",
        "    <li>You need to summarize the results at the end of the notebook, summarize it in the table format\n",
        "        <img src='http://i.imgur.com/YVpIGGE.jpg' width=400px>\n",
        "    </li>\n",
        "</ol>"
      ]
    },
    {
      "cell_type": "markdown",
      "metadata": {
        "id": "dw8bkHOAOWfG"
      },
      "source": [
        "# Few Notes"
      ]
    },
    {
      "cell_type": "markdown",
      "metadata": {
        "id": "ghHjJ5GaOWfH"
      },
      "source": [
        "1. Use atleast 35k data points\n",
        "2. Use classifier.Predict_proba() method instead of predict() method while calculating roc_auc scores\n",
        "3. Be sure that you are using laplase smoothing in response encoding function. Laplase smoothing means applying the default (0.5) value to test data if the test data is not present in the train set\n"
      ]
    },
    {
      "cell_type": "code",
      "execution_count": null,
      "metadata": {
        "id": "iffa2_WGsc3H"
      },
      "outputs": [],
      "source": [
        "import nltk\n",
        "from nltk.sentiment.vader import SentimentIntensityAnalyzer\n",
        "# import nltk\n",
        "# nltk.download('vader_lexicon')\n",
        "\n",
        "sid = SentimentIntensityAnalyzer()\n",
        "\n",
        "sample_sentence_1='I am happy.'\n",
        "ss_1 = sid.polarity_scores(sample_sentence_1)\n",
        "print('sentiment score for sentence 1',ss_1)\n",
        "\n",
        "sample_sentence_2='I am sad.'\n",
        "ss_2 = sid.polarity_scores(sample_sentence_2)\n",
        "print('sentiment score for sentence 2',ss_2)\n",
        "\n",
        "sample_sentence_3='I am going to New Delhi tommorow.'\n",
        "ss_3 = sid.polarity_scores(sample_sentence_3)\n",
        "print('sentiment score for sentence 3',ss_3)\n"
      ]
    },
    {
      "cell_type": "markdown",
      "metadata": {
        "id": "BOyTl7oKsc3W"
      },
      "source": [
        "<h1>1. GBDT (xgboost/lightgbm) </h1>"
      ]
    },
    {
      "cell_type": "markdown",
      "metadata": {
        "id": "VWge-b2Zsc3Z"
      },
      "source": [
        "## 1.1 Loading Data"
      ]
    },
    {
      "cell_type": "code",
      "execution_count": 2,
      "metadata": {
        "id": "WDZFu6-usc3d",
        "colab": {
          "base_uri": "https://localhost:8080/",
          "height": 177
        },
        "outputId": "d641e01c-fe8e-4cca-f0b2-5a5a6fa42a6a"
      },
      "outputs": [
        {
          "output_type": "execute_result",
          "data": {
            "text/plain": [
              "  school_state teacher_prefix project_grade_category  \\\n",
              "0           ca            mrs          grades_prek_2   \n",
              "\n",
              "   teacher_number_of_previously_posted_projects  project_is_approved  \\\n",
              "0                                            53                    1   \n",
              "\n",
              "  clean_categories                 clean_subcategories  \\\n",
              "0     math_science  appliedsciences health_lifescience   \n",
              "\n",
              "                                               essay   price  \n",
              "0  i fortunate enough use fairy tale stem kits cl...  725.05  "
            ],
            "text/html": [
              "\n",
              "  <div id=\"df-3c5cce5a-b79c-469e-8065-b1fcc84bcc56\">\n",
              "    <div class=\"colab-df-container\">\n",
              "      <div>\n",
              "<style scoped>\n",
              "    .dataframe tbody tr th:only-of-type {\n",
              "        vertical-align: middle;\n",
              "    }\n",
              "\n",
              "    .dataframe tbody tr th {\n",
              "        vertical-align: top;\n",
              "    }\n",
              "\n",
              "    .dataframe thead th {\n",
              "        text-align: right;\n",
              "    }\n",
              "</style>\n",
              "<table border=\"1\" class=\"dataframe\">\n",
              "  <thead>\n",
              "    <tr style=\"text-align: right;\">\n",
              "      <th></th>\n",
              "      <th>school_state</th>\n",
              "      <th>teacher_prefix</th>\n",
              "      <th>project_grade_category</th>\n",
              "      <th>teacher_number_of_previously_posted_projects</th>\n",
              "      <th>project_is_approved</th>\n",
              "      <th>clean_categories</th>\n",
              "      <th>clean_subcategories</th>\n",
              "      <th>essay</th>\n",
              "      <th>price</th>\n",
              "    </tr>\n",
              "  </thead>\n",
              "  <tbody>\n",
              "    <tr>\n",
              "      <th>0</th>\n",
              "      <td>ca</td>\n",
              "      <td>mrs</td>\n",
              "      <td>grades_prek_2</td>\n",
              "      <td>53</td>\n",
              "      <td>1</td>\n",
              "      <td>math_science</td>\n",
              "      <td>appliedsciences health_lifescience</td>\n",
              "      <td>i fortunate enough use fairy tale stem kits cl...</td>\n",
              "      <td>725.05</td>\n",
              "    </tr>\n",
              "  </tbody>\n",
              "</table>\n",
              "</div>\n",
              "      <button class=\"colab-df-convert\" onclick=\"convertToInteractive('df-3c5cce5a-b79c-469e-8065-b1fcc84bcc56')\"\n",
              "              title=\"Convert this dataframe to an interactive table.\"\n",
              "              style=\"display:none;\">\n",
              "        \n",
              "  <svg xmlns=\"http://www.w3.org/2000/svg\" height=\"24px\"viewBox=\"0 0 24 24\"\n",
              "       width=\"24px\">\n",
              "    <path d=\"M0 0h24v24H0V0z\" fill=\"none\"/>\n",
              "    <path d=\"M18.56 5.44l.94 2.06.94-2.06 2.06-.94-2.06-.94-.94-2.06-.94 2.06-2.06.94zm-11 1L8.5 8.5l.94-2.06 2.06-.94-2.06-.94L8.5 2.5l-.94 2.06-2.06.94zm10 10l.94 2.06.94-2.06 2.06-.94-2.06-.94-.94-2.06-.94 2.06-2.06.94z\"/><path d=\"M17.41 7.96l-1.37-1.37c-.4-.4-.92-.59-1.43-.59-.52 0-1.04.2-1.43.59L10.3 9.45l-7.72 7.72c-.78.78-.78 2.05 0 2.83L4 21.41c.39.39.9.59 1.41.59.51 0 1.02-.2 1.41-.59l7.78-7.78 2.81-2.81c.8-.78.8-2.07 0-2.86zM5.41 20L4 18.59l7.72-7.72 1.47 1.35L5.41 20z\"/>\n",
              "  </svg>\n",
              "      </button>\n",
              "      \n",
              "  <style>\n",
              "    .colab-df-container {\n",
              "      display:flex;\n",
              "      flex-wrap:wrap;\n",
              "      gap: 12px;\n",
              "    }\n",
              "\n",
              "    .colab-df-convert {\n",
              "      background-color: #E8F0FE;\n",
              "      border: none;\n",
              "      border-radius: 50%;\n",
              "      cursor: pointer;\n",
              "      display: none;\n",
              "      fill: #1967D2;\n",
              "      height: 32px;\n",
              "      padding: 0 0 0 0;\n",
              "      width: 32px;\n",
              "    }\n",
              "\n",
              "    .colab-df-convert:hover {\n",
              "      background-color: #E2EBFA;\n",
              "      box-shadow: 0px 1px 2px rgba(60, 64, 67, 0.3), 0px 1px 3px 1px rgba(60, 64, 67, 0.15);\n",
              "      fill: #174EA6;\n",
              "    }\n",
              "\n",
              "    [theme=dark] .colab-df-convert {\n",
              "      background-color: #3B4455;\n",
              "      fill: #D2E3FC;\n",
              "    }\n",
              "\n",
              "    [theme=dark] .colab-df-convert:hover {\n",
              "      background-color: #434B5C;\n",
              "      box-shadow: 0px 1px 3px 1px rgba(0, 0, 0, 0.15);\n",
              "      filter: drop-shadow(0px 1px 2px rgba(0, 0, 0, 0.3));\n",
              "      fill: #FFFFFF;\n",
              "    }\n",
              "  </style>\n",
              "\n",
              "      <script>\n",
              "        const buttonEl =\n",
              "          document.querySelector('#df-3c5cce5a-b79c-469e-8065-b1fcc84bcc56 button.colab-df-convert');\n",
              "        buttonEl.style.display =\n",
              "          google.colab.kernel.accessAllowed ? 'block' : 'none';\n",
              "\n",
              "        async function convertToInteractive(key) {\n",
              "          const element = document.querySelector('#df-3c5cce5a-b79c-469e-8065-b1fcc84bcc56');\n",
              "          const dataTable =\n",
              "            await google.colab.kernel.invokeFunction('convertToInteractive',\n",
              "                                                     [key], {});\n",
              "          if (!dataTable) return;\n",
              "\n",
              "          const docLinkHtml = 'Like what you see? Visit the ' +\n",
              "            '<a target=\"_blank\" href=https://colab.research.google.com/notebooks/data_table.ipynb>data table notebook</a>'\n",
              "            + ' to learn more about interactive tables.';\n",
              "          element.innerHTML = '';\n",
              "          dataTable['output_type'] = 'display_data';\n",
              "          await google.colab.output.renderOutput(dataTable, element);\n",
              "          const docLink = document.createElement('div');\n",
              "          docLink.innerHTML = docLinkHtml;\n",
              "          element.appendChild(docLink);\n",
              "        }\n",
              "      </script>\n",
              "    </div>\n",
              "  </div>\n",
              "  "
            ]
          },
          "metadata": {},
          "execution_count": 2
        }
      ],
      "source": [
        "import pandas\n",
        "data = pandas.read_csv('preprocessed_data.csv',nrows = 35000)\n",
        "data.head(1)"
      ]
    },
    {
      "cell_type": "code",
      "source": [
        "from tqdm import tqdm\n",
        "import nltk\n",
        "nltk.download('vader_lexicon')\n",
        "from nltk.sentiment.vader import SentimentIntensityAnalyzer\n",
        "\n",
        "analyzer= SentimentIntensityAnalyzer()\n",
        "negative = []\n",
        "positive = []\n",
        "neutral = []\n",
        "compound = []\n",
        "for i in data['essay']:\n",
        "  j= analyzer.polarity_scores(i)['neg']\n",
        "  k= analyzer.polarity_scores(i)['pos']\n",
        "  l= analyzer.polarity_scores(i)['neu']\n",
        "  m = analyzer.polarity_scores(i)['compound']\n",
        "\n",
        "  negative.append(j)  \n",
        "  positive.append(k)\n",
        "  neutral.append(l)  \n",
        "  compound.append(m)    \n"
      ],
      "metadata": {
        "colab": {
          "base_uri": "https://localhost:8080/",
          "height": 0
        },
        "id": "q8qaQxFrRFi8",
        "outputId": "b8c3d392-bcca-4a12-8c12-ce52966376aa"
      },
      "execution_count": 3,
      "outputs": [
        {
          "output_type": "stream",
          "name": "stdout",
          "text": [
            "[nltk_data] Downloading package vader_lexicon to /root/nltk_data...\n"
          ]
        },
        {
          "output_type": "stream",
          "name": "stderr",
          "text": [
            "/usr/local/lib/python3.7/dist-packages/nltk/twitter/__init__.py:20: UserWarning: The twython library has not been installed. Some functionality from the twitter package will not be available.\n",
            "  warnings.warn(\"The twython library has not been installed. \"\n"
          ]
        }
      ]
    },
    {
      "cell_type": "code",
      "source": [
        "data['s_negative']= negative\n",
        "data['s_positive']= positive\n",
        "data['s_neutral']= neutral\n",
        "data['s_compound']= compound\n"
      ],
      "metadata": {
        "id": "EXnQion9Ywzp"
      },
      "execution_count": 4,
      "outputs": []
    },
    {
      "cell_type": "code",
      "source": [
        "data.head(2)"
      ],
      "metadata": {
        "colab": {
          "base_uri": "https://localhost:8080/",
          "height": 332
        },
        "id": "18pjyoFgV0xr",
        "outputId": "bb4132f6-bfdc-4d54-eca9-d1388001014a"
      },
      "execution_count": 5,
      "outputs": [
        {
          "output_type": "execute_result",
          "data": {
            "text/plain": [
              "  school_state teacher_prefix project_grade_category  \\\n",
              "0           ca            mrs          grades_prek_2   \n",
              "1           ut             ms             grades_3_5   \n",
              "\n",
              "   teacher_number_of_previously_posted_projects  project_is_approved  \\\n",
              "0                                            53                    1   \n",
              "1                                             4                    1   \n",
              "\n",
              "  clean_categories                 clean_subcategories  \\\n",
              "0     math_science  appliedsciences health_lifescience   \n",
              "1     specialneeds                        specialneeds   \n",
              "\n",
              "                                               essay   price  s_negative  \\\n",
              "0  i fortunate enough use fairy tale stem kits cl...  725.05       0.013   \n",
              "1  imagine 8 9 years old you third grade classroo...  213.03       0.072   \n",
              "\n",
              "   s_positive  s_neutral  s_compound  \n",
              "0       0.205      0.783      0.9867  \n",
              "1       0.248      0.680      0.9897  "
            ],
            "text/html": [
              "\n",
              "  <div id=\"df-96aaff28-5d0e-49ff-acfe-ffd47917822b\">\n",
              "    <div class=\"colab-df-container\">\n",
              "      <div>\n",
              "<style scoped>\n",
              "    .dataframe tbody tr th:only-of-type {\n",
              "        vertical-align: middle;\n",
              "    }\n",
              "\n",
              "    .dataframe tbody tr th {\n",
              "        vertical-align: top;\n",
              "    }\n",
              "\n",
              "    .dataframe thead th {\n",
              "        text-align: right;\n",
              "    }\n",
              "</style>\n",
              "<table border=\"1\" class=\"dataframe\">\n",
              "  <thead>\n",
              "    <tr style=\"text-align: right;\">\n",
              "      <th></th>\n",
              "      <th>school_state</th>\n",
              "      <th>teacher_prefix</th>\n",
              "      <th>project_grade_category</th>\n",
              "      <th>teacher_number_of_previously_posted_projects</th>\n",
              "      <th>project_is_approved</th>\n",
              "      <th>clean_categories</th>\n",
              "      <th>clean_subcategories</th>\n",
              "      <th>essay</th>\n",
              "      <th>price</th>\n",
              "      <th>s_negative</th>\n",
              "      <th>s_positive</th>\n",
              "      <th>s_neutral</th>\n",
              "      <th>s_compound</th>\n",
              "    </tr>\n",
              "  </thead>\n",
              "  <tbody>\n",
              "    <tr>\n",
              "      <th>0</th>\n",
              "      <td>ca</td>\n",
              "      <td>mrs</td>\n",
              "      <td>grades_prek_2</td>\n",
              "      <td>53</td>\n",
              "      <td>1</td>\n",
              "      <td>math_science</td>\n",
              "      <td>appliedsciences health_lifescience</td>\n",
              "      <td>i fortunate enough use fairy tale stem kits cl...</td>\n",
              "      <td>725.05</td>\n",
              "      <td>0.013</td>\n",
              "      <td>0.205</td>\n",
              "      <td>0.783</td>\n",
              "      <td>0.9867</td>\n",
              "    </tr>\n",
              "    <tr>\n",
              "      <th>1</th>\n",
              "      <td>ut</td>\n",
              "      <td>ms</td>\n",
              "      <td>grades_3_5</td>\n",
              "      <td>4</td>\n",
              "      <td>1</td>\n",
              "      <td>specialneeds</td>\n",
              "      <td>specialneeds</td>\n",
              "      <td>imagine 8 9 years old you third grade classroo...</td>\n",
              "      <td>213.03</td>\n",
              "      <td>0.072</td>\n",
              "      <td>0.248</td>\n",
              "      <td>0.680</td>\n",
              "      <td>0.9897</td>\n",
              "    </tr>\n",
              "  </tbody>\n",
              "</table>\n",
              "</div>\n",
              "      <button class=\"colab-df-convert\" onclick=\"convertToInteractive('df-96aaff28-5d0e-49ff-acfe-ffd47917822b')\"\n",
              "              title=\"Convert this dataframe to an interactive table.\"\n",
              "              style=\"display:none;\">\n",
              "        \n",
              "  <svg xmlns=\"http://www.w3.org/2000/svg\" height=\"24px\"viewBox=\"0 0 24 24\"\n",
              "       width=\"24px\">\n",
              "    <path d=\"M0 0h24v24H0V0z\" fill=\"none\"/>\n",
              "    <path d=\"M18.56 5.44l.94 2.06.94-2.06 2.06-.94-2.06-.94-.94-2.06-.94 2.06-2.06.94zm-11 1L8.5 8.5l.94-2.06 2.06-.94-2.06-.94L8.5 2.5l-.94 2.06-2.06.94zm10 10l.94 2.06.94-2.06 2.06-.94-2.06-.94-.94-2.06-.94 2.06-2.06.94z\"/><path d=\"M17.41 7.96l-1.37-1.37c-.4-.4-.92-.59-1.43-.59-.52 0-1.04.2-1.43.59L10.3 9.45l-7.72 7.72c-.78.78-.78 2.05 0 2.83L4 21.41c.39.39.9.59 1.41.59.51 0 1.02-.2 1.41-.59l7.78-7.78 2.81-2.81c.8-.78.8-2.07 0-2.86zM5.41 20L4 18.59l7.72-7.72 1.47 1.35L5.41 20z\"/>\n",
              "  </svg>\n",
              "      </button>\n",
              "      \n",
              "  <style>\n",
              "    .colab-df-container {\n",
              "      display:flex;\n",
              "      flex-wrap:wrap;\n",
              "      gap: 12px;\n",
              "    }\n",
              "\n",
              "    .colab-df-convert {\n",
              "      background-color: #E8F0FE;\n",
              "      border: none;\n",
              "      border-radius: 50%;\n",
              "      cursor: pointer;\n",
              "      display: none;\n",
              "      fill: #1967D2;\n",
              "      height: 32px;\n",
              "      padding: 0 0 0 0;\n",
              "      width: 32px;\n",
              "    }\n",
              "\n",
              "    .colab-df-convert:hover {\n",
              "      background-color: #E2EBFA;\n",
              "      box-shadow: 0px 1px 2px rgba(60, 64, 67, 0.3), 0px 1px 3px 1px rgba(60, 64, 67, 0.15);\n",
              "      fill: #174EA6;\n",
              "    }\n",
              "\n",
              "    [theme=dark] .colab-df-convert {\n",
              "      background-color: #3B4455;\n",
              "      fill: #D2E3FC;\n",
              "    }\n",
              "\n",
              "    [theme=dark] .colab-df-convert:hover {\n",
              "      background-color: #434B5C;\n",
              "      box-shadow: 0px 1px 3px 1px rgba(0, 0, 0, 0.15);\n",
              "      filter: drop-shadow(0px 1px 2px rgba(0, 0, 0, 0.3));\n",
              "      fill: #FFFFFF;\n",
              "    }\n",
              "  </style>\n",
              "\n",
              "      <script>\n",
              "        const buttonEl =\n",
              "          document.querySelector('#df-96aaff28-5d0e-49ff-acfe-ffd47917822b button.colab-df-convert');\n",
              "        buttonEl.style.display =\n",
              "          google.colab.kernel.accessAllowed ? 'block' : 'none';\n",
              "\n",
              "        async function convertToInteractive(key) {\n",
              "          const element = document.querySelector('#df-96aaff28-5d0e-49ff-acfe-ffd47917822b');\n",
              "          const dataTable =\n",
              "            await google.colab.kernel.invokeFunction('convertToInteractive',\n",
              "                                                     [key], {});\n",
              "          if (!dataTable) return;\n",
              "\n",
              "          const docLinkHtml = 'Like what you see? Visit the ' +\n",
              "            '<a target=\"_blank\" href=https://colab.research.google.com/notebooks/data_table.ipynb>data table notebook</a>'\n",
              "            + ' to learn more about interactive tables.';\n",
              "          element.innerHTML = '';\n",
              "          dataTable['output_type'] = 'display_data';\n",
              "          await google.colab.output.renderOutput(dataTable, element);\n",
              "          const docLink = document.createElement('div');\n",
              "          docLink.innerHTML = docLinkHtml;\n",
              "          element.appendChild(docLink);\n",
              "        }\n",
              "      </script>\n",
              "    </div>\n",
              "  </div>\n",
              "  "
            ]
          },
          "metadata": {},
          "execution_count": 5
        }
      ]
    },
    {
      "cell_type": "markdown",
      "metadata": {
        "id": "6lAMFKFcsc3j"
      },
      "source": [
        "<h2>1.2 Splitting data into Train and cross validation(or test): Stratified Sampling</h2>"
      ]
    },
    {
      "cell_type": "code",
      "execution_count": 6,
      "metadata": {
        "id": "ODMijuuNsc3l"
      },
      "outputs": [],
      "source": [
        "# please write all the code with proper documentation, and proper titles for each subsection\n",
        "# go through documentations and blogs before you start coding\n",
        "# first figure out what to do, and then think about how to do.\n",
        "# reading and understanding error messages will be very much helpfull in debugging your code\n",
        "# when you plot any graph make sure you use \n",
        "    # a. Title, that describes your plot, this will be very helpful to the reader\n",
        "    # b. Legends if needed\n",
        "    # c. X-axis label\n",
        "    # d. Y-axis label"
      ]
    },
    {
      "cell_type": "code",
      "source": [
        "x=data.drop(['project_is_approved'],axis=1)\n",
        "y=data['project_is_approved'].values"
      ],
      "metadata": {
        "id": "7YJat6ZSTaYO"
      },
      "execution_count": 7,
      "outputs": []
    },
    {
      "cell_type": "code",
      "source": [
        "from sklearn.model_selection import train_test_split\n",
        "X_train,X_test,y_train,y_test = train_test_split(x,y,test_size = 0.30,random_state = 42)"
      ],
      "metadata": {
        "id": "lvjF6HoBTM60"
      },
      "execution_count": 8,
      "outputs": []
    },
    {
      "cell_type": "markdown",
      "metadata": {
        "id": "vsALgl5Asc3u"
      },
      "source": [
        "<h2>1.3 Make Data Model Ready: encoding eassay, and project_title</h2>"
      ]
    },
    {
      "cell_type": "code",
      "execution_count": 9,
      "metadata": {
        "id": "1A_85jbWsc3v"
      },
      "outputs": [],
      "source": [
        "# please write all the code with proper documentation, and proper titles for each subsection\n",
        "# go through documentations and blogs before you start coding\n",
        "# first figure out what to do, and then think about how to do.\n",
        "# reading and understanding error messages will be very much helpfull in debugging your code\n",
        "# make sure you featurize train and test data separatly\n",
        "\n",
        "# when you plot any graph make sure you use \n",
        "    # a. Title, that describes your plot, this will be very helpful to the reader\n",
        "    # b. Legends if needed\n",
        "    # c. X-axis label\n",
        "    # d. Y-axis label"
      ]
    },
    {
      "cell_type": "markdown",
      "source": [
        "<h3> TfIdf"
      ],
      "metadata": {
        "id": "E9uwKpNqWSuG"
      }
    },
    {
      "cell_type": "code",
      "source": [
        "from sklearn.feature_extraction.text import TfidfVectorizer\n",
        "vectorizer = TfidfVectorizer(min_df = 10)\n",
        "\n",
        "vectorizer.fit(X_train['essay'].values)\n",
        "X_train_essay_tfidf = vectorizer.transform(X_train['essay'].values)\n",
        "X_test_essay_tfidf  = vectorizer.transform(X_test['essay'].values)\n",
        "\n",
        "print(X_train_essay_tfidf.shape)\n",
        "print(X_test_essay_tfidf.shape)"
      ],
      "metadata": {
        "colab": {
          "base_uri": "https://localhost:8080/",
          "height": 0
        },
        "id": "o4ib2i_NT-4p",
        "outputId": "51e772ef-a541-4349-fd0a-78a861ca1391"
      },
      "execution_count": 10,
      "outputs": [
        {
          "output_type": "stream",
          "name": "stdout",
          "text": [
            "(24500, 9126)\n",
            "(10500, 9126)\n"
          ]
        }
      ]
    },
    {
      "cell_type": "markdown",
      "source": [
        "<h3> Tfidf-W2V"
      ],
      "metadata": {
        "id": "THc67Y7GWW1Q"
      }
    },
    {
      "cell_type": "code",
      "source": [
        "import pickle\n",
        "with open ('glove_vectors','rb') as f:\n",
        "  model = pickle.load(f)\n",
        "  glove_words = set(model.keys())"
      ],
      "metadata": {
        "id": "pez3D84wWDng"
      },
      "execution_count": 11,
      "outputs": []
    },
    {
      "cell_type": "code",
      "source": [
        "import numpy as np\n",
        "tfidf_model = TfidfVectorizer()\n",
        "tfidf_model.fit(X_train['essay'].values)\n",
        "dictionary = dict(zip(tfidf_model.get_feature_names(), list(tfidf_model.idf_)))\n",
        "tfidf_words = set(tfidf_model.get_feature_names())"
      ],
      "metadata": {
        "colab": {
          "base_uri": "https://localhost:8080/",
          "height": 0
        },
        "id": "Kzb6flJcWxWt",
        "outputId": "d62299ec-6b7e-4d1f-8a5d-192e20130e19"
      },
      "execution_count": 12,
      "outputs": [
        {
          "output_type": "stream",
          "name": "stderr",
          "text": [
            "/usr/local/lib/python3.7/dist-packages/sklearn/utils/deprecation.py:87: FutureWarning: Function get_feature_names is deprecated; get_feature_names is deprecated in 1.0 and will be removed in 1.2. Please use get_feature_names_out instead.\n",
            "  warnings.warn(msg, category=FutureWarning)\n",
            "/usr/local/lib/python3.7/dist-packages/sklearn/utils/deprecation.py:87: FutureWarning: Function get_feature_names is deprecated; get_feature_names is deprecated in 1.0 and will be removed in 1.2. Please use get_feature_names_out instead.\n",
            "  warnings.warn(msg, category=FutureWarning)\n"
          ]
        }
      ]
    },
    {
      "cell_type": "code",
      "source": [
        "tfidf_w2v_train = []; # the avg-w2v for each sentence/review is stored in this list\n",
        "for sentence in tqdm(X_train['essay'].values): # for each review/sentence\n",
        "  vector = np.zeros(300) # as word vectors are of zero length\n",
        "  tf_idf_weight =0; # num of words with a valid vector in the sentence/review\n",
        "  for word in sentence.split(): # for each word in a review/sentence\n",
        "    if (word in glove_words) and (word in tfidf_words):\n",
        "      vec = model[word] # getting the vector for each word\n",
        "            # here we are multiplying idf value(dictionary[word]) and the tf value((sentence.count(word)/len(sentence.split())))\n",
        "      tf_idf = dictionary[word]*(sentence.count(word)/len(sentence.split())) # getting the tfidf value for each word\n",
        "      vector += (vec * tf_idf) # calculating tfidf weighted w2v\n",
        "      tf_idf_weight += tf_idf\n",
        "  if tf_idf_weight != 0:\n",
        "    vector /= tf_idf_weight\n",
        "  tfidf_w2v_train.append(vector)\n",
        "\n",
        "print(len(tfidf_w2v_train))\n",
        "print(len(tfidf_w2v_train[0]))"
      ],
      "metadata": {
        "colab": {
          "base_uri": "https://localhost:8080/",
          "height": 0
        },
        "id": "cTDr1wAZW24k",
        "outputId": "782bcd16-8ea0-44fc-99c3-b0fc532a3760"
      },
      "execution_count": 13,
      "outputs": [
        {
          "output_type": "stream",
          "name": "stderr",
          "text": [
            "100%|██████████| 24500/24500 [00:59<00:00, 408.65it/s]"
          ]
        },
        {
          "output_type": "stream",
          "name": "stdout",
          "text": [
            "24500\n",
            "300\n"
          ]
        },
        {
          "output_type": "stream",
          "name": "stderr",
          "text": [
            "\n"
          ]
        }
      ]
    },
    {
      "cell_type": "code",
      "source": [
        "tfidf_w2v_test = []; # the avg-w2v for each sentence/review is stored in this list\n",
        "for sentence in tqdm(X_test['essay'].values): # for each review/sentence\n",
        "  vector = np.zeros(300) # as word vectors are of zero length\n",
        "  tf_idf_weight =0; # num of words with a valid vector in the sentence/review\n",
        "  for word in sentence.split(): # for each word in a review/sentence\n",
        "    if (word in glove_words) and (word in tfidf_words):\n",
        "      vec = model[word] # getting the vector for each word\n",
        "            # here we are multiplying idf value(dictionary[word]) and the tf value((sentence.count(word)/len(sentence.split())))\n",
        "      tf_idf = dictionary[word]*(sentence.count(word)/len(sentence.split())) # getting the tfidf value for each word\n",
        "      vector += (vec * tf_idf) # calculating tfidf weighted w2v\n",
        "      tf_idf_weight += tf_idf\n",
        "  if tf_idf_weight != 0:\n",
        "    vector /= tf_idf_weight\n",
        "  tfidf_w2v_test.append(vector)\n",
        "\n",
        "print(len(tfidf_w2v_test))\n",
        "print(len(tfidf_w2v_test[0]))"
      ],
      "metadata": {
        "colab": {
          "base_uri": "https://localhost:8080/",
          "height": 0
        },
        "id": "d8xslj8vW73a",
        "outputId": "2248ee8f-2220-492b-ff89-3efd589a9a44"
      },
      "execution_count": 14,
      "outputs": [
        {
          "output_type": "stream",
          "name": "stderr",
          "text": [
            "100%|██████████| 10500/10500 [00:25<00:00, 407.79it/s]"
          ]
        },
        {
          "output_type": "stream",
          "name": "stdout",
          "text": [
            "10500\n",
            "300\n"
          ]
        },
        {
          "output_type": "stream",
          "name": "stderr",
          "text": [
            "\n"
          ]
        }
      ]
    },
    {
      "cell_type": "markdown",
      "metadata": {
        "id": "S3Vxxv2Hsc31"
      },
      "source": [
        "<h2>1.4 Make Data Model Ready: encoding numerical, categorical features</h2>"
      ]
    },
    {
      "cell_type": "code",
      "execution_count": 15,
      "metadata": {
        "id": "RAtihVPqsc33"
      },
      "outputs": [],
      "source": [
        "# please write all the code with proper documentation, and proper titles for each subsection\n",
        "# go through documentations and blogs before you start coding \n",
        "# first figure out what to do, and then think about how to do.\n",
        "# reading and understanding error messages will be very much helpfull in debugging your code\n",
        "# make sure you featurize train and test data separatly\n",
        "\n",
        "# when you plot any graph make sure you use \n",
        "    # a. Title, that describes your plot, this will be very helpful to the reader\n",
        "    # b. Legends if needed\n",
        "    # c. X-axis label\n",
        "    # d. Y-axis label"
      ]
    },
    {
      "cell_type": "markdown",
      "source": [
        "<h3> Categorical Features"
      ],
      "metadata": {
        "id": "-4y2omm1XZ7j"
      }
    },
    {
      "cell_type": "code",
      "source": [
        "def get_gv_fea_dict(alpha, feature, df):\n",
        "   \n",
        "    value_count = X_train[feature].value_counts()\n",
        "    gv_dict = dict()\n",
        "    for i, denominator in value_count.items():\n",
        "      vec = []\n",
        "      for k in range(0,2):\n",
        "        cls_cnt = X_train.loc[('project_is_approved'==k) & (X_train[feature]==i)]\n",
        "        vec.append((cls_cnt.shape[0] + alpha*10)/ (denominator + 20*alpha))\n",
        "      gv_dict[i]=vec\n",
        "    return gv_dict\n",
        "\n",
        "def get_gv_feature(alpha, feature, df):\n",
        "    gv_dict = get_gv_fea_dict(alpha, feature, df)\n",
        "    value_count = X_train[feature].value_counts()\n",
        "    gv_fea = []\n",
        "    for index, row in df.iterrows():\n",
        "        if row[feature] in dict(value_count).keys():\n",
        "            gv_fea.append(gv_dict[row[feature]])\n",
        "        else:\n",
        "            gv_fea.append([1/2,1/2])\n",
        "    return gv_fea"
      ],
      "metadata": {
        "id": "rP8qctI7XZKm"
      },
      "execution_count": 16,
      "outputs": []
    },
    {
      "cell_type": "markdown",
      "source": [
        "<h4> Teacher Prefix"
      ],
      "metadata": {
        "id": "JyHdN9Z1aBMe"
      }
    },
    {
      "cell_type": "code",
      "source": [
        "import numpy as np\n",
        "alpha = 1\n",
        "X_train_teacher_prefix_rc = np.array(get_gv_feature(alpha,'teacher_prefix',X_train))\n",
        "X_test_teacher_prefix_rc = np.array(get_gv_feature(alpha,'teacher_prefix',X_test))\n",
        "\n",
        "print(X_train_teacher_prefix_rc.shape)\n",
        "print(X_test_teacher_prefix_rc.shape)\n"
      ],
      "metadata": {
        "colab": {
          "base_uri": "https://localhost:8080/",
          "height": 0
        },
        "id": "K_2BG6z0ZjYi",
        "outputId": "b9af5bb0-21cf-4b99-dd49-a7c9eb977cdf"
      },
      "execution_count": 17,
      "outputs": [
        {
          "output_type": "stream",
          "name": "stdout",
          "text": [
            "(24500, 2)\n",
            "(10500, 2)\n"
          ]
        }
      ]
    },
    {
      "cell_type": "markdown",
      "source": [
        "<h4>Project Grade Category<h4>"
      ],
      "metadata": {
        "id": "ovwbZis_jFO1"
      }
    },
    {
      "cell_type": "code",
      "source": [
        "X_train_grade_rc =  np.array(get_gv_feature(alpha,'project_grade_category',X_train))\n",
        "X_test_grade_rc =  np.array(get_gv_feature(alpha,'project_grade_category',X_test))\n",
        "\n",
        "print(X_train_grade_rc.shape)\n",
        "print(X_test_grade_rc.shape)"
      ],
      "metadata": {
        "colab": {
          "base_uri": "https://localhost:8080/",
          "height": 0
        },
        "id": "0sQMzw2NjE_2",
        "outputId": "85997cde-cc30-45bf-8f2f-59409cc69e26"
      },
      "execution_count": 18,
      "outputs": [
        {
          "output_type": "stream",
          "name": "stdout",
          "text": [
            "(24500, 2)\n",
            "(10500, 2)\n"
          ]
        }
      ]
    },
    {
      "cell_type": "markdown",
      "source": [
        "<h4> School State <h4>"
      ],
      "metadata": {
        "id": "yNRpshLHjyWV"
      }
    },
    {
      "cell_type": "code",
      "source": [
        "X_train_state_rc =  np.array(get_gv_feature(alpha,'school_state',X_train))\n",
        "X_test_state_rc = np.array(get_gv_feature(alpha,'school_state',X_test))\n",
        "\n",
        "print(X_train_state_rc.shape)\n",
        "print(X_test_state_rc.shape)"
      ],
      "metadata": {
        "colab": {
          "base_uri": "https://localhost:8080/",
          "height": 0
        },
        "id": "q0Zov3fPjx0b",
        "outputId": "d2a4102d-0b26-4927-f231-d3e4550d1d32"
      },
      "execution_count": 19,
      "outputs": [
        {
          "output_type": "stream",
          "name": "stdout",
          "text": [
            "(24500, 2)\n",
            "(10500, 2)\n"
          ]
        }
      ]
    },
    {
      "cell_type": "markdown",
      "source": [
        "<h4> Clean Categories <h4>"
      ],
      "metadata": {
        "id": "0qWyRfsQkKEx"
      }
    },
    {
      "cell_type": "code",
      "source": [
        "X_train_clean_categories_rc = np.array(get_gv_feature(alpha,'clean_categories',X_train))\n",
        "X_test_clean_categories_rc = np.array(get_gv_feature(alpha,'clean_categories',X_test))\n",
        "\n",
        "print(X_train_clean_categories_rc.shape)\n",
        "print(X_test_clean_categories_rc.shape)"
      ],
      "metadata": {
        "colab": {
          "base_uri": "https://localhost:8080/",
          "height": 0
        },
        "id": "RWhRRpN4kNcB",
        "outputId": "ebd5fb86-c552-4e7c-8a0c-c3a6e97857a9"
      },
      "execution_count": 20,
      "outputs": [
        {
          "output_type": "stream",
          "name": "stdout",
          "text": [
            "(24500, 2)\n",
            "(10500, 2)\n"
          ]
        }
      ]
    },
    {
      "cell_type": "markdown",
      "source": [
        "<h4> Clean Subcategories<h4>"
      ],
      "metadata": {
        "id": "7Odqo4bPkfPl"
      }
    },
    {
      "cell_type": "code",
      "source": [
        "X_train_clean_subcategories_rc= np.array(get_gv_feature(alpha,'clean_subcategories',X_train))\n",
        "X_test_clean_subcategories_rc = np.array(get_gv_feature(alpha,'clean_subcategories',X_test))\n",
        "\n",
        "print(X_train_clean_subcategories_rc.shape)\n",
        "print(X_test_clean_subcategories_rc.shape)"
      ],
      "metadata": {
        "colab": {
          "base_uri": "https://localhost:8080/",
          "height": 0
        },
        "id": "IazmsPaXkgYu",
        "outputId": "0b688fb5-b292-4cc5-d460-a31a827215e9"
      },
      "execution_count": 21,
      "outputs": [
        {
          "output_type": "stream",
          "name": "stdout",
          "text": [
            "(24500, 2)\n",
            "(10500, 2)\n"
          ]
        }
      ]
    },
    {
      "cell_type": "markdown",
      "source": [
        "<h3> Numerical Encoding"
      ],
      "metadata": {
        "id": "WmuzZZKVkzo1"
      }
    },
    {
      "cell_type": "markdown",
      "source": [
        "<h4> Price <h4>"
      ],
      "metadata": {
        "id": "ErUYMIG_k3aM"
      }
    },
    {
      "cell_type": "code",
      "source": [
        "from sklearn.preprocessing import Normalizer\n",
        "normalizer =Normalizer()\n",
        "\n",
        "normalizer.fit(X_train['price'].values.reshape(-1,1))\n",
        "\n",
        "X_train_price = normalizer.transform(X_train['price'].values.reshape(-1,1))\n",
        "X_test_price = normalizer.transform(X_test['price'].values.reshape(-1,1))\n",
        "\n",
        "print(X_train_price.shape,y_train.shape)\n",
        "print(X_test_price.shape,y_test.shape)"
      ],
      "metadata": {
        "colab": {
          "base_uri": "https://localhost:8080/",
          "height": 0
        },
        "id": "HAcUpZWQk5m6",
        "outputId": "4114408e-cbd5-49d2-a1fc-c2d86f5e00ab"
      },
      "execution_count": 22,
      "outputs": [
        {
          "output_type": "stream",
          "name": "stdout",
          "text": [
            "(24500, 1) (24500,)\n",
            "(10500, 1) (10500,)\n"
          ]
        }
      ]
    },
    {
      "cell_type": "markdown",
      "source": [
        "<h4> Teacher number of previously posted projects <h4>"
      ],
      "metadata": {
        "id": "C6U4v1gYlw05"
      }
    },
    {
      "cell_type": "code",
      "source": [
        "normalizer.fit(X_train['teacher_number_of_previously_posted_projects'].values.reshape(-1,1))\n",
        "\n",
        "X_train_teacher_projects = normalizer.transform(X_train['teacher_number_of_previously_posted_projects'].values.reshape(-1,1))\n",
        "X_test_teacher_projects = normalizer.transform(X_test['teacher_number_of_previously_posted_projects'].values.reshape(-1,1))\n",
        "\n",
        "print(X_train_teacher_projects.shape,y_train.shape)\n",
        "print(X_test_teacher_projects.shape,y_test.shape)"
      ],
      "metadata": {
        "colab": {
          "base_uri": "https://localhost:8080/",
          "height": 0
        },
        "id": "O97itsrjlxt1",
        "outputId": "e0a90d1c-7548-4257-ab4b-4eabafdb2cf2"
      },
      "execution_count": 23,
      "outputs": [
        {
          "output_type": "stream",
          "name": "stdout",
          "text": [
            "(24500, 1) (24500,)\n",
            "(10500, 1) (10500,)\n"
          ]
        }
      ]
    },
    {
      "cell_type": "markdown",
      "source": [
        "<h4> Sentiment Negative <h4>"
      ],
      "metadata": {
        "id": "v6CQQkZQl1cn"
      }
    },
    {
      "cell_type": "code",
      "source": [
        "normalizer.fit(X_train['s_negative'].values.reshape(-1,1))\n",
        "\n",
        "X_train_s_negative=normalizer.transform(X_train['s_negative'].values.reshape(-1,1))\n",
        "X_test_s_negative=normalizer.transform(X_test['s_negative'].values.reshape(-1,1))\n",
        "\n",
        "print(X_train_s_negative.shape,y_train.shape)\n",
        "print(X_test_s_negative.shape,y_test.shape)"
      ],
      "metadata": {
        "colab": {
          "base_uri": "https://localhost:8080/",
          "height": 0
        },
        "id": "IoenZi5Tl051",
        "outputId": "ec037ef8-8a94-4fc8-8679-f93ccde04303"
      },
      "execution_count": 24,
      "outputs": [
        {
          "output_type": "stream",
          "name": "stdout",
          "text": [
            "(24500, 1) (24500,)\n",
            "(10500, 1) (10500,)\n"
          ]
        }
      ]
    },
    {
      "cell_type": "markdown",
      "source": [
        "<h4> Sentiment Positive <h4>"
      ],
      "metadata": {
        "id": "3Fydk3PmmMbd"
      }
    },
    {
      "cell_type": "code",
      "source": [
        "normalizer.fit(X_train['s_positive'].values.reshape(-1,1))\n",
        "\n",
        "X_train_s_positive=normalizer.transform(X_train['s_positive'].values.reshape(-1,1))\n",
        "X_test_s_positive=normalizer.transform(X_test['s_positive'].values.reshape(-1,1))\n",
        "\n",
        "print(X_train_s_positive.shape,y_train.shape)\n",
        "print(X_test_s_positive.shape,y_test.shape)"
      ],
      "metadata": {
        "colab": {
          "base_uri": "https://localhost:8080/",
          "height": 0
        },
        "id": "v3dNmr3cmPJk",
        "outputId": "51d0658d-914e-432d-db63-18ff31274d18"
      },
      "execution_count": 25,
      "outputs": [
        {
          "output_type": "stream",
          "name": "stdout",
          "text": [
            "(24500, 1) (24500,)\n",
            "(10500, 1) (10500,)\n"
          ]
        }
      ]
    },
    {
      "cell_type": "markdown",
      "source": [
        "<h4> Sentiment Neutral <h4>"
      ],
      "metadata": {
        "id": "qU7orWJ0mSck"
      }
    },
    {
      "cell_type": "code",
      "source": [
        "normalizer.fit(X_train['s_neutral'].values.reshape(-1,1))\n",
        "\n",
        "X_train_s_neutral=normalizer.transform(X_train['s_neutral'].values.reshape(-1,1))\n",
        "X_test_s_neutral=normalizer.transform(X_test['s_neutral'].values.reshape(-1,1))\n",
        "\n",
        "print(X_train_s_neutral.shape,y_train.shape)\n",
        "print(X_test_s_neutral.shape,y_test.shape)"
      ],
      "metadata": {
        "colab": {
          "base_uri": "https://localhost:8080/",
          "height": 0
        },
        "id": "aqUj0aysmUq-",
        "outputId": "83045cff-28ad-481b-f50d-3791a844e489"
      },
      "execution_count": 26,
      "outputs": [
        {
          "output_type": "stream",
          "name": "stdout",
          "text": [
            "(24500, 1) (24500,)\n",
            "(10500, 1) (10500,)\n"
          ]
        }
      ]
    },
    {
      "cell_type": "markdown",
      "source": [
        "<h4> Sentiment Compound <h4>"
      ],
      "metadata": {
        "id": "UqaX3ufrmVGw"
      }
    },
    {
      "cell_type": "code",
      "source": [
        "normalizer.fit(X_train['s_compound'].values.reshape(-1,1))\n",
        "\n",
        "X_train_s_compound=normalizer.transform(X_train['s_compound'].values.reshape(-1,1))\n",
        "X_test_s_compound=normalizer.transform(X_test['s_compound'].values.reshape(-1,1))\n",
        "\n",
        "print(X_train_s_compound.shape,y_train.shape)\n",
        "print(X_test_s_compound.shape,y_test.shape)"
      ],
      "metadata": {
        "colab": {
          "base_uri": "https://localhost:8080/",
          "height": 0
        },
        "id": "ua59nstqmVuf",
        "outputId": "11555f65-68a8-4e99-d1af-84f20d8daec1"
      },
      "execution_count": 27,
      "outputs": [
        {
          "output_type": "stream",
          "name": "stdout",
          "text": [
            "(24500, 1) (24500,)\n",
            "(10500, 1) (10500,)\n"
          ]
        }
      ]
    },
    {
      "cell_type": "markdown",
      "metadata": {
        "id": "I5wDFj17sc3-"
      },
      "source": [
        "<h2>1.5 Appling Models on different kind of featurization as mentioned in the instructions</h2>"
      ]
    },
    {
      "cell_type": "markdown",
      "source": [
        "<h4> Hyperparameter Tuning"
      ],
      "metadata": {
        "id": "uzFPTM-9s9w3"
      }
    },
    {
      "cell_type": "markdown",
      "metadata": {
        "id": "O5tWox1jsc3_"
      },
      "source": [
        "<br>Apply GBDT on different kind of featurization as mentioned in the instructions\n",
        "<br> For Every model that you work on make sure you do the step 2 and step 3 of instrucations"
      ]
    },
    {
      "cell_type": "code",
      "execution_count": 31,
      "metadata": {
        "id": "ARWulYUwsc4B"
      },
      "outputs": [],
      "source": [
        "# please write all the code with proper documentation, and proper titles for each subsection\n",
        "# go through documentations and blogs before you start coding\n",
        "# first figure out what to do, and then think about how to do.\n",
        "# reading and understanding error messages will be very much helpfull in debugging your code\n",
        "# when you plot any graph make sure you use \n",
        "    # a. Title, that describes your plot, this will be very helpful to the reader\n",
        "    # b. Legends if needed\n",
        "    # c. X-axis label\n",
        "    # d. Y-axis label"
      ]
    },
    {
      "cell_type": "markdown",
      "source": [
        "<h3> Stacking features"
      ],
      "metadata": {
        "id": "zqMzO_IumyMi"
      }
    },
    {
      "cell_type": "markdown",
      "source": [
        "<h4> Set 1"
      ],
      "metadata": {
        "id": "0b8wB3Egm29F"
      }
    },
    {
      "cell_type": "code",
      "source": [
        "from scipy.sparse import hstack\n",
        "X_train_set_1 = hstack((X_train_essay_tfidf,X_train_teacher_prefix_rc,X_train_grade_rc,X_train_state_rc,X_train_clean_categories_rc,X_train_clean_subcategories_rc,X_train_price,X_train_teacher_projects,X_train_s_negative,X_train_s_positive,X_train_s_neutral,X_train_s_compound)).tocsr()\n",
        "X_test_set_1 = hstack((X_test_essay_tfidf,X_test_teacher_prefix_rc,X_test_grade_rc,X_test_state_rc,X_test_clean_categories_rc,X_test_clean_subcategories_rc,X_test_price,X_test_teacher_projects,X_test_s_negative,X_test_s_positive,X_test_s_neutral,X_test_s_compound)).tocsr()\n",
        "\n",
        "print('Final Data Matrix')\n",
        "print(X_train_set_1.shape,y_train.shape)\n",
        "print(X_test_set_1.shape,y_test.shape)"
      ],
      "metadata": {
        "colab": {
          "base_uri": "https://localhost:8080/",
          "height": 0
        },
        "id": "1CS00SlJmxxO",
        "outputId": "8b7a7ef9-156e-40ea-fd0c-a75c2b4f4762"
      },
      "execution_count": 32,
      "outputs": [
        {
          "output_type": "stream",
          "name": "stdout",
          "text": [
            "Final Data Matrix\n",
            "(24500, 9142) (24500,)\n",
            "(10500, 9142) (10500,)\n"
          ]
        }
      ]
    },
    {
      "cell_type": "code",
      "source": [
        "from sklearn.model_selection import GridSearchCV\n",
        "from sklearn.ensemble import GradientBoostingClassifier\n",
        "\n",
        "model = GradientBoostingClassifier(verbose=3)\n",
        "parameters= {\n",
        "    'max_depth' : [5, 10, 20, 30, 50],\n",
        "    'n_estimators' :  [10, 25, 50, 100, 250]\n",
        "    }\n",
        "clf= GridSearchCV(model,param_grid=parameters,cv=10,scoring= 'roc_auc',return_train_score=True)\n",
        "clf.fit(X_train_set_1,y_train)\n"
      ],
      "metadata": {
        "colab": {
          "base_uri": "https://localhost:8080/",
          "height": 0
        },
        "id": "-eFdGtcJtFSE",
        "outputId": "497f498c-0a75-43e2-fb54-83fec92ae2d3"
      },
      "execution_count": 33,
      "outputs": [
        {
          "output_type": "stream",
          "name": "stdout",
          "text": [
            "      Iter       Train Loss   Remaining Time \n",
            "         1           0.8522           15.57s\n",
            "         2           0.8431           13.69s\n",
            "         3           0.8358           11.85s\n",
            "         4           0.8289           10.13s\n",
            "         5           0.8224            8.39s\n",
            "         6           0.8170            6.70s\n",
            "         7           0.8121            5.00s\n",
            "         8           0.8071            3.33s\n",
            "         9           0.8023            1.66s\n",
            "        10           0.7976            0.00s\n",
            "      Iter       Train Loss   Remaining Time \n",
            "         1           0.8526           15.33s\n",
            "         2           0.8430           13.69s\n",
            "         3           0.8357           11.84s\n",
            "         4           0.8289           10.09s\n",
            "         5           0.8227            8.36s\n",
            "         6           0.8171            6.68s\n",
            "         7           0.8120            4.99s\n",
            "         8           0.8074            3.32s\n",
            "         9           0.8022            1.66s\n",
            "        10           0.7977            0.00s\n",
            "      Iter       Train Loss   Remaining Time \n",
            "         1           0.8520           15.19s\n",
            "         2           0.8423           13.54s\n",
            "         3           0.8347           11.75s\n",
            "         4           0.8277           10.09s\n",
            "         5           0.8213            8.38s\n",
            "         6           0.8154            6.67s\n",
            "         7           0.8094            5.02s\n",
            "         8           0.8042            3.35s\n",
            "         9           0.7995            1.67s\n",
            "        10           0.7951            0.00s\n",
            "      Iter       Train Loss   Remaining Time \n",
            "         1           0.8524           15.42s\n",
            "         2           0.8427           13.65s\n",
            "         3           0.8351           11.76s\n",
            "         4           0.8285           10.05s\n",
            "         5           0.8219            8.37s\n",
            "         6           0.8158            6.70s\n",
            "         7           0.8100            5.01s\n",
            "         8           0.8045            3.35s\n",
            "         9           0.7993            1.67s\n",
            "        10           0.7953            0.00s\n",
            "      Iter       Train Loss   Remaining Time \n",
            "         1           0.8524           15.24s\n",
            "         2           0.8443           13.29s\n",
            "         3           0.8366           11.70s\n",
            "         4           0.8297           10.01s\n",
            "         5           0.8236            8.31s\n",
            "         6           0.8181            6.60s\n",
            "         7           0.8130            4.93s\n",
            "         8           0.8079            3.28s\n",
            "         9           0.8035            1.64s\n",
            "        10           0.7996            0.00s\n",
            "      Iter       Train Loss   Remaining Time \n",
            "         1           0.8523           15.65s\n",
            "         2           0.8436           13.68s\n",
            "         3           0.8354           11.85s\n",
            "         4           0.8285           10.17s\n",
            "         5           0.8220            8.42s\n",
            "         6           0.8163            6.73s\n",
            "         7           0.8107            5.03s\n",
            "         8           0.8057            3.35s\n",
            "         9           0.8010            1.67s\n",
            "        10           0.7959            0.00s\n",
            "      Iter       Train Loss   Remaining Time \n",
            "         1           0.8525           15.65s\n",
            "         2           0.8434           13.73s\n",
            "         3           0.8351           11.90s\n",
            "         4           0.8278           10.20s\n",
            "         5           0.8223            8.48s\n",
            "         6           0.8164            6.72s\n",
            "         7           0.8112            5.03s\n",
            "         8           0.8056            3.36s\n",
            "         9           0.8003            1.68s\n",
            "        10           0.7957            0.00s\n",
            "      Iter       Train Loss   Remaining Time \n",
            "         1           0.8525           15.13s\n",
            "         2           0.8432           13.46s\n",
            "         3           0.8358           11.70s\n",
            "         4           0.8287           10.02s\n",
            "         5           0.8228            8.33s\n",
            "         6           0.8170            6.66s\n",
            "         7           0.8118            4.97s\n",
            "         8           0.8067            3.30s\n",
            "         9           0.8024            1.64s\n",
            "        10           0.7982            0.00s\n",
            "      Iter       Train Loss   Remaining Time \n",
            "         1           0.8523           15.59s\n",
            "         2           0.8424           13.76s\n",
            "         3           0.8349           11.93s\n",
            "         4           0.8278           10.17s\n",
            "         5           0.8220            8.39s\n",
            "         6           0.8169            6.67s\n",
            "         7           0.8115            5.00s\n",
            "         8           0.8058            3.33s\n",
            "         9           0.8008            1.66s\n",
            "        10           0.7964            0.00s\n",
            "      Iter       Train Loss   Remaining Time \n",
            "         1           0.8523           15.19s\n",
            "         2           0.8434           13.46s\n",
            "         3           0.8355           11.83s\n",
            "         4           0.8281           10.17s\n",
            "         5           0.8216            8.41s\n",
            "         6           0.8158            6.68s\n",
            "         7           0.8104            5.00s\n",
            "         8           0.8053            3.31s\n",
            "         9           0.8014            1.65s\n",
            "        10           0.7970            0.00s\n",
            "      Iter       Train Loss   Remaining Time \n",
            "         1           0.8522           32.09s\n",
            "         2           0.8431           30.29s\n",
            "         3           0.8358           28.36s\n",
            "         4           0.8289           26.75s\n",
            "         5           0.8220           25.05s\n",
            "         6           0.8165           23.34s\n",
            "         7           0.8117           21.56s\n",
            "         8           0.8065           19.87s\n",
            "         9           0.8014           18.20s\n",
            "        10           0.7973           16.52s\n",
            "        11           0.7929           14.84s\n",
            "        12           0.7882           13.22s\n",
            "        13           0.7847           11.55s\n",
            "        14           0.7810            9.89s\n",
            "        15           0.7774            8.22s\n",
            "        16           0.7741            6.57s\n",
            "        17           0.7707            4.92s\n",
            "        18           0.7676            3.27s\n",
            "        19           0.7639            1.63s\n",
            "        20           0.7612            0.00s\n",
            "      Iter       Train Loss   Remaining Time \n",
            "         1           0.8526           31.93s\n",
            "         2           0.8433           30.18s\n",
            "         3           0.8360           28.34s\n",
            "         4           0.8291           26.60s\n",
            "         5           0.8229           24.89s\n",
            "         6           0.8173           23.23s\n",
            "         7           0.8122           21.55s\n",
            "         8           0.8076           19.84s\n",
            "         9           0.8024           18.23s\n",
            "        10           0.7979           16.54s\n",
            "        11           0.7937           14.84s\n",
            "        12           0.7900           13.17s\n",
            "        13           0.7860           11.52s\n",
            "        14           0.7822            9.86s\n",
            "        15           0.7787            8.20s\n",
            "        16           0.7754            6.55s\n",
            "        17           0.7717            4.92s\n",
            "        18           0.7683            3.28s\n",
            "        19           0.7654            1.64s\n",
            "        20           0.7625            0.00s\n",
            "      Iter       Train Loss   Remaining Time \n",
            "         1           0.8520           32.37s\n",
            "         2           0.8423           30.55s\n",
            "         3           0.8347           28.56s\n",
            "         4           0.8277           26.85s\n",
            "         5           0.8213           24.97s\n",
            "         6           0.8154           23.17s\n",
            "         7           0.8094           21.59s\n",
            "         8           0.8042           19.90s\n",
            "         9           0.7995           18.18s\n",
            "        10           0.7951           16.43s\n",
            "        11           0.7913           14.73s\n",
            "        12           0.7875           13.06s\n",
            "        13           0.7838           11.41s\n",
            "        14           0.7798            9.77s\n",
            "        15           0.7760            8.12s\n",
            "        16           0.7726            6.49s\n",
            "        17           0.7691            4.86s\n",
            "        18           0.7659            3.23s\n",
            "        19           0.7621            1.62s\n",
            "        20           0.7591            0.00s\n",
            "      Iter       Train Loss   Remaining Time \n",
            "         1           0.8524           31.89s\n",
            "         2           0.8427           30.34s\n",
            "         3           0.8351           28.34s\n",
            "         4           0.8285           26.67s\n",
            "         5           0.8219           25.00s\n",
            "         6           0.8158           23.36s\n",
            "         7           0.8100           21.57s\n",
            "         8           0.8045           19.92s\n",
            "         9           0.7993           18.21s\n",
            "        10           0.7953           16.52s\n",
            "        11           0.7912           14.82s\n",
            "        12           0.7868           13.14s\n",
            "        13           0.7825           11.49s\n",
            "        14           0.7788            9.82s\n",
            "        15           0.7750            8.16s\n",
            "        16           0.7712            6.52s\n",
            "        17           0.7681            4.88s\n",
            "        18           0.7645            3.25s\n",
            "        19           0.7618            1.62s\n",
            "        20           0.7586            0.00s\n",
            "      Iter       Train Loss   Remaining Time \n",
            "         1           0.8524           32.12s\n",
            "         2           0.8443           29.83s\n",
            "         3           0.8366           28.30s\n",
            "         4           0.8297           26.58s\n",
            "         5           0.8236           24.82s\n",
            "         6           0.8181           22.98s\n",
            "         7           0.8130           21.25s\n",
            "         8           0.8079           19.62s\n",
            "         9           0.8036           17.95s\n",
            "        10           0.7996           16.32s\n",
            "        11           0.7957           14.66s\n",
            "        12           0.7910           13.04s\n",
            "        13           0.7874           11.40s\n",
            "        14           0.7837            9.75s\n",
            "        15           0.7803            8.12s\n",
            "        16           0.7774            6.48s\n",
            "        17           0.7739            4.86s\n",
            "        18           0.7703            3.24s\n",
            "        19           0.7673            1.62s\n",
            "        20           0.7643            0.00s\n",
            "      Iter       Train Loss   Remaining Time \n",
            "         1           0.8523           32.53s\n",
            "         2           0.8436           30.51s\n",
            "         3           0.8354           28.55s\n",
            "         4           0.8286           26.90s\n",
            "         5           0.8221           25.07s\n",
            "         6           0.8164           23.31s\n",
            "         7           0.8108           21.58s\n",
            "         8           0.8056           19.90s\n",
            "         9           0.8009           18.20s\n",
            "        10           0.7958           16.54s\n",
            "        11           0.7920           14.83s\n",
            "        12           0.7881           13.15s\n",
            "        13           0.7844           11.49s\n",
            "        14           0.7806            9.85s\n",
            "        15           0.7775            8.20s\n",
            "        16           0.7731            6.56s\n",
            "        17           0.7699            4.91s\n",
            "        18           0.7667            3.27s\n",
            "        19           0.7635            1.63s\n",
            "        20           0.7597            0.00s\n",
            "      Iter       Train Loss   Remaining Time \n",
            "         1           0.8525           32.13s\n",
            "         2           0.8434           30.17s\n",
            "         3           0.8351           28.29s\n",
            "         4           0.8278           26.67s\n",
            "         5           0.8223           24.97s\n",
            "         6           0.8165           23.11s\n",
            "         7           0.8116           21.40s\n",
            "         8           0.8060           19.71s\n",
            "         9           0.8003           18.12s\n",
            "        10           0.7958           16.40s\n",
            "        11           0.7915           14.76s\n",
            "        12           0.7875           13.07s\n",
            "        13           0.7837           11.40s\n",
            "        14           0.7797            9.76s\n",
            "        15           0.7764            8.10s\n",
            "        16           0.7730            6.47s\n",
            "        17           0.7698            4.84s\n",
            "        18           0.7661            3.23s\n",
            "        19           0.7627            1.61s\n",
            "        20           0.7598            0.00s\n",
            "      Iter       Train Loss   Remaining Time \n",
            "         1           0.8525           31.80s\n",
            "         2           0.8429           30.27s\n",
            "         3           0.8353           28.31s\n",
            "         4           0.8280           26.57s\n",
            "         5           0.8220           24.81s\n",
            "         6           0.8164           23.17s\n",
            "         7           0.8111           21.48s\n",
            "         8           0.8059           19.75s\n",
            "         9           0.8013           18.07s\n",
            "        10           0.7969           16.37s\n",
            "        11           0.7926           14.71s\n",
            "        12           0.7886           13.06s\n",
            "        13           0.7847           11.42s\n",
            "        14           0.7812            9.75s\n",
            "        15           0.7774            8.14s\n",
            "        16           0.7736            6.51s\n",
            "        17           0.7702            4.87s\n",
            "        18           0.7664            3.25s\n",
            "        19           0.7627            1.62s\n",
            "        20           0.7597            0.00s\n",
            "      Iter       Train Loss   Remaining Time \n",
            "         1           0.8523           32.28s\n",
            "         2           0.8424           30.32s\n",
            "         3           0.8349           28.47s\n",
            "         4           0.8278           26.67s\n",
            "         5           0.8220           24.81s\n",
            "         6           0.8169           23.06s\n",
            "         7           0.8115           21.42s\n",
            "         8           0.8058           19.75s\n",
            "         9           0.8008           18.08s\n",
            "        10           0.7964           16.46s\n",
            "        11           0.7920           14.78s\n",
            "        12           0.7874           13.12s\n",
            "        13           0.7829           11.50s\n",
            "        14           0.7795            9.82s\n",
            "        15           0.7763            8.16s\n",
            "        16           0.7722            6.53s\n",
            "        17           0.7689            4.90s\n",
            "        18           0.7653            3.27s\n",
            "        19           0.7619            1.63s\n",
            "        20           0.7588            0.00s\n",
            "      Iter       Train Loss   Remaining Time \n",
            "         1           0.8523           31.35s\n",
            "         2           0.8434           29.56s\n",
            "         3           0.8355           27.85s\n",
            "         4           0.8281           26.25s\n",
            "         5           0.8216           24.49s\n",
            "         6           0.8158           22.73s\n",
            "         7           0.8104           21.06s\n",
            "         8           0.8053           19.35s\n",
            "         9           0.8014           17.68s\n",
            "        10           0.7970           16.07s\n",
            "        11           0.7929           14.43s\n",
            "        12           0.7886           12.80s\n",
            "        13           0.7849           11.18s\n",
            "        14           0.7809            9.56s\n",
            "        15           0.7765            7.99s\n",
            "        16           0.7732            6.37s\n",
            "        17           0.7696            4.78s\n",
            "        18           0.7664            3.18s\n",
            "        19           0.7633            1.59s\n",
            "        20           0.7600            0.00s\n",
            "      Iter       Train Loss   Remaining Time \n",
            "         1           0.8306           35.63s\n",
            "         2           0.8101           30.97s\n",
            "         3           0.7858           27.95s\n",
            "         4           0.7677           23.84s\n",
            "         5           0.7554           19.63s\n",
            "         6           0.7380           15.79s\n",
            "         7           0.7256           11.80s\n",
            "         8           0.7129            7.83s\n",
            "         9           0.6993            3.92s\n",
            "        10           0.6861            0.00s\n",
            "      Iter       Train Loss   Remaining Time \n",
            "         1           0.8330           35.02s\n",
            "         2           0.8064           32.42s\n",
            "         3           0.7862           28.20s\n",
            "         4           0.7692           23.88s\n",
            "         5           0.7535           19.86s\n",
            "         6           0.7394           15.86s\n",
            "         7           0.7252           11.90s\n",
            "         8           0.7110            7.91s\n",
            "         9           0.6981            3.94s\n",
            "        10           0.6858            0.00s\n",
            "      Iter       Train Loss   Remaining Time \n",
            "         1           0.8318           34.57s\n",
            "         2           0.8048           31.69s\n",
            "         3           0.7860           27.72s\n",
            "         4           0.7693           23.57s\n",
            "         5           0.7506           19.91s\n",
            "         6           0.7345           15.88s\n",
            "         7           0.7183           11.95s\n",
            "         8           0.7044            7.97s\n",
            "         9           0.6923            3.97s\n",
            "        10           0.6844            0.00s\n",
            "      Iter       Train Loss   Remaining Time \n",
            "         1           0.8334           35.46s\n",
            "         2           0.8063           32.46s\n",
            "         3           0.7866           28.11s\n",
            "         4           0.7670           24.18s\n",
            "         5           0.7511           20.17s\n",
            "         6           0.7358           16.11s\n",
            "         7           0.7215           12.06s\n",
            "         8           0.7072            7.98s\n",
            "         9           0.6936            3.99s\n",
            "        10           0.6820            0.00s\n",
            "      Iter       Train Loss   Remaining Time \n",
            "         1           0.8356           35.00s\n",
            "         2           0.8134           31.51s\n",
            "         3           0.7955           27.29s\n",
            "         4           0.7771           23.37s\n",
            "         5           0.7606           19.30s\n",
            "         6           0.7470           15.46s\n",
            "         7           0.7343           11.57s\n",
            "         8           0.7190            7.70s\n",
            "         9           0.7075            3.84s\n",
            "        10           0.6958            0.00s\n",
            "      Iter       Train Loss   Remaining Time \n",
            "         1           0.8312           35.15s\n",
            "         2           0.8093           31.19s\n",
            "         3           0.7872           27.94s\n",
            "         4           0.7682           24.05s\n",
            "         5           0.7507           20.01s\n",
            "         6           0.7365           15.93s\n",
            "         7           0.7250           11.84s\n",
            "         8           0.7110            7.85s\n",
            "         9           0.6997            3.90s\n",
            "        10           0.6886            0.00s\n",
            "      Iter       Train Loss   Remaining Time \n",
            "         1           0.8313           36.89s\n",
            "         2           0.8067           32.27s\n",
            "         3           0.7843           28.50s\n",
            "         4           0.7679           24.22s\n",
            "         5           0.7505           20.07s\n",
            "         6           0.7360           16.03s\n",
            "         7           0.7227           11.90s\n",
            "         8           0.7086            7.97s\n",
            "         9           0.6959            3.96s\n",
            "        10           0.6870            0.00s\n",
            "      Iter       Train Loss   Remaining Time \n",
            "         1           0.8325           35.14s\n",
            "         2           0.8115           31.03s\n",
            "         3           0.7909           27.27s\n",
            "         4           0.7703           23.67s\n",
            "         5           0.7535           19.74s\n",
            "         6           0.7386           15.74s\n",
            "         7           0.7244           11.75s\n",
            "         8           0.7119            7.82s\n",
            "         9           0.6977            3.91s\n",
            "        10           0.6859            0.00s\n",
            "      Iter       Train Loss   Remaining Time \n",
            "         1           0.8298           36.85s\n",
            "         2           0.8052           32.34s\n",
            "         3           0.7860           28.06s\n",
            "         4           0.7675           24.16s\n",
            "         5           0.7524           19.97s\n",
            "         6           0.7368           15.98s\n",
            "         7           0.7227           11.90s\n",
            "         8           0.7109            7.89s\n",
            "         9           0.6983            3.92s\n",
            "        10           0.6862            0.00s\n",
            "      Iter       Train Loss   Remaining Time \n",
            "         1           0.8317           35.94s\n",
            "         2           0.8058           31.91s\n",
            "         3           0.7829           28.02s\n",
            "         4           0.7650           23.89s\n",
            "         5           0.7484           19.76s\n",
            "         6           0.7345           15.67s\n",
            "         7           0.7229           11.64s\n",
            "         8           0.7076            7.76s\n",
            "         9           0.6948            3.87s\n",
            "        10           0.6862            0.00s\n",
            "      Iter       Train Loss   Remaining Time \n",
            "         1           0.8306            1.26m\n",
            "         2           0.8101            1.16m\n",
            "         3           0.7856            1.12m\n",
            "         4           0.7677            1.05m\n",
            "         5           0.7558           58.50s\n",
            "         6           0.7400           54.24s\n",
            "         7           0.7247           50.47s\n",
            "         8           0.7121           46.67s\n",
            "         9           0.7027           42.33s\n",
            "        10           0.6882           38.58s\n",
            "        11           0.6786           34.58s\n",
            "        12           0.6691           30.59s\n",
            "        13           0.6605           26.63s\n",
            "        14           0.6532           22.64s\n",
            "        15           0.6430           18.87s\n",
            "        16           0.6351           15.07s\n",
            "        17           0.6276           11.24s\n",
            "        18           0.6212            7.46s\n",
            "        19           0.6142            3.72s\n",
            "        20           0.6065            0.00s\n",
            "      Iter       Train Loss   Remaining Time \n",
            "         1           0.8330            1.24m\n",
            "         2           0.8063            1.22m\n",
            "         3           0.7859            1.14m\n",
            "         4           0.7684            1.06m\n",
            "         5           0.7522           59.30s\n",
            "         6           0.7385           55.40s\n",
            "         7           0.7241           51.41s\n",
            "         8           0.7106           47.34s\n",
            "         9           0.6946           43.53s\n",
            "        10           0.6856           39.32s\n",
            "        11           0.6748           35.08s\n",
            "        12           0.6635           31.16s\n",
            "        13           0.6536           27.20s\n",
            "        14           0.6457           23.23s\n",
            "        15           0.6357           19.35s\n",
            "        16           0.6285           15.38s\n",
            "        17           0.6197           11.53s\n",
            "        18           0.6125            7.66s\n",
            "        19           0.6064            3.80s\n",
            "        20           0.6009            0.00s\n",
            "      Iter       Train Loss   Remaining Time \n",
            "         1           0.8321            1.20m\n",
            "         2           0.8053            1.18m\n",
            "         3           0.7856            1.11m\n",
            "         4           0.7681            1.04m\n",
            "         5           0.7492           59.33s\n",
            "         6           0.7332           55.32s\n",
            "         7           0.7181           51.24s\n",
            "         8           0.7045           47.38s\n",
            "         9           0.6925           43.28s\n",
            "        10           0.6821           39.16s\n",
            "        11           0.6709           35.20s\n",
            "        12           0.6622           31.11s\n",
            "        13           0.6542           27.11s\n",
            "        14           0.6456           23.20s\n",
            "        15           0.6371           19.22s\n",
            "        16           0.6302           15.28s\n",
            "        17           0.6239           11.38s\n",
            "        18           0.6170            7.55s\n",
            "        19           0.6075            3.77s\n",
            "        20           0.6010            0.00s\n",
            "      Iter       Train Loss   Remaining Time \n",
            "         1           0.8330            1.25m\n",
            "         2           0.8061            1.22m\n",
            "         3           0.7865            1.14m\n",
            "         4           0.7623            1.10m\n",
            "         5           0.7458            1.02m\n",
            "         6           0.7328           56.45s\n",
            "         7           0.7196           52.08s\n",
            "         8           0.7047           47.88s\n",
            "         9           0.6912           43.78s\n",
            "        10           0.6806           39.46s\n",
            "        11           0.6698           35.36s\n",
            "        12           0.6612           31.24s\n",
            "        13           0.6522           27.16s\n",
            "        14           0.6455           23.11s\n",
            "        15           0.6374           19.17s\n",
            "        16           0.6292           15.29s\n",
            "        17           0.6220           11.41s\n",
            "        18           0.6150            7.58s\n",
            "        19           0.6080            3.78s\n",
            "        20           0.6015            0.00s\n",
            "      Iter       Train Loss   Remaining Time \n",
            "         1           0.8356            1.23m\n",
            "         2           0.8130            1.18m\n",
            "         3           0.7899            1.13m\n",
            "         4           0.7715            1.06m\n",
            "         5           0.7559           58.58s\n",
            "         6           0.7448           54.29s\n",
            "         7           0.7312           50.40s\n",
            "         8           0.7160           46.44s\n",
            "         9           0.7053           42.34s\n",
            "        10           0.6940           38.45s\n",
            "        11           0.6852           34.38s\n",
            "        12           0.6765           30.39s\n",
            "        13           0.6676           26.48s\n",
            "        14           0.6597           22.60s\n",
            "        15           0.6500           18.84s\n",
            "        16           0.6413           15.05s\n",
            "        17           0.6336           11.26s\n",
            "        18           0.6275            7.46s\n",
            "        19           0.6224            3.70s\n",
            "        20           0.6164            0.00s\n",
            "      Iter       Train Loss   Remaining Time \n",
            "         1           0.8309            1.24m\n",
            "         2           0.8094            1.17m\n",
            "         3           0.7875            1.13m\n",
            "         4           0.7688            1.07m\n",
            "         5           0.7508            1.00m\n",
            "         6           0.7358           55.95s\n",
            "         7           0.7211           52.01s\n",
            "         8           0.7083           47.77s\n",
            "         9           0.6987           43.22s\n",
            "        10           0.6881           39.12s\n",
            "        11           0.6752           35.20s\n",
            "        12           0.6667           31.02s\n",
            "        13           0.6571           27.06s\n",
            "        14           0.6471           23.16s\n",
            "        15           0.6391           19.24s\n",
            "        16           0.6334           15.27s\n",
            "        17           0.6260           11.43s\n",
            "        18           0.6183            7.59s\n",
            "        19           0.6104            3.79s\n",
            "        20           0.6038            0.00s\n",
            "      Iter       Train Loss   Remaining Time \n",
            "         1           0.8313            1.30m\n",
            "         2           0.8069            1.22m\n",
            "         3           0.7833            1.17m\n",
            "         4           0.7676            1.08m\n",
            "         5           0.7499            1.01m\n",
            "         6           0.7338           56.55s\n",
            "         7           0.7187           52.16s\n",
            "         8           0.7070           47.63s\n",
            "         9           0.6957           43.48s\n",
            "        10           0.6832           39.41s\n",
            "        11           0.6730           35.37s\n",
            "        12           0.6654           31.12s\n",
            "        13           0.6565           27.05s\n",
            "        14           0.6490           23.04s\n",
            "        15           0.6412           19.12s\n",
            "        16           0.6349           15.16s\n",
            "        17           0.6274           11.35s\n",
            "        18           0.6199            7.52s\n",
            "        19           0.6150            3.73s\n",
            "        20           0.6093            0.00s\n",
            "      Iter       Train Loss   Remaining Time \n",
            "         1           0.8325            1.24m\n",
            "         2           0.8116            1.17m\n",
            "         3           0.7899            1.12m\n",
            "         4           0.7696            1.06m\n",
            "         5           0.7528           59.32s\n",
            "         6           0.7384           55.20s\n",
            "         7           0.7255           51.19s\n",
            "         8           0.7124           47.22s\n",
            "         9           0.6992           43.12s\n",
            "        10           0.6884           39.18s\n",
            "        11           0.6773           35.17s\n",
            "        12           0.6667           31.29s\n",
            "        13           0.6584           27.22s\n",
            "        14           0.6495           23.23s\n",
            "        15           0.6425           19.23s\n",
            "        16           0.6335           15.32s\n",
            "        17           0.6264           11.44s\n",
            "        18           0.6212            7.60s\n",
            "        19           0.6153            3.78s\n",
            "        20           0.6098            0.00s\n",
            "      Iter       Train Loss   Remaining Time \n",
            "         1           0.8298            1.31m\n",
            "         2           0.8052            1.23m\n",
            "         3           0.7861            1.15m\n",
            "         4           0.7671            1.09m\n",
            "         5           0.7519            1.01m\n",
            "         6           0.7364           56.57s\n",
            "         7           0.7224           52.10s\n",
            "         8           0.7088           47.72s\n",
            "         9           0.6981           43.55s\n",
            "        10           0.6854           39.39s\n",
            "        11           0.6749           35.24s\n",
            "        12           0.6656           31.18s\n",
            "        13           0.6563           27.22s\n",
            "        14           0.6479           23.22s\n",
            "        15           0.6383           19.40s\n",
            "        16           0.6302           15.45s\n",
            "        17           0.6228           11.53s\n",
            "        18           0.6166            7.66s\n",
            "        19           0.6084            3.83s\n",
            "        20           0.6031            0.00s\n",
            "      Iter       Train Loss   Remaining Time \n",
            "         1           0.8312            1.27m\n",
            "         2           0.8067            1.20m\n",
            "         3           0.7836            1.15m\n",
            "         4           0.7662            1.07m\n",
            "         5           0.7512           59.18s\n",
            "         6           0.7349           55.23s\n",
            "         7           0.7200           51.35s\n",
            "         8           0.7062           47.08s\n",
            "         9           0.6937           42.97s\n",
            "        10           0.6817           38.93s\n",
            "        11           0.6709           34.93s\n",
            "        12           0.6608           30.94s\n",
            "        13           0.6520           26.90s\n",
            "        14           0.6414           23.10s\n",
            "        15           0.6338           19.17s\n",
            "        16           0.6255           15.29s\n",
            "        17           0.6188           11.39s\n",
            "        18           0.6107            7.57s\n",
            "        19           0.6037            3.77s\n",
            "        20           0.5977            0.00s\n",
            "      Iter       Train Loss   Remaining Time \n",
            "         1           0.7893            1.33m\n",
            "         2           0.7379            1.19m\n",
            "         3           0.6993            1.05m\n",
            "         4           0.6616           55.05s\n",
            "         5           0.6326           46.04s\n",
            "         6           0.6105           36.60s\n",
            "         7           0.5855           27.52s\n",
            "         8           0.5615           18.51s\n",
            "         9           0.5422            9.21s\n",
            "        10           0.5254            0.00s\n",
            "      Iter       Train Loss   Remaining Time \n",
            "         1           0.7963            1.29m\n",
            "         2           0.7471            1.18m\n",
            "         3           0.6994            1.07m\n",
            "         4           0.6621           55.68s\n",
            "         5           0.6336           46.63s\n",
            "         6           0.6080           37.28s\n",
            "         7           0.5837           28.05s\n",
            "         8           0.5614           18.71s\n",
            "         9           0.5430            9.35s\n",
            "        10           0.5259            0.00s\n",
            "      Iter       Train Loss   Remaining Time \n",
            "         1           0.7979            1.25m\n",
            "         2           0.7463            1.17m\n",
            "         3           0.7025            1.07m\n",
            "         4           0.6646           56.52s\n",
            "         5           0.6302           47.96s\n",
            "         6           0.6013           38.57s\n",
            "         7           0.5758           29.13s\n",
            "         8           0.5531           19.31s\n",
            "         9           0.5359            9.53s\n",
            "        10           0.5152            0.00s\n",
            "      Iter       Train Loss   Remaining Time \n",
            "         1           0.7975            1.27m\n",
            "         2           0.7400            1.23m\n",
            "         3           0.6968            1.10m\n",
            "         4           0.6651           55.81s\n",
            "         5           0.6362           46.44s\n",
            "         6           0.6088           37.39s\n",
            "         7           0.5866           27.88s\n",
            "         8           0.5637           18.63s\n",
            "         9           0.5412            9.40s\n",
            "        10           0.5208            0.00s\n",
            "      Iter       Train Loss   Remaining Time \n",
            "         1           0.8018            1.25m\n",
            "         2           0.7535            1.16m\n",
            "         3           0.7197            1.02m\n",
            "         4           0.6911           51.80s\n",
            "         5           0.6529           44.06s\n",
            "         6           0.6320           35.27s\n",
            "         7           0.6073           26.37s\n",
            "         8           0.5868           17.52s\n",
            "         9           0.5641            8.85s\n",
            "        10           0.5449            0.00s\n",
            "      Iter       Train Loss   Remaining Time \n",
            "         1           0.7923            1.31m\n",
            "         2           0.7456            1.17m\n",
            "         3           0.7051            1.04m\n",
            "         4           0.6665           54.57s\n",
            "         5           0.6427           45.17s\n",
            "         6           0.6123           36.61s\n",
            "         7           0.5897           27.40s\n",
            "         8           0.5644           18.41s\n",
            "         9           0.5469            9.12s\n",
            "        10           0.5238            0.00s\n",
            "      Iter       Train Loss   Remaining Time \n",
            "         1           0.7886            1.37m\n",
            "         2           0.7338            1.25m\n",
            "         3           0.6868            1.12m\n",
            "         4           0.6527           57.64s\n",
            "         5           0.6203           48.74s\n",
            "         6           0.5905           39.68s\n",
            "         7           0.5644           29.54s\n",
            "         8           0.5424           19.64s\n",
            "         9           0.5213            9.82s\n",
            "        10           0.5055            0.00s\n",
            "      Iter       Train Loss   Remaining Time \n",
            "         1           0.7922            1.34m\n",
            "         2           0.7381            1.24m\n",
            "         3           0.7008            1.08m\n",
            "         4           0.6635           55.77s\n",
            "         5           0.6344           46.51s\n",
            "         6           0.6093           37.01s\n",
            "         7           0.5829           28.05s\n",
            "         8           0.5588           18.70s\n",
            "         9           0.5415            9.34s\n",
            "        10           0.5236            0.00s\n",
            "      Iter       Train Loss   Remaining Time \n",
            "         1           0.7936            1.37m\n",
            "         2           0.7442            1.23m\n",
            "         3           0.7025            1.09m\n",
            "         4           0.6609           57.00s\n",
            "         5           0.6277           47.53s\n",
            "         6           0.6003           38.13s\n",
            "         7           0.5770           28.61s\n",
            "         8           0.5556           18.98s\n",
            "         9           0.5363            9.46s\n",
            "        10           0.5152            0.00s\n",
            "      Iter       Train Loss   Remaining Time \n",
            "         1           0.7922            1.40m\n",
            "         2           0.7349            1.29m\n",
            "         3           0.6922            1.12m\n",
            "         4           0.6588           57.14s\n",
            "         5           0.6265           47.68s\n",
            "         6           0.6013           37.83s\n",
            "         7           0.5765           28.35s\n",
            "         8           0.5559           18.83s\n",
            "         9           0.5365            9.38s\n",
            "        10           0.5153            0.00s\n",
            "      Iter       Train Loss   Remaining Time \n",
            "         1           0.7895            2.81m\n",
            "         2           0.7340            2.73m\n",
            "         3           0.6989            2.56m\n",
            "         4           0.6637            2.41m\n",
            "         5           0.6302            2.30m\n",
            "         6           0.6085            2.11m\n",
            "         7           0.5838            1.97m\n",
            "         8           0.5606            1.83m\n",
            "         9           0.5453            1.66m\n",
            "        10           0.5279            1.51m\n",
            "        11           0.5094            1.37m\n",
            "        12           0.4960            1.21m\n",
            "        13           0.4811            1.05m\n",
            "        14           0.4674           54.14s\n",
            "        15           0.4536           45.24s\n",
            "        16           0.4457           35.76s\n",
            "        17           0.4368           26.63s\n",
            "        18           0.4262           17.71s\n",
            "        19           0.4163            8.85s\n",
            "        20           0.4088            0.00s\n",
            "      Iter       Train Loss   Remaining Time \n",
            "         1           0.7964            2.71m\n",
            "         2           0.7476            2.65m\n",
            "         3           0.7073            2.54m\n",
            "         4           0.6707            2.44m\n",
            "         5           0.6347            2.35m\n",
            "         6           0.6071            2.20m\n",
            "         7           0.5839            2.04m\n",
            "         8           0.5622            1.88m\n",
            "         9           0.5459            1.71m\n",
            "        10           0.5230            1.56m\n",
            "        11           0.5034            1.41m\n",
            "        12           0.4847            1.26m\n",
            "        13           0.4692            1.10m\n",
            "        14           0.4542           56.77s\n",
            "        15           0.4411           47.28s\n",
            "        16           0.4292           37.62s\n",
            "        17           0.4209           27.98s\n",
            "        18           0.4111           18.53s\n",
            "        19           0.4009            9.22s\n",
            "        20           0.3926            0.00s\n",
            "      Iter       Train Loss   Remaining Time \n",
            "         1           0.7982            2.59m\n",
            "         2           0.7548            2.49m\n",
            "         3           0.7159            2.43m\n",
            "         4           0.6791            2.38m\n",
            "         5           0.6446            2.28m\n",
            "         6           0.6176            2.14m\n",
            "         7           0.5936            1.98m\n",
            "         8           0.5720            1.83m\n",
            "         9           0.5477            1.69m\n",
            "        10           0.5288            1.53m\n",
            "        11           0.5106            1.38m\n",
            "        12           0.4939            1.23m\n",
            "        13           0.4768            1.08m\n",
            "        14           0.4657           55.24s\n",
            "        15           0.4535           45.74s\n",
            "        16           0.4418           36.42s\n",
            "        17           0.4311           27.14s\n",
            "        18           0.4180           18.15s\n",
            "        19           0.4098            9.00s\n",
            "        20           0.4002            0.00s\n",
            "      Iter       Train Loss   Remaining Time \n",
            "         1           0.7966            2.70m\n",
            "         2           0.7390            2.77m\n",
            "         3           0.6974            2.64m\n",
            "         4           0.6689            2.44m\n",
            "         5           0.6356            2.32m\n",
            "         6           0.6082            2.18m\n",
            "         7           0.5855            2.02m\n",
            "         8           0.5618            1.87m\n",
            "         9           0.5465            1.69m\n",
            "        10           0.5272            1.54m\n",
            "        11           0.5103            1.38m\n",
            "        12           0.4915            1.23m\n",
            "        13           0.4769            1.07m\n",
            "        14           0.4646           54.90s\n",
            "        15           0.4518           45.62s\n",
            "        16           0.4400           36.44s\n",
            "        17           0.4283           27.17s\n",
            "        18           0.4185           18.01s\n",
            "        19           0.4086            8.96s\n",
            "        20           0.4006            0.00s\n",
            "      Iter       Train Loss   Remaining Time \n",
            "         1           0.8021            2.62m\n",
            "         2           0.7535            2.62m\n",
            "         3           0.7206            2.47m\n",
            "         4           0.6928            2.32m\n",
            "         5           0.6556            2.21m\n",
            "         6           0.6319            2.06m\n",
            "         7           0.6030            1.92m\n",
            "         8           0.5790            1.79m\n",
            "         9           0.5569            1.64m\n",
            "        10           0.5412            1.48m\n",
            "        11           0.5243            1.34m\n",
            "        12           0.5087            1.18m\n",
            "        13           0.4932            1.03m\n",
            "        14           0.4802           52.88s\n",
            "        15           0.4647           44.37s\n",
            "        16           0.4529           35.46s\n",
            "        17           0.4427           26.44s\n",
            "        18           0.4313           17.58s\n",
            "        19           0.4217            8.77s\n",
            "        20           0.4141            0.00s\n",
            "      Iter       Train Loss   Remaining Time \n",
            "         1           0.7934            2.79m\n",
            "         2           0.7503            2.60m\n",
            "         3           0.7095            2.54m\n",
            "         4           0.6704            2.44m\n",
            "         5           0.6412            2.31m\n",
            "         6           0.6124            2.17m\n",
            "         7           0.5905            2.01m\n",
            "         8           0.5701            1.85m\n",
            "         9           0.5488            1.70m\n",
            "        10           0.5272            1.56m\n",
            "        11           0.5111            1.39m\n",
            "        12           0.4954            1.23m\n",
            "        13           0.4782            1.08m\n",
            "        14           0.4681           54.99s\n",
            "        15           0.4545           45.89s\n",
            "        16           0.4423           36.50s\n",
            "        17           0.4317           27.16s\n",
            "        18           0.4209           18.07s\n",
            "        19           0.4143            8.95s\n",
            "        20           0.4056            0.00s\n",
            "      Iter       Train Loss   Remaining Time \n",
            "         1           0.7908            2.87m\n",
            "         2           0.7355            2.82m\n",
            "         3           0.6936            2.66m\n",
            "         4           0.6558            2.56m\n",
            "         5           0.6305            2.38m\n",
            "         6           0.5992            2.24m\n",
            "         7           0.5743            2.08m\n",
            "         8           0.5495            1.94m\n",
            "         9           0.5294            1.77m\n",
            "        10           0.5116            1.59m\n",
            "        11           0.4945            1.44m\n",
            "        12           0.4827            1.26m\n",
            "        13           0.4663            1.11m\n",
            "        14           0.4544           56.78s\n",
            "        15           0.4417           47.00s\n",
            "        16           0.4321           37.38s\n",
            "        17           0.4211           27.86s\n",
            "        18           0.4113           18.41s\n",
            "        19           0.4027            9.14s\n",
            "        20           0.3927            0.00s\n",
            "      Iter       Train Loss   Remaining Time \n",
            "         1           0.7923            2.84m\n",
            "         2           0.7395            2.75m\n",
            "         3           0.6957            2.68m\n",
            "         4           0.6579            2.53m\n",
            "         5           0.6305            2.35m\n",
            "         6           0.6003            2.22m\n",
            "         7           0.5787            2.04m\n",
            "         8           0.5563            1.89m\n",
            "         9           0.5350            1.74m\n",
            "        10           0.5136            1.59m\n",
            "        11           0.4968            1.42m\n",
            "        12           0.4836            1.25m\n",
            "        13           0.4709            1.09m\n",
            "        14           0.4605           55.71s\n",
            "        15           0.4476           46.48s\n",
            "        16           0.4387           36.85s\n",
            "        17           0.4284           27.45s\n",
            "        18           0.4180           18.20s\n",
            "        19           0.4083            9.06s\n",
            "        20           0.4000            0.00s\n",
            "      Iter       Train Loss   Remaining Time \n",
            "         1           0.7935            2.91m\n",
            "         2           0.7423            2.80m\n",
            "         3           0.6988            2.69m\n",
            "         4           0.6596            2.59m\n",
            "         5           0.6240            2.46m\n",
            "         6           0.5981            2.29m\n",
            "         7           0.5733            2.11m\n",
            "         8           0.5540            1.94m\n",
            "         9           0.5347            1.78m\n",
            "        10           0.5152            1.61m\n",
            "        11           0.5012            1.43m\n",
            "        12           0.4835            1.28m\n",
            "        13           0.4685            1.11m\n",
            "        14           0.4518           57.60s\n",
            "        15           0.4395           47.58s\n",
            "        16           0.4325           37.61s\n",
            "        17           0.4220           28.02s\n",
            "        18           0.4149           18.47s\n",
            "        19           0.4047            9.21s\n",
            "        20           0.3954            0.00s\n",
            "      Iter       Train Loss   Remaining Time \n",
            "         1           0.7917            2.92m\n",
            "         2           0.7370            2.82m\n",
            "         3           0.6932            2.68m\n",
            "         4           0.6614            2.52m\n",
            "         5           0.6265            2.39m\n",
            "         6           0.5988            2.23m\n",
            "         7           0.5754            2.06m\n",
            "         8           0.5540            1.89m\n",
            "         9           0.5346            1.73m\n",
            "        10           0.5151            1.57m\n",
            "        11           0.4977            1.42m\n",
            "        12           0.4841            1.25m\n",
            "        13           0.4677            1.09m\n",
            "        14           0.4547           55.93s\n",
            "        15           0.4457           46.08s\n",
            "        16           0.4317           36.81s\n",
            "        17           0.4208           27.49s\n",
            "        18           0.4123           18.15s\n",
            "        19           0.4010            9.05s\n",
            "        20           0.3933            0.00s\n",
            "      Iter       Train Loss   Remaining Time \n",
            "         1           0.7681            1.94m\n",
            "         2           0.6941            1.84m\n",
            "         3           0.6423            1.61m\n",
            "         4           0.5967            1.40m\n",
            "         5           0.5569            1.18m\n",
            "         6           0.5252           57.12s\n",
            "         7           0.4970           42.96s\n",
            "         8           0.4731           28.62s\n",
            "         9           0.4499           14.39s\n",
            "        10           0.4328            0.00s\n",
            "      Iter       Train Loss   Remaining Time \n",
            "         1           0.7755            1.86m\n",
            "         2           0.7138            1.70m\n",
            "         3           0.6610            1.53m\n",
            "         4           0.6119            1.35m\n",
            "         5           0.5731            1.14m\n",
            "         6           0.5394           55.80s\n",
            "         7           0.5097           42.22s\n",
            "         8           0.4837           28.32s\n",
            "         9           0.4630           14.24s\n",
            "        10           0.4412            0.00s\n",
            "      Iter       Train Loss   Remaining Time \n",
            "         1           0.7683            1.94m\n",
            "         2           0.7082            1.75m\n",
            "         3           0.6542            1.55m\n",
            "         4           0.6094            1.35m\n",
            "         5           0.5771            1.14m\n",
            "         6           0.5398           55.84s\n",
            "         7           0.5130           42.04s\n",
            "         8           0.4817           28.69s\n",
            "         9           0.4581           14.47s\n",
            "        10           0.4375            0.00s\n",
            "      Iter       Train Loss   Remaining Time \n",
            "         1           0.7700            1.88m\n",
            "         2           0.7027            1.76m\n",
            "         3           0.6464            1.62m\n",
            "         4           0.6038            1.40m\n",
            "         5           0.5695            1.17m\n",
            "         6           0.5386           56.38s\n",
            "         7           0.5133           42.07s\n",
            "         8           0.4860           28.06s\n",
            "         9           0.4630           14.18s\n",
            "        10           0.4395            0.00s\n",
            "      Iter       Train Loss   Remaining Time \n",
            "         1           0.7780            1.84m\n",
            "         2           0.7090            1.77m\n",
            "         3           0.6630            1.55m\n",
            "         4           0.6195            1.36m\n",
            "         5           0.5867            1.13m\n",
            "         6           0.5479           55.31s\n",
            "         7           0.5203           41.72s\n",
            "         8           0.4941           27.80s\n",
            "         9           0.4659           14.18s\n",
            "        10           0.4455            0.00s\n",
            "      Iter       Train Loss   Remaining Time \n",
            "         1           0.7635            1.97m\n",
            "         2           0.6996            1.77m\n",
            "         3           0.6457            1.61m\n",
            "         4           0.5965            1.46m\n",
            "         5           0.5614            1.21m\n",
            "         6           0.5291           57.94s\n",
            "         7           0.5001           43.59s\n",
            "         8           0.4716           29.53s\n",
            "         9           0.4447           15.01s\n",
            "        10           0.4279            0.00s\n",
            "      Iter       Train Loss   Remaining Time \n",
            "         1           0.7642            2.00m\n",
            "         2           0.6971            1.84m\n",
            "         3           0.6385            1.69m\n",
            "         4           0.5933            1.45m\n",
            "         5           0.5486            1.23m\n",
            "         6           0.5164           59.70s\n",
            "         7           0.4859           44.60s\n",
            "         8           0.4598           29.91s\n",
            "         9           0.4354           15.01s\n",
            "        10           0.4156            0.00s\n",
            "      Iter       Train Loss   Remaining Time \n",
            "         1           0.7653            1.97m\n",
            "         2           0.6918            1.87m\n",
            "         3           0.6397            1.68m\n",
            "         4           0.6004            1.41m\n",
            "         5           0.5608            1.20m\n",
            "         6           0.5249           58.09s\n",
            "         7           0.4970           43.41s\n",
            "         8           0.4729           29.16s\n",
            "         9           0.4520           14.60s\n",
            "        10           0.4299            0.00s\n",
            "      Iter       Train Loss   Remaining Time \n",
            "         1           0.7673            2.05m\n",
            "         2           0.7003            1.84m\n",
            "         3           0.6502            1.63m\n",
            "         4           0.6025            1.44m\n",
            "         5           0.5675            1.21m\n",
            "         6           0.5311           58.48s\n",
            "         7           0.5001           43.90s\n",
            "         8           0.4744           29.18s\n",
            "         9           0.4487           14.67s\n",
            "        10           0.4272            0.00s\n",
            "      Iter       Train Loss   Remaining Time \n",
            "         1           0.7647            2.03m\n",
            "         2           0.6931            1.85m\n",
            "         3           0.6428            1.64m\n",
            "         4           0.5935            1.43m\n",
            "         5           0.5550            1.19m\n",
            "         6           0.5194           57.60s\n",
            "         7           0.4896           43.24s\n",
            "         8           0.4606           29.12s\n",
            "         9           0.4416           14.40s\n",
            "        10           0.4209            0.00s\n",
            "      Iter       Train Loss   Remaining Time \n",
            "         1           0.7680            4.04m\n",
            "         2           0.6915            4.10m\n",
            "         3           0.6380            3.92m\n",
            "         4           0.5951            3.71m\n",
            "         5           0.5524            3.56m\n",
            "         6           0.5252            3.30m\n",
            "         7           0.4967            3.07m\n",
            "         8           0.4758            2.82m\n",
            "         9           0.4542            2.60m\n",
            "        10           0.4363            2.36m\n",
            "        11           0.4194            2.12m\n",
            "        12           0.4051            1.87m\n",
            "        13           0.3888            1.64m\n",
            "        14           0.3702            1.42m\n",
            "        15           0.3571            1.17m\n",
            "        16           0.3428           56.55s\n",
            "        17           0.3304           42.39s\n",
            "        18           0.3209           28.22s\n",
            "        19           0.3111           14.04s\n",
            "        20           0.3028            0.00s\n",
            "      Iter       Train Loss   Remaining Time \n",
            "         1           0.7745            3.98m\n",
            "         2           0.7094            3.89m\n",
            "         3           0.6602            3.70m\n",
            "         4           0.6086            3.64m\n",
            "         5           0.5643            3.52m\n",
            "         6           0.5326            3.33m\n",
            "         7           0.4999            3.15m\n",
            "         8           0.4736            2.93m\n",
            "         9           0.4539            2.68m\n",
            "        10           0.4336            2.44m\n",
            "        11           0.4140            2.20m\n",
            "        12           0.4021            1.93m\n",
            "        13           0.3829            1.70m\n",
            "        14           0.3669            1.46m\n",
            "        15           0.3538            1.21m\n",
            "        16           0.3401           58.52s\n",
            "        17           0.3296           43.75s\n",
            "        18           0.3205           28.90s\n",
            "        19           0.3086           14.47s\n",
            "        20           0.2993            0.00s\n",
            "      Iter       Train Loss   Remaining Time \n",
            "         1           0.7683            4.05m\n",
            "         2           0.7068            3.91m\n",
            "         3           0.6493            3.79m\n",
            "         4           0.6053            3.64m\n",
            "         5           0.5663            3.52m\n",
            "         6           0.5291            3.38m\n",
            "         7           0.5048            3.13m\n",
            "         8           0.4781            2.89m\n",
            "         9           0.4539            2.67m\n",
            "        10           0.4288            2.45m\n",
            "        11           0.4128            2.20m\n",
            "        12           0.3959            1.95m\n",
            "        13           0.3806            1.70m\n",
            "        14           0.3673            1.45m\n",
            "        15           0.3518            1.22m\n",
            "        16           0.3373           58.73s\n",
            "        17           0.3285           43.57s\n",
            "        18           0.3177           29.00s\n",
            "        19           0.3087           14.38s\n",
            "        20           0.2991            0.00s\n",
            "      Iter       Train Loss   Remaining Time \n",
            "         1           0.7703            3.96m\n",
            "         2           0.7024            3.96m\n",
            "         3           0.6511            3.83m\n",
            "         4           0.6017            3.71m\n",
            "         5           0.5665            3.46m\n",
            "         6           0.5337            3.26m\n",
            "         7           0.5052            3.05m\n",
            "         8           0.4813            2.81m\n",
            "         9           0.4569            2.58m\n",
            "        10           0.4369            2.36m\n",
            "        11           0.4168            2.14m\n",
            "        12           0.4010            1.90m\n",
            "        13           0.3848            1.66m\n",
            "        14           0.3700            1.42m\n",
            "        15           0.3547            1.19m\n",
            "        16           0.3435           56.94s\n",
            "        17           0.3323           42.59s\n",
            "        18           0.3203           28.39s\n",
            "        19           0.3127           14.09s\n",
            "        20           0.3027            0.00s\n",
            "      Iter       Train Loss   Remaining Time \n",
            "         1           0.7772            3.90m\n",
            "         2           0.7075            4.00m\n",
            "         3           0.6598            3.78m\n",
            "         4           0.6134            3.66m\n",
            "         5           0.5789            3.45m\n",
            "         6           0.5418            3.25m\n",
            "         7           0.5133            3.02m\n",
            "         8           0.4866            2.79m\n",
            "         9           0.4624            2.57m\n",
            "        10           0.4420            2.36m\n",
            "        11           0.4229            2.12m\n",
            "        12           0.4054            1.89m\n",
            "        13           0.3875            1.65m\n",
            "        14           0.3709            1.42m\n",
            "        15           0.3559            1.18m\n",
            "        16           0.3426           56.84s\n",
            "        17           0.3329           42.33s\n",
            "        18           0.3208           28.22s\n",
            "        19           0.3102           14.13s\n",
            "        20           0.3005            0.00s\n",
            "      Iter       Train Loss   Remaining Time \n",
            "         1           0.7630            4.15m\n",
            "         2           0.6957            4.06m\n",
            "         3           0.6493            3.82m\n",
            "         4           0.6014            3.71m\n",
            "         5           0.5680            3.50m\n",
            "         6           0.5345            3.30m\n",
            "         7           0.5066            3.07m\n",
            "         8           0.4754            2.90m\n",
            "         9           0.4562            2.64m\n",
            "        10           0.4349            2.40m\n",
            "        11           0.4127            2.17m\n",
            "        12           0.3948            1.93m\n",
            "        13           0.3762            1.70m\n",
            "        14           0.3607            1.45m\n",
            "        15           0.3477            1.21m\n",
            "        16           0.3336           57.95s\n",
            "        17           0.3214           43.41s\n",
            "        18           0.3118           28.73s\n",
            "        19           0.3028           14.33s\n",
            "        20           0.2919            0.00s\n",
            "      Iter       Train Loss   Remaining Time \n",
            "         1           0.7658            4.17m\n",
            "         2           0.6966            4.13m\n",
            "         3           0.6449            3.97m\n",
            "         4           0.5994            3.75m\n",
            "         5           0.5582            3.58m\n",
            "         6           0.5230            3.40m\n",
            "         7           0.4914            3.15m\n",
            "         8           0.4683            2.91m\n",
            "         9           0.4416            2.71m\n",
            "        10           0.4197            2.48m\n",
            "        11           0.4038            2.22m\n",
            "        12           0.3842            1.98m\n",
            "        13           0.3686            1.73m\n",
            "        14           0.3545            1.47m\n",
            "        15           0.3437            1.22m\n",
            "        16           0.3319           58.33s\n",
            "        17           0.3194           43.70s\n",
            "        18           0.3112           28.87s\n",
            "        19           0.3018           14.35s\n",
            "        20           0.2917            0.00s\n",
            "      Iter       Train Loss   Remaining Time \n",
            "         1           0.7656            4.19m\n",
            "         2           0.6931            4.19m\n",
            "         3           0.6405            4.02m\n",
            "         4           0.6002            3.77m\n",
            "         5           0.5620            3.54m\n",
            "         6           0.5236            3.37m\n",
            "         7           0.4993            3.10m\n",
            "         8           0.4724            2.89m\n",
            "         9           0.4475            2.67m\n",
            "        10           0.4265            2.43m\n",
            "        11           0.4067            2.20m\n",
            "        12           0.3892            1.97m\n",
            "        13           0.3720            1.74m\n",
            "        14           0.3563            1.50m\n",
            "        15           0.3448            1.25m\n",
            "        16           0.3323           59.66s\n",
            "        17           0.3199           44.60s\n",
            "        18           0.3109           29.50s\n",
            "        19           0.3006           14.77s\n",
            "        20           0.2920            0.00s\n",
            "      Iter       Train Loss   Remaining Time \n",
            "         1           0.7671            4.29m\n",
            "         2           0.7030            4.09m\n",
            "         3           0.6459            3.99m\n",
            "         4           0.6032            3.83m\n",
            "         5           0.5624            3.68m\n",
            "         6           0.5298            3.45m\n",
            "         7           0.4991            3.24m\n",
            "         8           0.4744            2.97m\n",
            "         9           0.4513            2.74m\n",
            "        10           0.4312            2.48m\n",
            "        11           0.4112            2.24m\n",
            "        12           0.3932            1.99m\n",
            "        13           0.3759            1.74m\n",
            "        14           0.3602            1.49m\n",
            "        15           0.3481            1.24m\n",
            "        16           0.3376           59.27s\n",
            "        17           0.3256           44.30s\n",
            "        18           0.3143           29.75s\n",
            "        19           0.3051           14.74s\n",
            "        20           0.2946            0.00s\n",
            "      Iter       Train Loss   Remaining Time \n",
            "         1           0.7649            4.30m\n",
            "         2           0.6912            4.23m\n",
            "         3           0.6424            3.99m\n",
            "         4           0.5981            3.75m\n",
            "         5           0.5534            3.63m\n",
            "         6           0.5193            3.40m\n",
            "         7           0.4880            3.17m\n",
            "         8           0.4634            2.92m\n",
            "         9           0.4397            2.68m\n",
            "        10           0.4206            2.43m\n",
            "        11           0.4006            2.20m\n",
            "        12           0.3816            1.98m\n",
            "        13           0.3669            1.73m\n",
            "        14           0.3528            1.48m\n",
            "        15           0.3398            1.23m\n",
            "        16           0.3251           59.49s\n",
            "        17           0.3137           44.52s\n",
            "        18           0.3018           29.78s\n",
            "        19           0.2933           14.75s\n",
            "        20           0.2860            0.00s\n",
            "      Iter       Train Loss   Remaining Time \n",
            "         1           0.7402            2.95m\n",
            "         2           0.6544            2.73m\n",
            "         3           0.5807            2.49m\n",
            "         4           0.5278            2.17m\n",
            "         5           0.4851            1.83m\n",
            "         6           0.4532            1.47m\n",
            "         7           0.4187            1.11m\n",
            "         8           0.3883           44.85s\n",
            "         9           0.3639           22.61s\n",
            "        10           0.3408            0.00s\n",
            "      Iter       Train Loss   Remaining Time \n",
            "         1           0.7441            2.91m\n",
            "         2           0.6718            2.58m\n",
            "         3           0.6084            2.33m\n",
            "         4           0.5610            2.01m\n",
            "         5           0.5151            1.71m\n",
            "         6           0.4708            1.42m\n",
            "         7           0.4329            1.09m\n",
            "         8           0.3969           45.15s\n",
            "         9           0.3719           22.71s\n",
            "        10           0.3475            0.00s\n",
            "      Iter       Train Loss   Remaining Time \n",
            "         1           0.7389            2.94m\n",
            "         2           0.6671            2.61m\n",
            "         3           0.5947            2.58m\n",
            "         4           0.5434            2.27m\n",
            "         5           0.4951            1.91m\n",
            "         6           0.4645            1.51m\n",
            "         7           0.4270            1.17m\n",
            "         8           0.3950           47.66s\n",
            "         9           0.3678           24.04s\n",
            "        10           0.3423            0.00s\n",
            "      Iter       Train Loss   Remaining Time \n",
            "         1           0.7456            2.86m\n",
            "         2           0.6608            2.66m\n",
            "         3           0.5916            2.43m\n",
            "         4           0.5409            2.12m\n",
            "         5           0.4981            1.79m\n",
            "         6           0.4625            1.44m\n",
            "         7           0.4304            1.09m\n",
            "         8           0.4026           43.66s\n",
            "         9           0.3792           21.99s\n",
            "        10           0.3579            0.00s\n",
            "      Iter       Train Loss   Remaining Time \n",
            "         1           0.7492            2.85m\n",
            "         2           0.6537            2.75m\n",
            "         3           0.5909            2.44m\n",
            "         4           0.5465            2.09m\n",
            "         5           0.5031            1.78m\n",
            "         6           0.4592            1.46m\n",
            "         7           0.4260            1.12m\n",
            "         8           0.3943           44.99s\n",
            "         9           0.3666           22.65s\n",
            "        10           0.3436            0.00s\n",
            "      Iter       Train Loss   Remaining Time \n",
            "         1           0.7397            2.88m\n",
            "         2           0.6548            2.70m\n",
            "         3           0.5865            2.48m\n",
            "         4           0.5331            2.19m\n",
            "         5           0.4909            1.84m\n",
            "         6           0.4495            1.49m\n",
            "         7           0.4172            1.13m\n",
            "         8           0.3840           45.90s\n",
            "         9           0.3608           23.12s\n",
            "        10           0.3366            0.00s\n",
            "      Iter       Train Loss   Remaining Time \n",
            "         1           0.7317            3.02m\n",
            "         2           0.6564            2.75m\n",
            "         3           0.5877            2.50m\n",
            "         4           0.5310            2.18m\n",
            "         5           0.4853            1.84m\n",
            "         6           0.4475            1.50m\n",
            "         7           0.4116            1.15m\n",
            "         8           0.3848           46.09s\n",
            "         9           0.3601           23.27s\n",
            "        10           0.3395            0.00s\n",
            "      Iter       Train Loss   Remaining Time \n",
            "         1           0.7336            3.04m\n",
            "         2           0.6421            2.78m\n",
            "         3           0.5764            2.53m\n",
            "         4           0.5253            2.18m\n",
            "         5           0.4771            1.91m\n",
            "         6           0.4391            1.55m\n",
            "         7           0.4075            1.17m\n",
            "         8           0.3781           47.10s\n",
            "         9           0.3526           23.54s\n",
            "        10           0.3292            0.00s\n",
            "      Iter       Train Loss   Remaining Time \n",
            "         1           0.7314            3.12m\n",
            "         2           0.6482            2.85m\n",
            "         3           0.5913            2.50m\n",
            "         4           0.5378            2.16m\n",
            "         5           0.4948            1.82m\n",
            "         6           0.4558            1.50m\n",
            "         7           0.4188            1.13m\n",
            "         8           0.3871           45.91s\n",
            "         9           0.3583           23.33s\n",
            "        10           0.3387            0.00s\n",
            "      Iter       Train Loss   Remaining Time \n",
            "         1           0.7386            2.97m\n",
            "         2           0.6450            2.75m\n",
            "         3           0.5820            2.45m\n",
            "         4           0.5302            2.14m\n",
            "         5           0.4879            1.82m\n",
            "         6           0.4501            1.46m\n",
            "         7           0.4175            1.11m\n",
            "         8           0.3878           44.96s\n",
            "         9           0.3570           23.14s\n",
            "        10           0.3318            0.00s\n",
            "      Iter       Train Loss   Remaining Time \n",
            "         1           0.7411            6.19m\n",
            "         2           0.6548            6.12m\n",
            "         3           0.5851            5.98m\n",
            "         4           0.5322            5.73m\n",
            "         5           0.4842            5.52m\n",
            "         6           0.4465            5.19m\n",
            "         7           0.4134            4.86m\n",
            "         8           0.3863            4.53m\n",
            "         9           0.3641            4.14m\n",
            "        10           0.3433            3.77m\n",
            "        11           0.3234            3.42m\n",
            "        12           0.3046            3.04m\n",
            "        13           0.2878            2.67m\n",
            "        14           0.2686            2.31m\n",
            "        15           0.2549            1.92m\n",
            "        16           0.2408            1.54m\n",
            "        17           0.2288            1.16m\n",
            "        18           0.2182           46.20s\n",
            "        19           0.2064           23.14s\n",
            "        20           0.1957            0.00s\n",
            "      Iter       Train Loss   Remaining Time \n",
            "         1           0.7442            6.10m\n",
            "         2           0.6711            5.76m\n",
            "         3           0.6005            5.77m\n",
            "         4           0.5546            5.45m\n",
            "         5           0.5076            5.25m\n",
            "         6           0.4650            5.00m\n",
            "         7           0.4290            4.73m\n",
            "         8           0.3978            4.44m\n",
            "         9           0.3697            4.16m\n",
            "        10           0.3476            3.78m\n",
            "        11           0.3257            3.43m\n",
            "        12           0.3083            3.06m\n",
            "        13           0.2900            2.70m\n",
            "        14           0.2747            2.32m\n",
            "        15           0.2587            1.95m\n",
            "        16           0.2482            1.55m\n",
            "        17           0.2371            1.17m\n",
            "        18           0.2247           46.78s\n",
            "        19           0.2137           23.51s\n",
            "        20           0.2045            0.00s\n",
            "      Iter       Train Loss   Remaining Time \n",
            "         1           0.7378            6.18m\n",
            "         2           0.6651            5.88m\n",
            "         3           0.5917            5.88m\n",
            "         4           0.5384            5.57m\n",
            "         5           0.5011            5.29m\n",
            "         6           0.4667            4.95m\n",
            "         7           0.4334            4.71m\n",
            "         8           0.4018            4.42m\n",
            "         9           0.3761            4.09m\n",
            "        10           0.3510            3.78m\n",
            "        11           0.3283            3.45m\n",
            "        12           0.3081            3.08m\n",
            "        13           0.2897            2.71m\n",
            "        14           0.2710            2.33m\n",
            "        15           0.2544            1.96m\n",
            "        16           0.2399            1.58m\n",
            "        17           0.2271            1.19m\n",
            "        18           0.2139           48.07s\n",
            "        19           0.2043           23.99s\n",
            "        20           0.1946            0.00s\n",
            "      Iter       Train Loss   Remaining Time \n",
            "         1           0.7366            6.19m\n",
            "         2           0.6493            6.17m\n",
            "         3           0.5903            5.82m\n",
            "         4           0.5319            5.62m\n",
            "         5           0.4902            5.32m\n",
            "         6           0.4551            5.01m\n",
            "         7           0.4217            4.67m\n",
            "         8           0.3901            4.41m\n",
            "         9           0.3685            4.06m\n",
            "        10           0.3427            3.70m\n",
            "        11           0.3184            3.36m\n",
            "        12           0.3006            3.00m\n",
            "        13           0.2857            2.62m\n",
            "        14           0.2682            2.28m\n",
            "        15           0.2540            1.90m\n",
            "        16           0.2425            1.52m\n",
            "        17           0.2298            1.15m\n",
            "        18           0.2182           46.40s\n",
            "        19           0.2076           23.27s\n",
            "        20           0.1989            0.00s\n",
            "      Iter       Train Loss   Remaining Time \n",
            "         1           0.7482            5.98m\n",
            "         2           0.6560            6.09m\n",
            "         3           0.5885            5.89m\n",
            "         4           0.5449            5.51m\n",
            "         5           0.5003            5.32m\n",
            "         6           0.4611            5.05m\n",
            "         7           0.4266            4.75m\n",
            "         8           0.3978            4.40m\n",
            "         9           0.3706            4.08m\n",
            "        10           0.3514            3.72m\n",
            "        11           0.3255            3.38m\n",
            "        12           0.3081            3.02m\n",
            "        13           0.2902            2.67m\n",
            "        14           0.2767            2.29m\n",
            "        15           0.2608            1.92m\n",
            "        16           0.2456            1.55m\n",
            "        17           0.2324            1.17m\n",
            "        18           0.2211           46.66s\n",
            "        19           0.2106           23.40s\n",
            "        20           0.2004            0.00s\n",
            "      Iter       Train Loss   Remaining Time \n",
            "         1           0.7386            6.07m\n",
            "         2           0.6577            5.89m\n",
            "         3           0.5905            5.95m\n",
            "         4           0.5386            5.66m\n",
            "         5           0.4956            5.42m\n",
            "         6           0.4532            5.14m\n",
            "         7           0.4211            4.83m\n",
            "         8           0.3909            4.49m\n",
            "         9           0.3661            4.14m\n",
            "        10           0.3389            3.82m\n",
            "        11           0.3161            3.47m\n",
            "        12           0.2965            3.08m\n",
            "        13           0.2778            2.75m\n",
            "        14           0.2627            2.36m\n",
            "        15           0.2474            1.99m\n",
            "        16           0.2334            1.61m\n",
            "        17           0.2223            1.20m\n",
            "        18           0.2105           48.29s\n",
            "        19           0.1995           24.18s\n",
            "        20           0.1917            0.00s\n",
            "      Iter       Train Loss   Remaining Time \n",
            "         1           0.7302            6.33m\n",
            "         2           0.6530            6.14m\n",
            "         3           0.5850            6.03m\n",
            "         4           0.5301            5.76m\n",
            "         5           0.4875            5.41m\n",
            "         6           0.4496            5.17m\n",
            "         7           0.4117            4.89m\n",
            "         8           0.3777            4.58m\n",
            "         9           0.3520            4.18m\n",
            "        10           0.3253            3.84m\n",
            "        11           0.3025            3.50m\n",
            "        12           0.2843            3.12m\n",
            "        13           0.2678            2.73m\n",
            "        14           0.2521            2.35m\n",
            "        15           0.2359            1.97m\n",
            "        16           0.2247            1.58m\n",
            "        17           0.2127            1.19m\n",
            "        18           0.2005           47.92s\n",
            "        19           0.1900           24.01s\n",
            "        20           0.1804            0.00s\n",
            "      Iter       Train Loss   Remaining Time \n",
            "         1           0.7318            6.46m\n",
            "         2           0.6417            6.30m\n",
            "         3           0.5736            6.23m\n",
            "         4           0.5216            5.90m\n",
            "         5           0.4825            5.52m\n",
            "         6           0.4432            5.23m\n",
            "         7           0.4107            4.92m\n",
            "         8           0.3836            4.57m\n",
            "         9           0.3561            4.25m\n",
            "        10           0.3300            3.91m\n",
            "        11           0.3076            3.54m\n",
            "        12           0.2907            3.14m\n",
            "        13           0.2736            2.76m\n",
            "        14           0.2598            2.37m\n",
            "        15           0.2451            1.98m\n",
            "        16           0.2314            1.59m\n",
            "        17           0.2186            1.20m\n",
            "        18           0.2072           48.26s\n",
            "        19           0.1971           24.20s\n",
            "        20           0.1868            0.00s\n",
            "      Iter       Train Loss   Remaining Time \n",
            "         1           0.7315            6.54m\n",
            "         2           0.6508            6.33m\n",
            "         3           0.5859            6.12m\n",
            "         4           0.5308            5.87m\n",
            "         5           0.4916            5.58m\n",
            "         6           0.4548            5.26m\n",
            "         7           0.4218            4.90m\n",
            "         8           0.3921            4.63m\n",
            "         9           0.3627            4.29m\n",
            "        10           0.3397            3.95m\n",
            "        11           0.3204            3.55m\n",
            "        12           0.3026            3.16m\n",
            "        13           0.2836            2.76m\n",
            "        14           0.2696            2.36m\n",
            "        15           0.2525            1.99m\n",
            "        16           0.2399            1.59m\n",
            "        17           0.2297            1.19m\n",
            "        18           0.2176           48.01s\n",
            "        19           0.2067           24.06s\n",
            "        20           0.1971            0.00s\n",
            "      Iter       Train Loss   Remaining Time \n",
            "         1           0.7427            6.22m\n",
            "         2           0.6533            6.13m\n",
            "         3           0.5895            5.93m\n",
            "         4           0.5373            5.64m\n",
            "         5           0.4884            5.45m\n",
            "         6           0.4504            5.19m\n",
            "         7           0.4186            4.90m\n",
            "         8           0.3890            4.55m\n",
            "         9           0.3625            4.22m\n",
            "        10           0.3360            3.88m\n",
            "        11           0.3139            3.49m\n",
            "        12           0.2954            3.11m\n",
            "        13           0.2769            2.74m\n",
            "        14           0.2613            2.36m\n",
            "        15           0.2474            1.97m\n",
            "        16           0.2345            1.59m\n",
            "        17           0.2230            1.20m\n",
            "        18           0.2138           47.65s\n",
            "        19           0.2032           23.92s\n",
            "        20           0.1962            0.00s\n",
            "      Iter       Train Loss   Remaining Time \n",
            "         1           0.8527           35.44s\n",
            "         2           0.8435           33.59s\n",
            "         3           0.8363           31.48s\n",
            "         4           0.8299           29.77s\n",
            "         5           0.8239           27.83s\n",
            "         6           0.8182           25.98s\n",
            "         7           0.8125           24.07s\n",
            "         8           0.8071           22.16s\n",
            "         9           0.8025           20.21s\n",
            "        10           0.7979           18.32s\n",
            "        11           0.7937           16.48s\n",
            "        12           0.7902           14.60s\n",
            "        13           0.7871           12.75s\n",
            "        14           0.7839           10.90s\n",
            "        15           0.7804            9.07s\n",
            "        16           0.7774            7.24s\n",
            "        17           0.7745            5.42s\n",
            "        18           0.7711            3.61s\n",
            "        19           0.7684            1.80s\n",
            "        20           0.7656            0.00s\n"
          ]
        },
        {
          "output_type": "execute_result",
          "data": {
            "text/plain": [
              "GridSearchCV(cv=10, estimator=GradientBoostingClassifier(verbose=3),\n",
              "             param_grid={'max_depth': [5, 10, 20, 30, 50],\n",
              "                         'n_estimators': [10, 20]},\n",
              "             return_train_score=True, scoring='roc_auc')"
            ]
          },
          "metadata": {},
          "execution_count": 33
        }
      ]
    },
    {
      "cell_type": "code",
      "source": [
        "print('Best score : ',clf.best_score_ )\n",
        "print('Best parameters : ',clf.best_params_)"
      ],
      "metadata": {
        "id": "JQrWxiN-u7ld",
        "colab": {
          "base_uri": "https://localhost:8080/",
          "height": 0
        },
        "outputId": "2903ea50-5c89-4534-d8e9-4f646889211b"
      },
      "execution_count": 34,
      "outputs": [
        {
          "output_type": "stream",
          "name": "stdout",
          "text": [
            "Best score :  0.6644500423964221\n",
            "Best parameters :  {'max_depth': 5, 'n_estimators': 20}\n"
          ]
        }
      ]
    },
    {
      "cell_type": "code",
      "source": [
        "train_auc = clf.cv_results_['mean_train_score']\n",
        "train_auc_std = clf.cv_results_['std_train_score']\n",
        "cv_auc = clf.cv_results_['mean_test_score']\n",
        "cv_auc_std = clf.cv_results_['std_test_score']"
      ],
      "metadata": {
        "id": "Px-HPy8zvO_5"
      },
      "execution_count": 35,
      "outputs": []
    },
    {
      "cell_type": "markdown",
      "source": [
        "<h4> 3D Plot"
      ],
      "metadata": {
        "id": "PYvhvwd7zXmW"
      }
    },
    {
      "cell_type": "code",
      "source": [
        "import plotly.offline as offline\n",
        "import plotly.graph_objs as go\n",
        "import matplotlib.pyplot as plt\n",
        "max_depth= [5, 10, 20, 30, 50],\n",
        "n_estimators = [10, 25, 50, 100, 250]\n",
        "x1= n_estimators\n",
        "y1 =max_depth\n",
        "z1= train_auc\n",
        "z2 = cv_auc\n",
        "\n",
        "trace1 = go.Scatter3d(x=x1,y=y1,z=z1, name = 'Train')\n",
        "trace2 = go.Scatter3d(x=x1,y=y1,z=z2, name = 'Cross validation')\n",
        "data = [trace1, trace2]\n",
        "\n",
        "layout = go.Layout(scene = dict(\n",
        "        xaxis = dict(title='min_samples_split'),\n",
        "        yaxis = dict(title='max_depth'),\n",
        "        zaxis = dict(title='AUC'),))\n",
        "\n",
        "fig = go.Figure(data=data, layout=layout)\n",
        "offline.iplot(fig, filename='3d-scatter-colorscale')\n",
        "fig.show()\n",
        "plt.show()"
      ],
      "metadata": {
        "id": "FEe2S--ApPKk",
        "colab": {
          "base_uri": "https://localhost:8080/",
          "height": 1067
        },
        "outputId": "8ad2eb29-f470-4fda-e092-15cdeee13579"
      },
      "execution_count": 36,
      "outputs": [
        {
          "output_type": "display_data",
          "data": {
            "text/html": [
              "<html>\n",
              "<head><meta charset=\"utf-8\" /></head>\n",
              "<body>\n",
              "    <div>            <script src=\"https://cdnjs.cloudflare.com/ajax/libs/mathjax/2.7.5/MathJax.js?config=TeX-AMS-MML_SVG\"></script><script type=\"text/javascript\">if (window.MathJax) {MathJax.Hub.Config({SVG: {font: \"STIX-Web\"}});}</script>                <script type=\"text/javascript\">window.PlotlyConfig = {MathJaxConfig: 'local'};</script>\n",
              "        <script src=\"https://cdn.plot.ly/plotly-2.8.3.min.js\"></script>                <div id=\"50b819c6-3005-4961-b000-8d83af2d627a\" class=\"plotly-graph-div\" style=\"height:525px; width:100%;\"></div>            <script type=\"text/javascript\">                                    window.PLOTLYENV=window.PLOTLYENV || {};                                    if (document.getElementById(\"50b819c6-3005-4961-b000-8d83af2d627a\")) {                    Plotly.newPlot(                        \"50b819c6-3005-4961-b000-8d83af2d627a\",                        [{\"name\":\"Train\",\"x\":[10,25,50,100,250],\"y\":[1,3,10,30],\"z\":[0.7259872074639813,0.7753765294339217,0.8627094405518017,0.926787554230571,0.9710328843498746,0.9942949842044948,0.9939381084538234,0.9998196701018914,0.999591769629087,0.9999968632143424],\"type\":\"scatter3d\"},{\"name\":\"Cross validation\",\"x\":[10,25,50,100,250],\"y\":[1,3,10,30],\"z\":[0.6501760935747622,0.6644500423964221,0.6485865022893934,0.6570522775513167,0.6138053760131875,0.6325716954601205,0.5955471389120137,0.6180320828031162,0.5717092652790333,0.5920699612292311],\"type\":\"scatter3d\"}],                        {\"scene\":{\"xaxis\":{\"title\":{\"text\":\"min_samples_split\"}},\"yaxis\":{\"title\":{\"text\":\"max_depth\"}},\"zaxis\":{\"title\":{\"text\":\"AUC\"}}},\"template\":{\"data\":{\"barpolar\":[{\"marker\":{\"line\":{\"color\":\"#E5ECF6\",\"width\":0.5},\"pattern\":{\"fillmode\":\"overlay\",\"size\":10,\"solidity\":0.2}},\"type\":\"barpolar\"}],\"bar\":[{\"error_x\":{\"color\":\"#2a3f5f\"},\"error_y\":{\"color\":\"#2a3f5f\"},\"marker\":{\"line\":{\"color\":\"#E5ECF6\",\"width\":0.5},\"pattern\":{\"fillmode\":\"overlay\",\"size\":10,\"solidity\":0.2}},\"type\":\"bar\"}],\"carpet\":[{\"aaxis\":{\"endlinecolor\":\"#2a3f5f\",\"gridcolor\":\"white\",\"linecolor\":\"white\",\"minorgridcolor\":\"white\",\"startlinecolor\":\"#2a3f5f\"},\"baxis\":{\"endlinecolor\":\"#2a3f5f\",\"gridcolor\":\"white\",\"linecolor\":\"white\",\"minorgridcolor\":\"white\",\"startlinecolor\":\"#2a3f5f\"},\"type\":\"carpet\"}],\"choropleth\":[{\"colorbar\":{\"outlinewidth\":0,\"ticks\":\"\"},\"type\":\"choropleth\"}],\"contourcarpet\":[{\"colorbar\":{\"outlinewidth\":0,\"ticks\":\"\"},\"type\":\"contourcarpet\"}],\"contour\":[{\"colorbar\":{\"outlinewidth\":0,\"ticks\":\"\"},\"colorscale\":[[0.0,\"#0d0887\"],[0.1111111111111111,\"#46039f\"],[0.2222222222222222,\"#7201a8\"],[0.3333333333333333,\"#9c179e\"],[0.4444444444444444,\"#bd3786\"],[0.5555555555555556,\"#d8576b\"],[0.6666666666666666,\"#ed7953\"],[0.7777777777777778,\"#fb9f3a\"],[0.8888888888888888,\"#fdca26\"],[1.0,\"#f0f921\"]],\"type\":\"contour\"}],\"heatmapgl\":[{\"colorbar\":{\"outlinewidth\":0,\"ticks\":\"\"},\"colorscale\":[[0.0,\"#0d0887\"],[0.1111111111111111,\"#46039f\"],[0.2222222222222222,\"#7201a8\"],[0.3333333333333333,\"#9c179e\"],[0.4444444444444444,\"#bd3786\"],[0.5555555555555556,\"#d8576b\"],[0.6666666666666666,\"#ed7953\"],[0.7777777777777778,\"#fb9f3a\"],[0.8888888888888888,\"#fdca26\"],[1.0,\"#f0f921\"]],\"type\":\"heatmapgl\"}],\"heatmap\":[{\"colorbar\":{\"outlinewidth\":0,\"ticks\":\"\"},\"colorscale\":[[0.0,\"#0d0887\"],[0.1111111111111111,\"#46039f\"],[0.2222222222222222,\"#7201a8\"],[0.3333333333333333,\"#9c179e\"],[0.4444444444444444,\"#bd3786\"],[0.5555555555555556,\"#d8576b\"],[0.6666666666666666,\"#ed7953\"],[0.7777777777777778,\"#fb9f3a\"],[0.8888888888888888,\"#fdca26\"],[1.0,\"#f0f921\"]],\"type\":\"heatmap\"}],\"histogram2dcontour\":[{\"colorbar\":{\"outlinewidth\":0,\"ticks\":\"\"},\"colorscale\":[[0.0,\"#0d0887\"],[0.1111111111111111,\"#46039f\"],[0.2222222222222222,\"#7201a8\"],[0.3333333333333333,\"#9c179e\"],[0.4444444444444444,\"#bd3786\"],[0.5555555555555556,\"#d8576b\"],[0.6666666666666666,\"#ed7953\"],[0.7777777777777778,\"#fb9f3a\"],[0.8888888888888888,\"#fdca26\"],[1.0,\"#f0f921\"]],\"type\":\"histogram2dcontour\"}],\"histogram2d\":[{\"colorbar\":{\"outlinewidth\":0,\"ticks\":\"\"},\"colorscale\":[[0.0,\"#0d0887\"],[0.1111111111111111,\"#46039f\"],[0.2222222222222222,\"#7201a8\"],[0.3333333333333333,\"#9c179e\"],[0.4444444444444444,\"#bd3786\"],[0.5555555555555556,\"#d8576b\"],[0.6666666666666666,\"#ed7953\"],[0.7777777777777778,\"#fb9f3a\"],[0.8888888888888888,\"#fdca26\"],[1.0,\"#f0f921\"]],\"type\":\"histogram2d\"}],\"histogram\":[{\"marker\":{\"pattern\":{\"fillmode\":\"overlay\",\"size\":10,\"solidity\":0.2}},\"type\":\"histogram\"}],\"mesh3d\":[{\"colorbar\":{\"outlinewidth\":0,\"ticks\":\"\"},\"type\":\"mesh3d\"}],\"parcoords\":[{\"line\":{\"colorbar\":{\"outlinewidth\":0,\"ticks\":\"\"}},\"type\":\"parcoords\"}],\"pie\":[{\"automargin\":true,\"type\":\"pie\"}],\"scatter3d\":[{\"line\":{\"colorbar\":{\"outlinewidth\":0,\"ticks\":\"\"}},\"marker\":{\"colorbar\":{\"outlinewidth\":0,\"ticks\":\"\"}},\"type\":\"scatter3d\"}],\"scattercarpet\":[{\"marker\":{\"colorbar\":{\"outlinewidth\":0,\"ticks\":\"\"}},\"type\":\"scattercarpet\"}],\"scattergeo\":[{\"marker\":{\"colorbar\":{\"outlinewidth\":0,\"ticks\":\"\"}},\"type\":\"scattergeo\"}],\"scattergl\":[{\"marker\":{\"colorbar\":{\"outlinewidth\":0,\"ticks\":\"\"}},\"type\":\"scattergl\"}],\"scattermapbox\":[{\"marker\":{\"colorbar\":{\"outlinewidth\":0,\"ticks\":\"\"}},\"type\":\"scattermapbox\"}],\"scatterpolargl\":[{\"marker\":{\"colorbar\":{\"outlinewidth\":0,\"ticks\":\"\"}},\"type\":\"scatterpolargl\"}],\"scatterpolar\":[{\"marker\":{\"colorbar\":{\"outlinewidth\":0,\"ticks\":\"\"}},\"type\":\"scatterpolar\"}],\"scatter\":[{\"marker\":{\"colorbar\":{\"outlinewidth\":0,\"ticks\":\"\"}},\"type\":\"scatter\"}],\"scatterternary\":[{\"marker\":{\"colorbar\":{\"outlinewidth\":0,\"ticks\":\"\"}},\"type\":\"scatterternary\"}],\"surface\":[{\"colorbar\":{\"outlinewidth\":0,\"ticks\":\"\"},\"colorscale\":[[0.0,\"#0d0887\"],[0.1111111111111111,\"#46039f\"],[0.2222222222222222,\"#7201a8\"],[0.3333333333333333,\"#9c179e\"],[0.4444444444444444,\"#bd3786\"],[0.5555555555555556,\"#d8576b\"],[0.6666666666666666,\"#ed7953\"],[0.7777777777777778,\"#fb9f3a\"],[0.8888888888888888,\"#fdca26\"],[1.0,\"#f0f921\"]],\"type\":\"surface\"}],\"table\":[{\"cells\":{\"fill\":{\"color\":\"#EBF0F8\"},\"line\":{\"color\":\"white\"}},\"header\":{\"fill\":{\"color\":\"#C8D4E3\"},\"line\":{\"color\":\"white\"}},\"type\":\"table\"}]},\"layout\":{\"annotationdefaults\":{\"arrowcolor\":\"#2a3f5f\",\"arrowhead\":0,\"arrowwidth\":1},\"autotypenumbers\":\"strict\",\"coloraxis\":{\"colorbar\":{\"outlinewidth\":0,\"ticks\":\"\"}},\"colorscale\":{\"diverging\":[[0,\"#8e0152\"],[0.1,\"#c51b7d\"],[0.2,\"#de77ae\"],[0.3,\"#f1b6da\"],[0.4,\"#fde0ef\"],[0.5,\"#f7f7f7\"],[0.6,\"#e6f5d0\"],[0.7,\"#b8e186\"],[0.8,\"#7fbc41\"],[0.9,\"#4d9221\"],[1,\"#276419\"]],\"sequential\":[[0.0,\"#0d0887\"],[0.1111111111111111,\"#46039f\"],[0.2222222222222222,\"#7201a8\"],[0.3333333333333333,\"#9c179e\"],[0.4444444444444444,\"#bd3786\"],[0.5555555555555556,\"#d8576b\"],[0.6666666666666666,\"#ed7953\"],[0.7777777777777778,\"#fb9f3a\"],[0.8888888888888888,\"#fdca26\"],[1.0,\"#f0f921\"]],\"sequentialminus\":[[0.0,\"#0d0887\"],[0.1111111111111111,\"#46039f\"],[0.2222222222222222,\"#7201a8\"],[0.3333333333333333,\"#9c179e\"],[0.4444444444444444,\"#bd3786\"],[0.5555555555555556,\"#d8576b\"],[0.6666666666666666,\"#ed7953\"],[0.7777777777777778,\"#fb9f3a\"],[0.8888888888888888,\"#fdca26\"],[1.0,\"#f0f921\"]]},\"colorway\":[\"#636efa\",\"#EF553B\",\"#00cc96\",\"#ab63fa\",\"#FFA15A\",\"#19d3f3\",\"#FF6692\",\"#B6E880\",\"#FF97FF\",\"#FECB52\"],\"font\":{\"color\":\"#2a3f5f\"},\"geo\":{\"bgcolor\":\"white\",\"lakecolor\":\"white\",\"landcolor\":\"#E5ECF6\",\"showlakes\":true,\"showland\":true,\"subunitcolor\":\"white\"},\"hoverlabel\":{\"align\":\"left\"},\"hovermode\":\"closest\",\"mapbox\":{\"style\":\"light\"},\"paper_bgcolor\":\"white\",\"plot_bgcolor\":\"#E5ECF6\",\"polar\":{\"angularaxis\":{\"gridcolor\":\"white\",\"linecolor\":\"white\",\"ticks\":\"\"},\"bgcolor\":\"#E5ECF6\",\"radialaxis\":{\"gridcolor\":\"white\",\"linecolor\":\"white\",\"ticks\":\"\"}},\"scene\":{\"xaxis\":{\"backgroundcolor\":\"#E5ECF6\",\"gridcolor\":\"white\",\"gridwidth\":2,\"linecolor\":\"white\",\"showbackground\":true,\"ticks\":\"\",\"zerolinecolor\":\"white\"},\"yaxis\":{\"backgroundcolor\":\"#E5ECF6\",\"gridcolor\":\"white\",\"gridwidth\":2,\"linecolor\":\"white\",\"showbackground\":true,\"ticks\":\"\",\"zerolinecolor\":\"white\"},\"zaxis\":{\"backgroundcolor\":\"#E5ECF6\",\"gridcolor\":\"white\",\"gridwidth\":2,\"linecolor\":\"white\",\"showbackground\":true,\"ticks\":\"\",\"zerolinecolor\":\"white\"}},\"shapedefaults\":{\"line\":{\"color\":\"#2a3f5f\"}},\"ternary\":{\"aaxis\":{\"gridcolor\":\"white\",\"linecolor\":\"white\",\"ticks\":\"\"},\"baxis\":{\"gridcolor\":\"white\",\"linecolor\":\"white\",\"ticks\":\"\"},\"bgcolor\":\"#E5ECF6\",\"caxis\":{\"gridcolor\":\"white\",\"linecolor\":\"white\",\"ticks\":\"\"}},\"title\":{\"x\":0.05},\"xaxis\":{\"automargin\":true,\"gridcolor\":\"white\",\"linecolor\":\"white\",\"ticks\":\"\",\"title\":{\"standoff\":15},\"zerolinecolor\":\"white\",\"zerolinewidth\":2},\"yaxis\":{\"automargin\":true,\"gridcolor\":\"white\",\"linecolor\":\"white\",\"ticks\":\"\",\"title\":{\"standoff\":15},\"zerolinecolor\":\"white\",\"zerolinewidth\":2}}}},                        {\"responsive\": true}                    ).then(function(){\n",
              "                            \n",
              "var gd = document.getElementById('50b819c6-3005-4961-b000-8d83af2d627a');\n",
              "var x = new MutationObserver(function (mutations, observer) {{\n",
              "        var display = window.getComputedStyle(gd).display;\n",
              "        if (!display || display === 'none') {{\n",
              "            console.log([gd, 'removed!']);\n",
              "            Plotly.purge(gd);\n",
              "            observer.disconnect();\n",
              "        }}\n",
              "}});\n",
              "\n",
              "// Listen for the removal of the full notebook cells\n",
              "var notebookContainer = gd.closest('#notebook-container');\n",
              "if (notebookContainer) {{\n",
              "    x.observe(notebookContainer, {childList: true});\n",
              "}}\n",
              "\n",
              "// Listen for the clearing of the current output cell\n",
              "var outputEl = gd.closest('.output');\n",
              "if (outputEl) {{\n",
              "    x.observe(outputEl, {childList: true});\n",
              "}}\n",
              "\n",
              "                        })                };                            </script>        </div>\n",
              "</body>\n",
              "</html>"
            ]
          },
          "metadata": {}
        },
        {
          "output_type": "display_data",
          "data": {
            "text/html": [
              "<html>\n",
              "<head><meta charset=\"utf-8\" /></head>\n",
              "<body>\n",
              "    <div>            <script src=\"https://cdnjs.cloudflare.com/ajax/libs/mathjax/2.7.5/MathJax.js?config=TeX-AMS-MML_SVG\"></script><script type=\"text/javascript\">if (window.MathJax) {MathJax.Hub.Config({SVG: {font: \"STIX-Web\"}});}</script>                <script type=\"text/javascript\">window.PlotlyConfig = {MathJaxConfig: 'local'};</script>\n",
              "        <script src=\"https://cdn.plot.ly/plotly-2.8.3.min.js\"></script>                <div id=\"4f148073-de9e-4933-ad1b-b0a4f5efd83d\" class=\"plotly-graph-div\" style=\"height:525px; width:100%;\"></div>            <script type=\"text/javascript\">                                    window.PLOTLYENV=window.PLOTLYENV || {};                                    if (document.getElementById(\"4f148073-de9e-4933-ad1b-b0a4f5efd83d\")) {                    Plotly.newPlot(                        \"4f148073-de9e-4933-ad1b-b0a4f5efd83d\",                        [{\"name\":\"Train\",\"x\":[10,25,50,100,250],\"y\":[1,3,10,30],\"z\":[0.7259872074639813,0.7753765294339217,0.8627094405518017,0.926787554230571,0.9710328843498746,0.9942949842044948,0.9939381084538234,0.9998196701018914,0.999591769629087,0.9999968632143424],\"type\":\"scatter3d\"},{\"name\":\"Cross validation\",\"x\":[10,25,50,100,250],\"y\":[1,3,10,30],\"z\":[0.6501760935747622,0.6644500423964221,0.6485865022893934,0.6570522775513167,0.6138053760131875,0.6325716954601205,0.5955471389120137,0.6180320828031162,0.5717092652790333,0.5920699612292311],\"type\":\"scatter3d\"}],                        {\"scene\":{\"xaxis\":{\"title\":{\"text\":\"min_samples_split\"}},\"yaxis\":{\"title\":{\"text\":\"max_depth\"}},\"zaxis\":{\"title\":{\"text\":\"AUC\"}}},\"template\":{\"data\":{\"bar\":[{\"error_x\":{\"color\":\"#2a3f5f\"},\"error_y\":{\"color\":\"#2a3f5f\"},\"marker\":{\"line\":{\"color\":\"#E5ECF6\",\"width\":0.5},\"pattern\":{\"fillmode\":\"overlay\",\"size\":10,\"solidity\":0.2}},\"type\":\"bar\"}],\"barpolar\":[{\"marker\":{\"line\":{\"color\":\"#E5ECF6\",\"width\":0.5},\"pattern\":{\"fillmode\":\"overlay\",\"size\":10,\"solidity\":0.2}},\"type\":\"barpolar\"}],\"carpet\":[{\"aaxis\":{\"endlinecolor\":\"#2a3f5f\",\"gridcolor\":\"white\",\"linecolor\":\"white\",\"minorgridcolor\":\"white\",\"startlinecolor\":\"#2a3f5f\"},\"baxis\":{\"endlinecolor\":\"#2a3f5f\",\"gridcolor\":\"white\",\"linecolor\":\"white\",\"minorgridcolor\":\"white\",\"startlinecolor\":\"#2a3f5f\"},\"type\":\"carpet\"}],\"choropleth\":[{\"colorbar\":{\"outlinewidth\":0,\"ticks\":\"\"},\"type\":\"choropleth\"}],\"contour\":[{\"colorbar\":{\"outlinewidth\":0,\"ticks\":\"\"},\"colorscale\":[[0.0,\"#0d0887\"],[0.1111111111111111,\"#46039f\"],[0.2222222222222222,\"#7201a8\"],[0.3333333333333333,\"#9c179e\"],[0.4444444444444444,\"#bd3786\"],[0.5555555555555556,\"#d8576b\"],[0.6666666666666666,\"#ed7953\"],[0.7777777777777778,\"#fb9f3a\"],[0.8888888888888888,\"#fdca26\"],[1.0,\"#f0f921\"]],\"type\":\"contour\"}],\"contourcarpet\":[{\"colorbar\":{\"outlinewidth\":0,\"ticks\":\"\"},\"type\":\"contourcarpet\"}],\"heatmap\":[{\"colorbar\":{\"outlinewidth\":0,\"ticks\":\"\"},\"colorscale\":[[0.0,\"#0d0887\"],[0.1111111111111111,\"#46039f\"],[0.2222222222222222,\"#7201a8\"],[0.3333333333333333,\"#9c179e\"],[0.4444444444444444,\"#bd3786\"],[0.5555555555555556,\"#d8576b\"],[0.6666666666666666,\"#ed7953\"],[0.7777777777777778,\"#fb9f3a\"],[0.8888888888888888,\"#fdca26\"],[1.0,\"#f0f921\"]],\"type\":\"heatmap\"}],\"heatmapgl\":[{\"colorbar\":{\"outlinewidth\":0,\"ticks\":\"\"},\"colorscale\":[[0.0,\"#0d0887\"],[0.1111111111111111,\"#46039f\"],[0.2222222222222222,\"#7201a8\"],[0.3333333333333333,\"#9c179e\"],[0.4444444444444444,\"#bd3786\"],[0.5555555555555556,\"#d8576b\"],[0.6666666666666666,\"#ed7953\"],[0.7777777777777778,\"#fb9f3a\"],[0.8888888888888888,\"#fdca26\"],[1.0,\"#f0f921\"]],\"type\":\"heatmapgl\"}],\"histogram\":[{\"marker\":{\"pattern\":{\"fillmode\":\"overlay\",\"size\":10,\"solidity\":0.2}},\"type\":\"histogram\"}],\"histogram2d\":[{\"colorbar\":{\"outlinewidth\":0,\"ticks\":\"\"},\"colorscale\":[[0.0,\"#0d0887\"],[0.1111111111111111,\"#46039f\"],[0.2222222222222222,\"#7201a8\"],[0.3333333333333333,\"#9c179e\"],[0.4444444444444444,\"#bd3786\"],[0.5555555555555556,\"#d8576b\"],[0.6666666666666666,\"#ed7953\"],[0.7777777777777778,\"#fb9f3a\"],[0.8888888888888888,\"#fdca26\"],[1.0,\"#f0f921\"]],\"type\":\"histogram2d\"}],\"histogram2dcontour\":[{\"colorbar\":{\"outlinewidth\":0,\"ticks\":\"\"},\"colorscale\":[[0.0,\"#0d0887\"],[0.1111111111111111,\"#46039f\"],[0.2222222222222222,\"#7201a8\"],[0.3333333333333333,\"#9c179e\"],[0.4444444444444444,\"#bd3786\"],[0.5555555555555556,\"#d8576b\"],[0.6666666666666666,\"#ed7953\"],[0.7777777777777778,\"#fb9f3a\"],[0.8888888888888888,\"#fdca26\"],[1.0,\"#f0f921\"]],\"type\":\"histogram2dcontour\"}],\"mesh3d\":[{\"colorbar\":{\"outlinewidth\":0,\"ticks\":\"\"},\"type\":\"mesh3d\"}],\"parcoords\":[{\"line\":{\"colorbar\":{\"outlinewidth\":0,\"ticks\":\"\"}},\"type\":\"parcoords\"}],\"pie\":[{\"automargin\":true,\"type\":\"pie\"}],\"scatter\":[{\"marker\":{\"colorbar\":{\"outlinewidth\":0,\"ticks\":\"\"}},\"type\":\"scatter\"}],\"scatter3d\":[{\"line\":{\"colorbar\":{\"outlinewidth\":0,\"ticks\":\"\"}},\"marker\":{\"colorbar\":{\"outlinewidth\":0,\"ticks\":\"\"}},\"type\":\"scatter3d\"}],\"scattercarpet\":[{\"marker\":{\"colorbar\":{\"outlinewidth\":0,\"ticks\":\"\"}},\"type\":\"scattercarpet\"}],\"scattergeo\":[{\"marker\":{\"colorbar\":{\"outlinewidth\":0,\"ticks\":\"\"}},\"type\":\"scattergeo\"}],\"scattergl\":[{\"marker\":{\"colorbar\":{\"outlinewidth\":0,\"ticks\":\"\"}},\"type\":\"scattergl\"}],\"scattermapbox\":[{\"marker\":{\"colorbar\":{\"outlinewidth\":0,\"ticks\":\"\"}},\"type\":\"scattermapbox\"}],\"scatterpolar\":[{\"marker\":{\"colorbar\":{\"outlinewidth\":0,\"ticks\":\"\"}},\"type\":\"scatterpolar\"}],\"scatterpolargl\":[{\"marker\":{\"colorbar\":{\"outlinewidth\":0,\"ticks\":\"\"}},\"type\":\"scatterpolargl\"}],\"scatterternary\":[{\"marker\":{\"colorbar\":{\"outlinewidth\":0,\"ticks\":\"\"}},\"type\":\"scatterternary\"}],\"surface\":[{\"colorbar\":{\"outlinewidth\":0,\"ticks\":\"\"},\"colorscale\":[[0.0,\"#0d0887\"],[0.1111111111111111,\"#46039f\"],[0.2222222222222222,\"#7201a8\"],[0.3333333333333333,\"#9c179e\"],[0.4444444444444444,\"#bd3786\"],[0.5555555555555556,\"#d8576b\"],[0.6666666666666666,\"#ed7953\"],[0.7777777777777778,\"#fb9f3a\"],[0.8888888888888888,\"#fdca26\"],[1.0,\"#f0f921\"]],\"type\":\"surface\"}],\"table\":[{\"cells\":{\"fill\":{\"color\":\"#EBF0F8\"},\"line\":{\"color\":\"white\"}},\"header\":{\"fill\":{\"color\":\"#C8D4E3\"},\"line\":{\"color\":\"white\"}},\"type\":\"table\"}]},\"layout\":{\"annotationdefaults\":{\"arrowcolor\":\"#2a3f5f\",\"arrowhead\":0,\"arrowwidth\":1},\"autotypenumbers\":\"strict\",\"coloraxis\":{\"colorbar\":{\"outlinewidth\":0,\"ticks\":\"\"}},\"colorscale\":{\"diverging\":[[0,\"#8e0152\"],[0.1,\"#c51b7d\"],[0.2,\"#de77ae\"],[0.3,\"#f1b6da\"],[0.4,\"#fde0ef\"],[0.5,\"#f7f7f7\"],[0.6,\"#e6f5d0\"],[0.7,\"#b8e186\"],[0.8,\"#7fbc41\"],[0.9,\"#4d9221\"],[1,\"#276419\"]],\"sequential\":[[0.0,\"#0d0887\"],[0.1111111111111111,\"#46039f\"],[0.2222222222222222,\"#7201a8\"],[0.3333333333333333,\"#9c179e\"],[0.4444444444444444,\"#bd3786\"],[0.5555555555555556,\"#d8576b\"],[0.6666666666666666,\"#ed7953\"],[0.7777777777777778,\"#fb9f3a\"],[0.8888888888888888,\"#fdca26\"],[1.0,\"#f0f921\"]],\"sequentialminus\":[[0.0,\"#0d0887\"],[0.1111111111111111,\"#46039f\"],[0.2222222222222222,\"#7201a8\"],[0.3333333333333333,\"#9c179e\"],[0.4444444444444444,\"#bd3786\"],[0.5555555555555556,\"#d8576b\"],[0.6666666666666666,\"#ed7953\"],[0.7777777777777778,\"#fb9f3a\"],[0.8888888888888888,\"#fdca26\"],[1.0,\"#f0f921\"]]},\"colorway\":[\"#636efa\",\"#EF553B\",\"#00cc96\",\"#ab63fa\",\"#FFA15A\",\"#19d3f3\",\"#FF6692\",\"#B6E880\",\"#FF97FF\",\"#FECB52\"],\"font\":{\"color\":\"#2a3f5f\"},\"geo\":{\"bgcolor\":\"white\",\"lakecolor\":\"white\",\"landcolor\":\"#E5ECF6\",\"showlakes\":true,\"showland\":true,\"subunitcolor\":\"white\"},\"hoverlabel\":{\"align\":\"left\"},\"hovermode\":\"closest\",\"mapbox\":{\"style\":\"light\"},\"paper_bgcolor\":\"white\",\"plot_bgcolor\":\"#E5ECF6\",\"polar\":{\"angularaxis\":{\"gridcolor\":\"white\",\"linecolor\":\"white\",\"ticks\":\"\"},\"bgcolor\":\"#E5ECF6\",\"radialaxis\":{\"gridcolor\":\"white\",\"linecolor\":\"white\",\"ticks\":\"\"}},\"scene\":{\"xaxis\":{\"backgroundcolor\":\"#E5ECF6\",\"gridcolor\":\"white\",\"gridwidth\":2,\"linecolor\":\"white\",\"showbackground\":true,\"ticks\":\"\",\"zerolinecolor\":\"white\"},\"yaxis\":{\"backgroundcolor\":\"#E5ECF6\",\"gridcolor\":\"white\",\"gridwidth\":2,\"linecolor\":\"white\",\"showbackground\":true,\"ticks\":\"\",\"zerolinecolor\":\"white\"},\"zaxis\":{\"backgroundcolor\":\"#E5ECF6\",\"gridcolor\":\"white\",\"gridwidth\":2,\"linecolor\":\"white\",\"showbackground\":true,\"ticks\":\"\",\"zerolinecolor\":\"white\"}},\"shapedefaults\":{\"line\":{\"color\":\"#2a3f5f\"}},\"ternary\":{\"aaxis\":{\"gridcolor\":\"white\",\"linecolor\":\"white\",\"ticks\":\"\"},\"baxis\":{\"gridcolor\":\"white\",\"linecolor\":\"white\",\"ticks\":\"\"},\"bgcolor\":\"#E5ECF6\",\"caxis\":{\"gridcolor\":\"white\",\"linecolor\":\"white\",\"ticks\":\"\"}},\"title\":{\"x\":0.05},\"xaxis\":{\"automargin\":true,\"gridcolor\":\"white\",\"linecolor\":\"white\",\"ticks\":\"\",\"title\":{\"standoff\":15},\"zerolinecolor\":\"white\",\"zerolinewidth\":2},\"yaxis\":{\"automargin\":true,\"gridcolor\":\"white\",\"linecolor\":\"white\",\"ticks\":\"\",\"title\":{\"standoff\":15},\"zerolinecolor\":\"white\",\"zerolinewidth\":2}}}},                        {\"responsive\": true}                    ).then(function(){\n",
              "                            \n",
              "var gd = document.getElementById('4f148073-de9e-4933-ad1b-b0a4f5efd83d');\n",
              "var x = new MutationObserver(function (mutations, observer) {{\n",
              "        var display = window.getComputedStyle(gd).display;\n",
              "        if (!display || display === 'none') {{\n",
              "            console.log([gd, 'removed!']);\n",
              "            Plotly.purge(gd);\n",
              "            observer.disconnect();\n",
              "        }}\n",
              "}});\n",
              "\n",
              "// Listen for the removal of the full notebook cells\n",
              "var notebookContainer = gd.closest('#notebook-container');\n",
              "if (notebookContainer) {{\n",
              "    x.observe(notebookContainer, {childList: true});\n",
              "}}\n",
              "\n",
              "// Listen for the clearing of the current output cell\n",
              "var outputEl = gd.closest('.output');\n",
              "if (outputEl) {{\n",
              "    x.observe(outputEl, {childList: true});\n",
              "}}\n",
              "\n",
              "                        })                };                            </script>        </div>\n",
              "</body>\n",
              "</html>"
            ]
          },
          "metadata": {}
        }
      ]
    },
    {
      "cell_type": "markdown",
      "source": [
        "<h4> ROC-AUC Curve"
      ],
      "metadata": {
        "id": "-EX-XDJS5aAg"
      }
    },
    {
      "cell_type": "code",
      "source": [
        "from sklearn.metrics import roc_curve,auc\n",
        "import matplotlib.pyplot as plt\n",
        "\n",
        "gbdt = GradientBoostingClassifier(max_depth= 5, n_estimators= 20 )\n",
        "clf_1 = gbdt.fit(X_train_set_1,y_train)\n",
        "\n",
        "y_train_pred = clf_1.predict_proba(X_train_set_1)[:,1]\n",
        "y_test_pred = clf_1.predict_proba(X_test_set_1)[:,1]\n",
        "\n",
        "train_fpr,train_tpr,train_threshold = roc_curve(y_train,y_train_pred)\n",
        "test_fpr,test_tpr,test_threshold = roc_curve(y_test,y_test_pred)\n",
        "Train_auc = auc(train_fpr,train_tpr)\n",
        "Test_auc = auc (test_fpr,test_tpr)\n",
        "\n",
        "plt.plot(train_fpr,train_tpr,label= 'Train AUC = '+str(Train_auc))\n",
        "plt.plot(test_fpr,test_tpr,label= 'Test AUC = '+str(Test_auc))\n",
        "plt.legend()\n",
        "plt.xlabel('False Positive Rate')\n",
        "plt.ylabel('True Positive Rate')\n",
        "plt.title('ROC-AUC Curve')\n",
        "plt.show()"
      ],
      "metadata": {
        "id": "P2QHygizzcFu",
        "colab": {
          "base_uri": "https://localhost:8080/",
          "height": 295
        },
        "outputId": "090a5eed-39f1-4440-a8e6-0cca3306d65c"
      },
      "execution_count": 40,
      "outputs": [
        {
          "output_type": "display_data",
          "data": {
            "text/plain": [
              "<Figure size 432x288 with 1 Axes>"
            ],
            "image/png": "[encoded data removed]"
          },
          "metadata": {
            "needs_background": "light"
          }
        }
      ]
    },
    {
      "cell_type": "markdown",
      "source": [
        "<h4> Confusion Matrix"
      ],
      "metadata": {
        "id": "0Njx88vR5d8-"
      }
    },
    {
      "cell_type": "code",
      "source": [
        "def find_best_threshold(threshold,fpr,tpr):\n",
        "  t=threshold[np.argmax(tpr*(1-fpr))]\n",
        "  print(\"the maximum value of tpr*(1-fpr)\", max(tpr*(1-fpr)), \"for threshold\", np.round(t,3))\n",
        "  return t  \n",
        "\n",
        "def predict_with_best_t(proba, threshould):\n",
        "    predictions = []\n",
        "    for i in proba:\n",
        "        if i>=threshould:\n",
        "            predictions.append(1)\n",
        "        else:\n",
        "            predictions.append(0)\n",
        "    return predictions"
      ],
      "metadata": {
        "id": "PORLVW2F2-xa"
      },
      "execution_count": 40,
      "outputs": []
    },
    {
      "cell_type": "code",
      "source": [
        "from sklearn.metrics import confusion_matrix\n",
        "import seaborn as sns\n",
        "\n",
        "best_t = find_best_threshold(train_threshold,train_fpr,train_tpr)\n",
        "train_predictions = predict_with_best_t(y_train_pred,best_t)\n",
        "cm1= confusion_matrix(y_train,train_predictions)\n",
        "\n",
        "print(\"Train Data Confusion Matrix\")\n",
        "\n",
        "sns.heatmap(cm1, annot=True, fmt='d',cmap='GnBu',annot_kws = {\"size\":16})\n",
        "plt.ylabel('True Label',size=12)\n",
        "plt.xlabel('Predicted Label',size=12)\n",
        "plt.title('Train Data Confusion Matrix',size=12)"
      ],
      "metadata": {
        "id": "fHBkQDAj4Kx_",
        "colab": {
          "base_uri": "https://localhost:8080/",
          "height": 350
        },
        "outputId": "842ca0ee-23f9-4b43-8dfb-2f198256732f"
      },
      "execution_count": 43,
      "outputs": [
        {
          "output_type": "stream",
          "name": "stdout",
          "text": [
            "the maximum value of tpr*(1-fpr) 0.4897376774395234 for threshold 0.837\n",
            "Train Data Confusion Matrix\n"
          ]
        },
        {
          "output_type": "execute_result",
          "data": {
            "text/plain": [
              "Text(0.5, 1.0, 'Train Data Confusion Matrix')"
            ]
          },
          "metadata": {},
          "execution_count": 43
        },
        {
          "output_type": "display_data",
          "data": {
            "text/plain": [
              "<Figure size 432x288 with 2 Axes>"
            ],
            "image/png": "[encoded data removed]"
          },
          "metadata": {
            "needs_background": "light"
          }
        }
      ]
    },
    {
      "cell_type": "code",
      "source": [
        "best_t = find_best_threshold(test_threshold, test_fpr, test_tpr)\n",
        "test_predictions=predict_with_best_t(y_test_pred, best_t)\n",
        "cm=confusion_matrix(y_test, test_predictions) \n",
        "\n",
        "print(\"Test Data Confusion Matrix\")\n",
        "\n",
        "sns.heatmap(cm, annot=True, fmt='d',cmap='GnBu',annot_kws = {\"size\":16})\n",
        "plt.ylabel('True Label',size=12)\n",
        "plt.xlabel('Predicted Label',size=12)\n",
        "plt.title('Test Data Confusion Matrix',size=12)"
      ],
      "metadata": {
        "id": "F5pDt4cL5IrZ",
        "colab": {
          "base_uri": "https://localhost:8080/",
          "height": 350
        },
        "outputId": "6c2c15b6-905d-4975-9376-935b6e2cf7bc"
      },
      "execution_count": 44,
      "outputs": [
        {
          "output_type": "stream",
          "name": "stdout",
          "text": [
            "the maximum value of tpr*(1-fpr) 0.3661575383624117 for threshold 0.854\n",
            "Test Data Confusion Matrix\n"
          ]
        },
        {
          "output_type": "execute_result",
          "data": {
            "text/plain": [
              "Text(0.5, 1.0, 'Test Data Confusion Matrix')"
            ]
          },
          "metadata": {},
          "execution_count": 44
        },
        {
          "output_type": "display_data",
          "data": {
            "text/plain": [
              "<Figure size 432x288 with 2 Axes>"
            ],
            "image/png": "[encoded data removed]"
          },
          "metadata": {
            "needs_background": "light"
          }
        }
      ]
    },
    {
      "cell_type": "markdown",
      "source": [
        "<h3> Set 2"
      ],
      "metadata": {
        "id": "OEN1XC0f5rro"
      }
    },
    {
      "cell_type": "code",
      "source": [
        "from scipy.sparse import hstack\n",
        "from scipy import sparse\n",
        "X_train_set_2 = hstack((sparse.csr_matrix(tfidf_w2v_train)[0:24500,:],sparse.csr_matrix(X_train_teacher_prefix_rc)[0:24500,:],sparse.csr_matrix(X_train_grade_rc)[0:24500,:],sparse.csr_matrix(X_train_state_rc)[0:24500,:],sparse.csr_matrix(X_train_clean_categories_rc)[0:24500,:],sparse.csr_matrix(X_train_clean_subcategories_rc)[0:24500,:],sparse.csr_matrix(X_train_price)[0:24500,:],sparse.csr_matrix(X_train_teacher_projects)[0:24500,:],sparse.csr_matrix(X_train_s_negative)[0:24500,:],sparse.csr_matrix(X_train_s_positive)[0:24500,:],sparse.csr_matrix(X_train_s_neutral)[0:24500,:],sparse.csr_matrix(X_train_s_compound)[0:24500,:])).tocsr()\n",
        "X_test_set_2 = hstack((sparse.csr_matrix(tfidf_w2v_test)[0:10500,:],sparse.csr_matrix(X_test_teacher_prefix_rc)[0:10500,:],sparse.csr_matrix(X_test_grade_rc)[0:10500,:],sparse.csr_matrix(X_test_state_rc)[0:10500,:],sparse.csr_matrix(X_test_clean_categories_rc)[0:10500,:],sparse.csr_matrix(X_test_clean_subcategories_rc)[0:10500,:],sparse.csr_matrix(X_test_price)[0:10500,:],sparse.csr_matrix(X_test_teacher_projects)[0:10500,:],sparse.csr_matrix(X_test_s_negative)[0:10500,:],sparse.csr_matrix(X_test_s_positive)[0:10500,:],sparse.csr_matrix(X_test_s_neutral)[0:10500,:],sparse.csr_matrix(X_test_s_compound)[0:10500,:])).tocsr()\n",
        "\n",
        "print('Final Data Matrix')\n",
        "print(X_train_set_2.shape,y_train.shape)\n",
        "print(X_test_set_2.shape,y_test.shape)"
      ],
      "metadata": {
        "id": "omOiIgZa5v9x",
        "colab": {
          "base_uri": "https://localhost:8080/",
          "height": 0
        },
        "outputId": "d83bea1f-5514-4aa7-a01d-ce86a2bd3367"
      },
      "execution_count": 28,
      "outputs": [
        {
          "output_type": "stream",
          "name": "stdout",
          "text": [
            "Final Data Matrix\n",
            "(24500, 316) (24500,)\n",
            "(10500, 316) (10500,)\n"
          ]
        }
      ]
    },
    {
      "cell_type": "markdown",
      "source": [
        "<h4> Hyperparameter Tuning"
      ],
      "metadata": {
        "id": "UvhpDk636CK7"
      }
    },
    {
      "cell_type": "code",
      "source": [
        "from sklearn.model_selection import GridSearchCV\n",
        "from sklearn.ensemble import GradientBoostingClassifier\n",
        "import plotly.offline as offline\n",
        "import plotly.graph_objs as go\n",
        "import matplotlib.pyplot as plt\n",
        "from sklearn.metrics import roc_curve,auc\n",
        "from sklearn.metrics import confusion_matrix\n",
        "import seaborn as sns"
      ],
      "metadata": {
        "id": "MrygACnF_A_x"
      },
      "execution_count": 29,
      "outputs": []
    },
    {
      "cell_type": "code",
      "source": [
        "model = GradientBoostingClassifier()\n",
        "parameters= {\n",
        "    'max_depth' : [5, 10, 20],\n",
        "    'n_estimators' : [10, 25, 50]\n",
        "}\n",
        "clf_2= GridSearchCV(model,param_grid=parameters,cv=3,scoring= 'roc_auc',return_train_score=True)\n",
        "clf_2.fit(X_train_set_2,y_train)\n"
      ],
      "metadata": {
        "id": "g5LSn0Ql59IT",
        "colab": {
          "base_uri": "https://localhost:8080/",
          "height": 0
        },
        "outputId": "4793dd8e-1513-4c68-a5ce-09841775f084"
      },
      "execution_count": 32,
      "outputs": [
        {
          "output_type": "execute_result",
          "data": {
            "text/plain": [
              "GridSearchCV(cv=3, estimator=GradientBoostingClassifier(),\n",
              "             param_grid={'max_depth': [5, 10, 20],\n",
              "                         'n_estimators': [10, 25, 50]},\n",
              "             return_train_score=True, scoring='roc_auc')"
            ]
          },
          "metadata": {},
          "execution_count": 32
        }
      ]
    },
    {
      "cell_type": "code",
      "source": [
        "print('Best score : ',clf_2.best_score_ )\n",
        "print('Best parameters : ',clf_2.best_params_)"
      ],
      "metadata": {
        "id": "I9rIVbOl6MeS",
        "colab": {
          "base_uri": "https://localhost:8080/",
          "height": 0
        },
        "outputId": "f9fa1f01-2f64-4937-ad22-7c6a1f168285"
      },
      "execution_count": 33,
      "outputs": [
        {
          "output_type": "stream",
          "name": "stdout",
          "text": [
            "Best score :  0.6796642783721843\n",
            "Best parameters :  {'max_depth': 5, 'n_estimators': 50}\n"
          ]
        }
      ]
    },
    {
      "cell_type": "code",
      "source": [
        "train_auc = clf_2.cv_results_['mean_train_score']\n",
        "train_auc_std = clf_2.cv_results_['std_train_score']\n",
        "cv_auc = clf_2.cv_results_['mean_test_score']\n",
        "cv_auc_std = clf_2.cv_results_['std_test_score']"
      ],
      "metadata": {
        "id": "ASgWtiUP6NDr"
      },
      "execution_count": 34,
      "outputs": []
    },
    {
      "cell_type": "markdown",
      "source": [
        "<h4> 3D Plot"
      ],
      "metadata": {
        "id": "qV8evrXo6RmP"
      }
    },
    {
      "cell_type": "code",
      "source": [
        "max_depth=[5, 10, 20]\n",
        "n_estimators = [10, 25, 50]\n",
        "x1= n_estimators\n",
        "y1 = max_depth\n",
        "z1= train_auc\n",
        "z2 = cv_auc\n",
        "\n",
        "trace1 = go.Scatter3d(x=x1,y=y1,z=z1, name = 'Train')\n",
        "trace2 = go.Scatter3d(x=x1,y=y1,z=z2, name = 'Cross validation')\n",
        "data = [trace1, trace2]\n",
        "\n",
        "layout = go.Layout(scene = dict(\n",
        "        xaxis = dict(title='n_estimators'),\n",
        "        yaxis = dict(title='max_depth'),\n",
        "        zaxis = dict(title='AUC'),))\n",
        "\n",
        "fig = go.Figure(data=data, layout=layout)\n",
        "offline.iplot(fig, filename='3d-scatter-colorscale')\n",
        "fig.show()\n",
        "plt.show()"
      ],
      "metadata": {
        "id": "m78Tx34Y6N6d",
        "colab": {
          "base_uri": "https://localhost:8080/",
          "height": 1067
        },
        "outputId": "603f47ac-449d-4d29-fdcf-51132e22ba9b"
      },
      "execution_count": 35,
      "outputs": [
        {
          "output_type": "display_data",
          "data": {
            "text/html": [
              "<html>\n",
              "<head><meta charset=\"utf-8\" /></head>\n",
              "<body>\n",
              "    <div>            <script src=\"https://cdnjs.cloudflare.com/ajax/libs/mathjax/2.7.5/MathJax.js?config=TeX-AMS-MML_SVG\"></script><script type=\"text/javascript\">if (window.MathJax) {MathJax.Hub.Config({SVG: {font: \"STIX-Web\"}});}</script>                <script type=\"text/javascript\">window.PlotlyConfig = {MathJaxConfig: 'local'};</script>\n",
              "        <script src=\"https://cdn.plot.ly/plotly-2.8.3.min.js\"></script>                <div id=\"4bf396ce-c2e7-4a4f-b3d6-af6a0f110851\" class=\"plotly-graph-div\" style=\"height:525px; width:100%;\"></div>            <script type=\"text/javascript\">                                    window.PLOTLYENV=window.PLOTLYENV || {};                                    if (document.getElementById(\"4bf396ce-c2e7-4a4f-b3d6-af6a0f110851\")) {                    Plotly.newPlot(                        \"4bf396ce-c2e7-4a4f-b3d6-af6a0f110851\",                        [{\"name\":\"Train\",\"x\":[10,25,50],\"y\":[5,10,20],\"z\":[0.7845218353600115,0.8484560811920393,0.9052459517432894,0.9911081286979643,0.999960802040435,0.9999999428436345,0.9999996475357452,0.999999980947878,0.999999980947878],\"type\":\"scatter3d\"},{\"name\":\"Cross validation\",\"x\":[10,25,50],\"y\":[5,10,20],\"z\":[0.6559930043528076,0.6716762462702347,0.6796642783721843,0.6236605974719222,0.6476029362846581,0.6622182805307815,0.5718261419052132,0.6006402898418556,0.6226817029082542],\"type\":\"scatter3d\"}],                        {\"scene\":{\"xaxis\":{\"title\":{\"text\":\"n_estimators\"}},\"yaxis\":{\"title\":{\"text\":\"max_depth\"}},\"zaxis\":{\"title\":{\"text\":\"AUC\"}}},\"template\":{\"data\":{\"barpolar\":[{\"marker\":{\"line\":{\"color\":\"#E5ECF6\",\"width\":0.5},\"pattern\":{\"fillmode\":\"overlay\",\"size\":10,\"solidity\":0.2}},\"type\":\"barpolar\"}],\"bar\":[{\"error_x\":{\"color\":\"#2a3f5f\"},\"error_y\":{\"color\":\"#2a3f5f\"},\"marker\":{\"line\":{\"color\":\"#E5ECF6\",\"width\":0.5},\"pattern\":{\"fillmode\":\"overlay\",\"size\":10,\"solidity\":0.2}},\"type\":\"bar\"}],\"carpet\":[{\"aaxis\":{\"endlinecolor\":\"#2a3f5f\",\"gridcolor\":\"white\",\"linecolor\":\"white\",\"minorgridcolor\":\"white\",\"startlinecolor\":\"#2a3f5f\"},\"baxis\":{\"endlinecolor\":\"#2a3f5f\",\"gridcolor\":\"white\",\"linecolor\":\"white\",\"minorgridcolor\":\"white\",\"startlinecolor\":\"#2a3f5f\"},\"type\":\"carpet\"}],\"choropleth\":[{\"colorbar\":{\"outlinewidth\":0,\"ticks\":\"\"},\"type\":\"choropleth\"}],\"contourcarpet\":[{\"colorbar\":{\"outlinewidth\":0,\"ticks\":\"\"},\"type\":\"contourcarpet\"}],\"contour\":[{\"colorbar\":{\"outlinewidth\":0,\"ticks\":\"\"},\"colorscale\":[[0.0,\"#0d0887\"],[0.1111111111111111,\"#46039f\"],[0.2222222222222222,\"#7201a8\"],[0.3333333333333333,\"#9c179e\"],[0.4444444444444444,\"#bd3786\"],[0.5555555555555556,\"#d8576b\"],[0.6666666666666666,\"#ed7953\"],[0.7777777777777778,\"#fb9f3a\"],[0.8888888888888888,\"#fdca26\"],[1.0,\"#f0f921\"]],\"type\":\"contour\"}],\"heatmapgl\":[{\"colorbar\":{\"outlinewidth\":0,\"ticks\":\"\"},\"colorscale\":[[0.0,\"#0d0887\"],[0.1111111111111111,\"#46039f\"],[0.2222222222222222,\"#7201a8\"],[0.3333333333333333,\"#9c179e\"],[0.4444444444444444,\"#bd3786\"],[0.5555555555555556,\"#d8576b\"],[0.6666666666666666,\"#ed7953\"],[0.7777777777777778,\"#fb9f3a\"],[0.8888888888888888,\"#fdca26\"],[1.0,\"#f0f921\"]],\"type\":\"heatmapgl\"}],\"heatmap\":[{\"colorbar\":{\"outlinewidth\":0,\"ticks\":\"\"},\"colorscale\":[[0.0,\"#0d0887\"],[0.1111111111111111,\"#46039f\"],[0.2222222222222222,\"#7201a8\"],[0.3333333333333333,\"#9c179e\"],[0.4444444444444444,\"#bd3786\"],[0.5555555555555556,\"#d8576b\"],[0.6666666666666666,\"#ed7953\"],[0.7777777777777778,\"#fb9f3a\"],[0.8888888888888888,\"#fdca26\"],[1.0,\"#f0f921\"]],\"type\":\"heatmap\"}],\"histogram2dcontour\":[{\"colorbar\":{\"outlinewidth\":0,\"ticks\":\"\"},\"colorscale\":[[0.0,\"#0d0887\"],[0.1111111111111111,\"#46039f\"],[0.2222222222222222,\"#7201a8\"],[0.3333333333333333,\"#9c179e\"],[0.4444444444444444,\"#bd3786\"],[0.5555555555555556,\"#d8576b\"],[0.6666666666666666,\"#ed7953\"],[0.7777777777777778,\"#fb9f3a\"],[0.8888888888888888,\"#fdca26\"],[1.0,\"#f0f921\"]],\"type\":\"histogram2dcontour\"}],\"histogram2d\":[{\"colorbar\":{\"outlinewidth\":0,\"ticks\":\"\"},\"colorscale\":[[0.0,\"#0d0887\"],[0.1111111111111111,\"#46039f\"],[0.2222222222222222,\"#7201a8\"],[0.3333333333333333,\"#9c179e\"],[0.4444444444444444,\"#bd3786\"],[0.5555555555555556,\"#d8576b\"],[0.6666666666666666,\"#ed7953\"],[0.7777777777777778,\"#fb9f3a\"],[0.8888888888888888,\"#fdca26\"],[1.0,\"#f0f921\"]],\"type\":\"histogram2d\"}],\"histogram\":[{\"marker\":{\"pattern\":{\"fillmode\":\"overlay\",\"size\":10,\"solidity\":0.2}},\"type\":\"histogram\"}],\"mesh3d\":[{\"colorbar\":{\"outlinewidth\":0,\"ticks\":\"\"},\"type\":\"mesh3d\"}],\"parcoords\":[{\"line\":{\"colorbar\":{\"outlinewidth\":0,\"ticks\":\"\"}},\"type\":\"parcoords\"}],\"pie\":[{\"automargin\":true,\"type\":\"pie\"}],\"scatter3d\":[{\"line\":{\"colorbar\":{\"outlinewidth\":0,\"ticks\":\"\"}},\"marker\":{\"colorbar\":{\"outlinewidth\":0,\"ticks\":\"\"}},\"type\":\"scatter3d\"}],\"scattercarpet\":[{\"marker\":{\"colorbar\":{\"outlinewidth\":0,\"ticks\":\"\"}},\"type\":\"scattercarpet\"}],\"scattergeo\":[{\"marker\":{\"colorbar\":{\"outlinewidth\":0,\"ticks\":\"\"}},\"type\":\"scattergeo\"}],\"scattergl\":[{\"marker\":{\"colorbar\":{\"outlinewidth\":0,\"ticks\":\"\"}},\"type\":\"scattergl\"}],\"scattermapbox\":[{\"marker\":{\"colorbar\":{\"outlinewidth\":0,\"ticks\":\"\"}},\"type\":\"scattermapbox\"}],\"scatterpolargl\":[{\"marker\":{\"colorbar\":{\"outlinewidth\":0,\"ticks\":\"\"}},\"type\":\"scatterpolargl\"}],\"scatterpolar\":[{\"marker\":{\"colorbar\":{\"outlinewidth\":0,\"ticks\":\"\"}},\"type\":\"scatterpolar\"}],\"scatter\":[{\"marker\":{\"colorbar\":{\"outlinewidth\":0,\"ticks\":\"\"}},\"type\":\"scatter\"}],\"scatterternary\":[{\"marker\":{\"colorbar\":{\"outlinewidth\":0,\"ticks\":\"\"}},\"type\":\"scatterternary\"}],\"surface\":[{\"colorbar\":{\"outlinewidth\":0,\"ticks\":\"\"},\"colorscale\":[[0.0,\"#0d0887\"],[0.1111111111111111,\"#46039f\"],[0.2222222222222222,\"#7201a8\"],[0.3333333333333333,\"#9c179e\"],[0.4444444444444444,\"#bd3786\"],[0.5555555555555556,\"#d8576b\"],[0.6666666666666666,\"#ed7953\"],[0.7777777777777778,\"#fb9f3a\"],[0.8888888888888888,\"#fdca26\"],[1.0,\"#f0f921\"]],\"type\":\"surface\"}],\"table\":[{\"cells\":{\"fill\":{\"color\":\"#EBF0F8\"},\"line\":{\"color\":\"white\"}},\"header\":{\"fill\":{\"color\":\"#C8D4E3\"},\"line\":{\"color\":\"white\"}},\"type\":\"table\"}]},\"layout\":{\"annotationdefaults\":{\"arrowcolor\":\"#2a3f5f\",\"arrowhead\":0,\"arrowwidth\":1},\"autotypenumbers\":\"strict\",\"coloraxis\":{\"colorbar\":{\"outlinewidth\":0,\"ticks\":\"\"}},\"colorscale\":{\"diverging\":[[0,\"#8e0152\"],[0.1,\"#c51b7d\"],[0.2,\"#de77ae\"],[0.3,\"#f1b6da\"],[0.4,\"#fde0ef\"],[0.5,\"#f7f7f7\"],[0.6,\"#e6f5d0\"],[0.7,\"#b8e186\"],[0.8,\"#7fbc41\"],[0.9,\"#4d9221\"],[1,\"#276419\"]],\"sequential\":[[0.0,\"#0d0887\"],[0.1111111111111111,\"#46039f\"],[0.2222222222222222,\"#7201a8\"],[0.3333333333333333,\"#9c179e\"],[0.4444444444444444,\"#bd3786\"],[0.5555555555555556,\"#d8576b\"],[0.6666666666666666,\"#ed7953\"],[0.7777777777777778,\"#fb9f3a\"],[0.8888888888888888,\"#fdca26\"],[1.0,\"#f0f921\"]],\"sequentialminus\":[[0.0,\"#0d0887\"],[0.1111111111111111,\"#46039f\"],[0.2222222222222222,\"#7201a8\"],[0.3333333333333333,\"#9c179e\"],[0.4444444444444444,\"#bd3786\"],[0.5555555555555556,\"#d8576b\"],[0.6666666666666666,\"#ed7953\"],[0.7777777777777778,\"#fb9f3a\"],[0.8888888888888888,\"#fdca26\"],[1.0,\"#f0f921\"]]},\"colorway\":[\"#636efa\",\"#EF553B\",\"#00cc96\",\"#ab63fa\",\"#FFA15A\",\"#19d3f3\",\"#FF6692\",\"#B6E880\",\"#FF97FF\",\"#FECB52\"],\"font\":{\"color\":\"#2a3f5f\"},\"geo\":{\"bgcolor\":\"white\",\"lakecolor\":\"white\",\"landcolor\":\"#E5ECF6\",\"showlakes\":true,\"showland\":true,\"subunitcolor\":\"white\"},\"hoverlabel\":{\"align\":\"left\"},\"hovermode\":\"closest\",\"mapbox\":{\"style\":\"light\"},\"paper_bgcolor\":\"white\",\"plot_bgcolor\":\"#E5ECF6\",\"polar\":{\"angularaxis\":{\"gridcolor\":\"white\",\"linecolor\":\"white\",\"ticks\":\"\"},\"bgcolor\":\"#E5ECF6\",\"radialaxis\":{\"gridcolor\":\"white\",\"linecolor\":\"white\",\"ticks\":\"\"}},\"scene\":{\"xaxis\":{\"backgroundcolor\":\"#E5ECF6\",\"gridcolor\":\"white\",\"gridwidth\":2,\"linecolor\":\"white\",\"showbackground\":true,\"ticks\":\"\",\"zerolinecolor\":\"white\"},\"yaxis\":{\"backgroundcolor\":\"#E5ECF6\",\"gridcolor\":\"white\",\"gridwidth\":2,\"linecolor\":\"white\",\"showbackground\":true,\"ticks\":\"\",\"zerolinecolor\":\"white\"},\"zaxis\":{\"backgroundcolor\":\"#E5ECF6\",\"gridcolor\":\"white\",\"gridwidth\":2,\"linecolor\":\"white\",\"showbackground\":true,\"ticks\":\"\",\"zerolinecolor\":\"white\"}},\"shapedefaults\":{\"line\":{\"color\":\"#2a3f5f\"}},\"ternary\":{\"aaxis\":{\"gridcolor\":\"white\",\"linecolor\":\"white\",\"ticks\":\"\"},\"baxis\":{\"gridcolor\":\"white\",\"linecolor\":\"white\",\"ticks\":\"\"},\"bgcolor\":\"#E5ECF6\",\"caxis\":{\"gridcolor\":\"white\",\"linecolor\":\"white\",\"ticks\":\"\"}},\"title\":{\"x\":0.05},\"xaxis\":{\"automargin\":true,\"gridcolor\":\"white\",\"linecolor\":\"white\",\"ticks\":\"\",\"title\":{\"standoff\":15},\"zerolinecolor\":\"white\",\"zerolinewidth\":2},\"yaxis\":{\"automargin\":true,\"gridcolor\":\"white\",\"linecolor\":\"white\",\"ticks\":\"\",\"title\":{\"standoff\":15},\"zerolinecolor\":\"white\",\"zerolinewidth\":2}}}},                        {\"responsive\": true}                    ).then(function(){\n",
              "                            \n",
              "var gd = document.getElementById('4bf396ce-c2e7-4a4f-b3d6-af6a0f110851');\n",
              "var x = new MutationObserver(function (mutations, observer) {{\n",
              "        var display = window.getComputedStyle(gd).display;\n",
              "        if (!display || display === 'none') {{\n",
              "            console.log([gd, 'removed!']);\n",
              "            Plotly.purge(gd);\n",
              "            observer.disconnect();\n",
              "        }}\n",
              "}});\n",
              "\n",
              "// Listen for the removal of the full notebook cells\n",
              "var notebookContainer = gd.closest('#notebook-container');\n",
              "if (notebookContainer) {{\n",
              "    x.observe(notebookContainer, {childList: true});\n",
              "}}\n",
              "\n",
              "// Listen for the clearing of the current output cell\n",
              "var outputEl = gd.closest('.output');\n",
              "if (outputEl) {{\n",
              "    x.observe(outputEl, {childList: true});\n",
              "}}\n",
              "\n",
              "                        })                };                            </script>        </div>\n",
              "</body>\n",
              "</html>"
            ]
          },
          "metadata": {}
        },
        {
          "output_type": "display_data",
          "data": {
            "text/html": [
              "<html>\n",
              "<head><meta charset=\"utf-8\" /></head>\n",
              "<body>\n",
              "    <div>            <script src=\"https://cdnjs.cloudflare.com/ajax/libs/mathjax/2.7.5/MathJax.js?config=TeX-AMS-MML_SVG\"></script><script type=\"text/javascript\">if (window.MathJax) {MathJax.Hub.Config({SVG: {font: \"STIX-Web\"}});}</script>                <script type=\"text/javascript\">window.PlotlyConfig = {MathJaxConfig: 'local'};</script>\n",
              "        <script src=\"https://cdn.plot.ly/plotly-2.8.3.min.js\"></script>                <div id=\"598e0336-6c8b-433a-96e9-0353fdd35ed9\" class=\"plotly-graph-div\" style=\"height:525px; width:100%;\"></div>            <script type=\"text/javascript\">                                    window.PLOTLYENV=window.PLOTLYENV || {};                                    if (document.getElementById(\"598e0336-6c8b-433a-96e9-0353fdd35ed9\")) {                    Plotly.newPlot(                        \"598e0336-6c8b-433a-96e9-0353fdd35ed9\",                        [{\"name\":\"Train\",\"x\":[10,25,50],\"y\":[5,10,20],\"z\":[0.7845218353600115,0.8484560811920393,0.9052459517432894,0.9911081286979643,0.999960802040435,0.9999999428436345,0.9999996475357452,0.999999980947878,0.999999980947878],\"type\":\"scatter3d\"},{\"name\":\"Cross validation\",\"x\":[10,25,50],\"y\":[5,10,20],\"z\":[0.6559930043528076,0.6716762462702347,0.6796642783721843,0.6236605974719222,0.6476029362846581,0.6622182805307815,0.5718261419052132,0.6006402898418556,0.6226817029082542],\"type\":\"scatter3d\"}],                        {\"scene\":{\"xaxis\":{\"title\":{\"text\":\"n_estimators\"}},\"yaxis\":{\"title\":{\"text\":\"max_depth\"}},\"zaxis\":{\"title\":{\"text\":\"AUC\"}}},\"template\":{\"data\":{\"bar\":[{\"error_x\":{\"color\":\"#2a3f5f\"},\"error_y\":{\"color\":\"#2a3f5f\"},\"marker\":{\"line\":{\"color\":\"#E5ECF6\",\"width\":0.5},\"pattern\":{\"fillmode\":\"overlay\",\"size\":10,\"solidity\":0.2}},\"type\":\"bar\"}],\"barpolar\":[{\"marker\":{\"line\":{\"color\":\"#E5ECF6\",\"width\":0.5},\"pattern\":{\"fillmode\":\"overlay\",\"size\":10,\"solidity\":0.2}},\"type\":\"barpolar\"}],\"carpet\":[{\"aaxis\":{\"endlinecolor\":\"#2a3f5f\",\"gridcolor\":\"white\",\"linecolor\":\"white\",\"minorgridcolor\":\"white\",\"startlinecolor\":\"#2a3f5f\"},\"baxis\":{\"endlinecolor\":\"#2a3f5f\",\"gridcolor\":\"white\",\"linecolor\":\"white\",\"minorgridcolor\":\"white\",\"startlinecolor\":\"#2a3f5f\"},\"type\":\"carpet\"}],\"choropleth\":[{\"colorbar\":{\"outlinewidth\":0,\"ticks\":\"\"},\"type\":\"choropleth\"}],\"contour\":[{\"colorbar\":{\"outlinewidth\":0,\"ticks\":\"\"},\"colorscale\":[[0.0,\"#0d0887\"],[0.1111111111111111,\"#46039f\"],[0.2222222222222222,\"#7201a8\"],[0.3333333333333333,\"#9c179e\"],[0.4444444444444444,\"#bd3786\"],[0.5555555555555556,\"#d8576b\"],[0.6666666666666666,\"#ed7953\"],[0.7777777777777778,\"#fb9f3a\"],[0.8888888888888888,\"#fdca26\"],[1.0,\"#f0f921\"]],\"type\":\"contour\"}],\"contourcarpet\":[{\"colorbar\":{\"outlinewidth\":0,\"ticks\":\"\"},\"type\":\"contourcarpet\"}],\"heatmap\":[{\"colorbar\":{\"outlinewidth\":0,\"ticks\":\"\"},\"colorscale\":[[0.0,\"#0d0887\"],[0.1111111111111111,\"#46039f\"],[0.2222222222222222,\"#7201a8\"],[0.3333333333333333,\"#9c179e\"],[0.4444444444444444,\"#bd3786\"],[0.5555555555555556,\"#d8576b\"],[0.6666666666666666,\"#ed7953\"],[0.7777777777777778,\"#fb9f3a\"],[0.8888888888888888,\"#fdca26\"],[1.0,\"#f0f921\"]],\"type\":\"heatmap\"}],\"heatmapgl\":[{\"colorbar\":{\"outlinewidth\":0,\"ticks\":\"\"},\"colorscale\":[[0.0,\"#0d0887\"],[0.1111111111111111,\"#46039f\"],[0.2222222222222222,\"#7201a8\"],[0.3333333333333333,\"#9c179e\"],[0.4444444444444444,\"#bd3786\"],[0.5555555555555556,\"#d8576b\"],[0.6666666666666666,\"#ed7953\"],[0.7777777777777778,\"#fb9f3a\"],[0.8888888888888888,\"#fdca26\"],[1.0,\"#f0f921\"]],\"type\":\"heatmapgl\"}],\"histogram\":[{\"marker\":{\"pattern\":{\"fillmode\":\"overlay\",\"size\":10,\"solidity\":0.2}},\"type\":\"histogram\"}],\"histogram2d\":[{\"colorbar\":{\"outlinewidth\":0,\"ticks\":\"\"},\"colorscale\":[[0.0,\"#0d0887\"],[0.1111111111111111,\"#46039f\"],[0.2222222222222222,\"#7201a8\"],[0.3333333333333333,\"#9c179e\"],[0.4444444444444444,\"#bd3786\"],[0.5555555555555556,\"#d8576b\"],[0.6666666666666666,\"#ed7953\"],[0.7777777777777778,\"#fb9f3a\"],[0.8888888888888888,\"#fdca26\"],[1.0,\"#f0f921\"]],\"type\":\"histogram2d\"}],\"histogram2dcontour\":[{\"colorbar\":{\"outlinewidth\":0,\"ticks\":\"\"},\"colorscale\":[[0.0,\"#0d0887\"],[0.1111111111111111,\"#46039f\"],[0.2222222222222222,\"#7201a8\"],[0.3333333333333333,\"#9c179e\"],[0.4444444444444444,\"#bd3786\"],[0.5555555555555556,\"#d8576b\"],[0.6666666666666666,\"#ed7953\"],[0.7777777777777778,\"#fb9f3a\"],[0.8888888888888888,\"#fdca26\"],[1.0,\"#f0f921\"]],\"type\":\"histogram2dcontour\"}],\"mesh3d\":[{\"colorbar\":{\"outlinewidth\":0,\"ticks\":\"\"},\"type\":\"mesh3d\"}],\"parcoords\":[{\"line\":{\"colorbar\":{\"outlinewidth\":0,\"ticks\":\"\"}},\"type\":\"parcoords\"}],\"pie\":[{\"automargin\":true,\"type\":\"pie\"}],\"scatter\":[{\"marker\":{\"colorbar\":{\"outlinewidth\":0,\"ticks\":\"\"}},\"type\":\"scatter\"}],\"scatter3d\":[{\"line\":{\"colorbar\":{\"outlinewidth\":0,\"ticks\":\"\"}},\"marker\":{\"colorbar\":{\"outlinewidth\":0,\"ticks\":\"\"}},\"type\":\"scatter3d\"}],\"scattercarpet\":[{\"marker\":{\"colorbar\":{\"outlinewidth\":0,\"ticks\":\"\"}},\"type\":\"scattercarpet\"}],\"scattergeo\":[{\"marker\":{\"colorbar\":{\"outlinewidth\":0,\"ticks\":\"\"}},\"type\":\"scattergeo\"}],\"scattergl\":[{\"marker\":{\"colorbar\":{\"outlinewidth\":0,\"ticks\":\"\"}},\"type\":\"scattergl\"}],\"scattermapbox\":[{\"marker\":{\"colorbar\":{\"outlinewidth\":0,\"ticks\":\"\"}},\"type\":\"scattermapbox\"}],\"scatterpolar\":[{\"marker\":{\"colorbar\":{\"outlinewidth\":0,\"ticks\":\"\"}},\"type\":\"scatterpolar\"}],\"scatterpolargl\":[{\"marker\":{\"colorbar\":{\"outlinewidth\":0,\"ticks\":\"\"}},\"type\":\"scatterpolargl\"}],\"scatterternary\":[{\"marker\":{\"colorbar\":{\"outlinewidth\":0,\"ticks\":\"\"}},\"type\":\"scatterternary\"}],\"surface\":[{\"colorbar\":{\"outlinewidth\":0,\"ticks\":\"\"},\"colorscale\":[[0.0,\"#0d0887\"],[0.1111111111111111,\"#46039f\"],[0.2222222222222222,\"#7201a8\"],[0.3333333333333333,\"#9c179e\"],[0.4444444444444444,\"#bd3786\"],[0.5555555555555556,\"#d8576b\"],[0.6666666666666666,\"#ed7953\"],[0.7777777777777778,\"#fb9f3a\"],[0.8888888888888888,\"#fdca26\"],[1.0,\"#f0f921\"]],\"type\":\"surface\"}],\"table\":[{\"cells\":{\"fill\":{\"color\":\"#EBF0F8\"},\"line\":{\"color\":\"white\"}},\"header\":{\"fill\":{\"color\":\"#C8D4E3\"},\"line\":{\"color\":\"white\"}},\"type\":\"table\"}]},\"layout\":{\"annotationdefaults\":{\"arrowcolor\":\"#2a3f5f\",\"arrowhead\":0,\"arrowwidth\":1},\"autotypenumbers\":\"strict\",\"coloraxis\":{\"colorbar\":{\"outlinewidth\":0,\"ticks\":\"\"}},\"colorscale\":{\"diverging\":[[0,\"#8e0152\"],[0.1,\"#c51b7d\"],[0.2,\"#de77ae\"],[0.3,\"#f1b6da\"],[0.4,\"#fde0ef\"],[0.5,\"#f7f7f7\"],[0.6,\"#e6f5d0\"],[0.7,\"#b8e186\"],[0.8,\"#7fbc41\"],[0.9,\"#4d9221\"],[1,\"#276419\"]],\"sequential\":[[0.0,\"#0d0887\"],[0.1111111111111111,\"#46039f\"],[0.2222222222222222,\"#7201a8\"],[0.3333333333333333,\"#9c179e\"],[0.4444444444444444,\"#bd3786\"],[0.5555555555555556,\"#d8576b\"],[0.6666666666666666,\"#ed7953\"],[0.7777777777777778,\"#fb9f3a\"],[0.8888888888888888,\"#fdca26\"],[1.0,\"#f0f921\"]],\"sequentialminus\":[[0.0,\"#0d0887\"],[0.1111111111111111,\"#46039f\"],[0.2222222222222222,\"#7201a8\"],[0.3333333333333333,\"#9c179e\"],[0.4444444444444444,\"#bd3786\"],[0.5555555555555556,\"#d8576b\"],[0.6666666666666666,\"#ed7953\"],[0.7777777777777778,\"#fb9f3a\"],[0.8888888888888888,\"#fdca26\"],[1.0,\"#f0f921\"]]},\"colorway\":[\"#636efa\",\"#EF553B\",\"#00cc96\",\"#ab63fa\",\"#FFA15A\",\"#19d3f3\",\"#FF6692\",\"#B6E880\",\"#FF97FF\",\"#FECB52\"],\"font\":{\"color\":\"#2a3f5f\"},\"geo\":{\"bgcolor\":\"white\",\"lakecolor\":\"white\",\"landcolor\":\"#E5ECF6\",\"showlakes\":true,\"showland\":true,\"subunitcolor\":\"white\"},\"hoverlabel\":{\"align\":\"left\"},\"hovermode\":\"closest\",\"mapbox\":{\"style\":\"light\"},\"paper_bgcolor\":\"white\",\"plot_bgcolor\":\"#E5ECF6\",\"polar\":{\"angularaxis\":{\"gridcolor\":\"white\",\"linecolor\":\"white\",\"ticks\":\"\"},\"bgcolor\":\"#E5ECF6\",\"radialaxis\":{\"gridcolor\":\"white\",\"linecolor\":\"white\",\"ticks\":\"\"}},\"scene\":{\"xaxis\":{\"backgroundcolor\":\"#E5ECF6\",\"gridcolor\":\"white\",\"gridwidth\":2,\"linecolor\":\"white\",\"showbackground\":true,\"ticks\":\"\",\"zerolinecolor\":\"white\"},\"yaxis\":{\"backgroundcolor\":\"#E5ECF6\",\"gridcolor\":\"white\",\"gridwidth\":2,\"linecolor\":\"white\",\"showbackground\":true,\"ticks\":\"\",\"zerolinecolor\":\"white\"},\"zaxis\":{\"backgroundcolor\":\"#E5ECF6\",\"gridcolor\":\"white\",\"gridwidth\":2,\"linecolor\":\"white\",\"showbackground\":true,\"ticks\":\"\",\"zerolinecolor\":\"white\"}},\"shapedefaults\":{\"line\":{\"color\":\"#2a3f5f\"}},\"ternary\":{\"aaxis\":{\"gridcolor\":\"white\",\"linecolor\":\"white\",\"ticks\":\"\"},\"baxis\":{\"gridcolor\":\"white\",\"linecolor\":\"white\",\"ticks\":\"\"},\"bgcolor\":\"#E5ECF6\",\"caxis\":{\"gridcolor\":\"white\",\"linecolor\":\"white\",\"ticks\":\"\"}},\"title\":{\"x\":0.05},\"xaxis\":{\"automargin\":true,\"gridcolor\":\"white\",\"linecolor\":\"white\",\"ticks\":\"\",\"title\":{\"standoff\":15},\"zerolinecolor\":\"white\",\"zerolinewidth\":2},\"yaxis\":{\"automargin\":true,\"gridcolor\":\"white\",\"linecolor\":\"white\",\"ticks\":\"\",\"title\":{\"standoff\":15},\"zerolinecolor\":\"white\",\"zerolinewidth\":2}}}},                        {\"responsive\": true}                    ).then(function(){\n",
              "                            \n",
              "var gd = document.getElementById('598e0336-6c8b-433a-96e9-0353fdd35ed9');\n",
              "var x = new MutationObserver(function (mutations, observer) {{\n",
              "        var display = window.getComputedStyle(gd).display;\n",
              "        if (!display || display === 'none') {{\n",
              "            console.log([gd, 'removed!']);\n",
              "            Plotly.purge(gd);\n",
              "            observer.disconnect();\n",
              "        }}\n",
              "}});\n",
              "\n",
              "// Listen for the removal of the full notebook cells\n",
              "var notebookContainer = gd.closest('#notebook-container');\n",
              "if (notebookContainer) {{\n",
              "    x.observe(notebookContainer, {childList: true});\n",
              "}}\n",
              "\n",
              "// Listen for the clearing of the current output cell\n",
              "var outputEl = gd.closest('.output');\n",
              "if (outputEl) {{\n",
              "    x.observe(outputEl, {childList: true});\n",
              "}}\n",
              "\n",
              "                        })                };                            </script>        </div>\n",
              "</body>\n",
              "</html>"
            ]
          },
          "metadata": {}
        }
      ]
    },
    {
      "cell_type": "markdown",
      "source": [
        "<h4> ROC-AUC Curve"
      ],
      "metadata": {
        "id": "79yA2yT56sJj"
      }
    },
    {
      "cell_type": "code",
      "source": [
        "gbdt = GradientBoostingClassifier(max_depth= 5 , n_estimators=50 )\n",
        "clf_2 = gbdt.fit(X_train_set_2,y_train)\n",
        "\n",
        "y_train_pred = clf_2.predict_proba(X_train_set_2)[:,1]\n",
        "y_test_pred = clf_2.predict_proba(X_test_set_2)[:,1]\n",
        "\n",
        "train_fpr,train_tpr,train_threshold = roc_curve(y_train,y_train_pred)\n",
        "test_fpr,test_tpr,test_threshold = roc_curve(y_test,y_test_pred)\n",
        "\n",
        "Train_auc = auc(train_fpr,train_tpr)\n",
        "Test_auc = auc (test_fpr,test_tpr)\n",
        "\n",
        "plt.plot(train_fpr,train_tpr,label= 'Train AUC = '+str(Train_auc))\n",
        "plt.plot(test_fpr,test_tpr,label= 'Test AUC = '+str(Test_auc))\n",
        "plt.legend()\n",
        "plt.xlabel('False Positive Rate')\n",
        "plt.ylabel('True Positive Rate')\n",
        "plt.title('ROC-AUC Curve')\n",
        "plt.show()"
      ],
      "metadata": {
        "id": "SXVYnZM96N37",
        "colab": {
          "base_uri": "https://localhost:8080/",
          "height": 295
        },
        "outputId": "126f2451-bcc9-41a1-f076-9119be0dc40e"
      },
      "execution_count": 38,
      "outputs": [
        {
          "output_type": "display_data",
          "data": {
            "text/plain": [
              "<Figure size 432x288 with 1 Axes>"
            ],
            "image/png": "[encoded data removed]"
          },
          "metadata": {
            "needs_background": "light"
          }
        }
      ]
    },
    {
      "cell_type": "markdown",
      "source": [
        "<h4> Confusion Matrix"
      ],
      "metadata": {
        "id": "vRDy51fF61ls"
      }
    },
    {
      "cell_type": "code",
      "source": [
        "best_t = find_best_threshold(train_threshold,train_fpr,train_tpr)\n",
        "train_predictions = predict_with_best_t(y_train_pred,best_t)\n",
        "cm1= confusion_matrix(y_train,train_predictions)\n",
        "\n",
        "print(\"Train Data Confusion Matrix\")\n",
        "\n",
        "sns.heatmap(cm1, annot=True, fmt='d',cmap='GnBu',annot_kws = {\"size\":16})\n",
        "plt.ylabel('True Label',size=12)\n",
        "plt.xlabel('Predicted Label',size=12)\n",
        "plt.title('Train Data Confusion Matrix',size=12)"
      ],
      "metadata": {
        "id": "Sw16T4Ah6N1A",
        "colab": {
          "base_uri": "https://localhost:8080/",
          "height": 350
        },
        "outputId": "788dfa20-4980-4ef0-d625-cdb899517a44"
      },
      "execution_count": 42,
      "outputs": [
        {
          "output_type": "stream",
          "name": "stdout",
          "text": [
            "the maximum value of tpr*(1-fpr) 0.60961896523053 for threshold 0.822\n",
            "Train Data Confusion Matrix\n"
          ]
        },
        {
          "output_type": "execute_result",
          "data": {
            "text/plain": [
              "Text(0.5, 1.0, 'Train Data Confusion Matrix')"
            ]
          },
          "metadata": {},
          "execution_count": 42
        },
        {
          "output_type": "display_data",
          "data": {
            "text/plain": [
              "<Figure size 432x288 with 2 Axes>"
            ],
            "image/png": "[encoded data removed]"
          },
          "metadata": {
            "needs_background": "light"
          }
        }
      ]
    },
    {
      "cell_type": "code",
      "source": [
        "best_t = find_best_threshold(test_threshold, test_fpr, test_tpr)\n",
        "test_predictions=predict_with_best_t(y_test_pred, best_t)\n",
        "cm=confusion_matrix(y_test, test_predictions) \n",
        "\n",
        "print(\"Test Data Confusion Matrix\")\n",
        "\n",
        "sns.heatmap(cm, annot=True, fmt='d',cmap='GnBu',annot_kws = {\"size\":16})\n",
        "plt.ylabel('True Label',size=12)\n",
        "plt.xlabel('Predicted Label',size=12)\n",
        "plt.title('Test Data Confusion Matrix',size=12)"
      ],
      "metadata": {
        "id": "AeM9rgrC6Nwm",
        "colab": {
          "base_uri": "https://localhost:8080/",
          "height": 350
        },
        "outputId": "97a9d12d-0556-4f2c-de48-c88a01caacc9"
      },
      "execution_count": 43,
      "outputs": [
        {
          "output_type": "stream",
          "name": "stdout",
          "text": [
            "the maximum value of tpr*(1-fpr) 0.4024058333028689 for threshold 0.849\n",
            "Test Data Confusion Matrix\n"
          ]
        },
        {
          "output_type": "execute_result",
          "data": {
            "text/plain": [
              "Text(0.5, 1.0, 'Test Data Confusion Matrix')"
            ]
          },
          "metadata": {},
          "execution_count": 43
        },
        {
          "output_type": "display_data",
          "data": {
            "text/plain": [
              "<Figure size 432x288 with 2 Axes>"
            ],
            "image/png": "[encoded data removed]"
          },
          "metadata": {
            "needs_background": "light"
          }
        }
      ]
    },
    {
      "cell_type": "markdown",
      "metadata": {
        "id": "YhFN-lDWsc4G"
      },
      "source": [
        "<h1>3. Summary</h1>\n",
        "\n",
        "<br> as mentioned in the step 4 of instructions"
      ]
    },
    {
      "cell_type": "code",
      "source": [
        "from prettytable import PrettyTable\n",
        "from prettytable import ALL\n",
        "table =PrettyTable(hrules=ALL)\n",
        "table.field_names= ['SL. NO','Vectorizer','Model','Hyperparameter','Test-AUC']\n",
        "table.add_row([1,'TF-IDF','GBDT ','max_depth= 5, n_estimators= 20','0.6534'])\n",
        "table.add_row([2,'TF-IDF W2V','GBDT','max_depth= 5, n_estimators= 50','0.6826'])\n",
        "print(table)"
      ],
      "metadata": {
        "id": "6xP3aR8N7dZc",
        "colab": {
          "base_uri": "https://localhost:8080/",
          "height": 0
        },
        "outputId": "61875137-4b47-4b76-fbe2-3e3a9be4a23a"
      },
      "execution_count": 46,
      "outputs": [
        {
          "output_type": "stream",
          "name": "stdout",
          "text": [
            "+--------+------------+-------+--------------------------------+----------+\n",
            "| SL. NO | Vectorizer | Model |         Hyperparameter         | Test-AUC |\n",
            "+--------+------------+-------+--------------------------------+----------+\n",
            "|   1    |   TF-IDF   | GBDT  | max_depth= 5, n_estimators= 20 |  0.6534  |\n",
            "+--------+------------+-------+--------------------------------+----------+\n",
            "|   2    | TF-IDF W2V |  GBDT | max_depth= 5, n_estimators= 50 |  0.6826  |\n",
            "+--------+------------+-------+--------------------------------+----------+\n"
          ]
        }
      ]
    }
  ],
  "metadata": {
    "colab": {
      "collapsed_sections": [],
      "name": " Assignment_GBDT_Instructions.ipynb",
      "provenance": []
    },
    "kernelspec": {
      "display_name": "Python 3",
      "language": "python",
      "name": "python3"
    },
    "language_info": {
      "codemirror_mode": {
        "name": "ipython",
        "version": 3
      },
      "file_extension": ".py",
      "mimetype": "text/x-python",
      "name": "python",
      "nbconvert_exporter": "python",
      "pygments_lexer": "ipython3",
      "version": "3.6.3"
    }
  },
  "nbformat": 4,
  "nbformat_minor": 0
}